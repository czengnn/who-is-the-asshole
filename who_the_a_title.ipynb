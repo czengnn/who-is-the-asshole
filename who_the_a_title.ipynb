{
 "cells": [
  {
   "cell_type": "code",
   "execution_count": 3,
   "metadata": {},
   "outputs": [],
   "source": [
    "import numpy as np \n",
    "import pandas as pd \n",
    "import matplotlib.pyplot as plt\n",
    "plt.style.use('dark_background')\n",
    "import seaborn as sns\n",
    "\n",
    "import nltk\n",
    "# nltk.download('stopwords')\n",
    "from nltk.corpus import stopwords\n",
    "import pickle \n",
    "\n",
    "from sklearn.feature_extraction.text import CountVectorizer\n",
    "from sklearn.model_selection import train_test_split, cross_val_score\n",
    "from sklearn.metrics import classification_report, confusion_matrix, accuracy_score, f1_score\n",
    "from sklearn.naive_bayes import MultinomialNB\n",
    "\n",
    "from sklearn.linear_model import LogisticRegression\n",
    "from sklearn.ensemble import RandomForestClassifier\n",
    "from sklearn.decomposition import PCA, IncrementalPCA"
   ]
  },
  {
   "cell_type": "code",
   "execution_count": 8,
   "metadata": {},
   "outputs": [
    {
     "data": {
      "text/html": [
       "<div>\n",
       "<style scoped>\n",
       "    .dataframe tbody tr th:only-of-type {\n",
       "        vertical-align: middle;\n",
       "    }\n",
       "\n",
       "    .dataframe tbody tr th {\n",
       "        vertical-align: top;\n",
       "    }\n",
       "\n",
       "    .dataframe thead th {\n",
       "        text-align: right;\n",
       "    }\n",
       "</style>\n",
       "<table border=\"1\" class=\"dataframe\">\n",
       "  <thead>\n",
       "    <tr style=\"text-align: right;\">\n",
       "      <th></th>\n",
       "      <th>title_polarity</th>\n",
       "      <th>title_subjectivity</th>\n",
       "      <th>title_clean</th>\n",
       "      <th>is_asshole</th>\n",
       "    </tr>\n",
       "  </thead>\n",
       "  <tbody>\n",
       "    <tr>\n",
       "      <th>0</th>\n",
       "      <td>0.0</td>\n",
       "      <td>0.0</td>\n",
       "      <td>I write an explanation in til and come off a...</td>\n",
       "      <td>1</td>\n",
       "    </tr>\n",
       "    <tr>\n",
       "      <th>1</th>\n",
       "      <td>0.0</td>\n",
       "      <td>0.0</td>\n",
       "      <td>throw my parent donut away</td>\n",
       "      <td>1</td>\n",
       "    </tr>\n",
       "    <tr>\n",
       "      <th>2</th>\n",
       "      <td>0.0</td>\n",
       "      <td>0.0</td>\n",
       "      <td>I tell a goth girl she look like a clown</td>\n",
       "      <td>0</td>\n",
       "    </tr>\n",
       "    <tr>\n",
       "      <th>3</th>\n",
       "      <td>0.0</td>\n",
       "      <td>0.0</td>\n",
       "      <td>argument I have with another redditor in rhimym</td>\n",
       "      <td>1</td>\n",
       "    </tr>\n",
       "    <tr>\n",
       "      <th>4</th>\n",
       "      <td>0.0</td>\n",
       "      <td>0.0</td>\n",
       "      <td>have a disagreement about le miserable with ...</td>\n",
       "      <td>1</td>\n",
       "    </tr>\n",
       "    <tr>\n",
       "      <th>...</th>\n",
       "      <td>...</td>\n",
       "      <td>...</td>\n",
       "      <td>...</td>\n",
       "      <td>...</td>\n",
       "    </tr>\n",
       "    <tr>\n",
       "      <th>97493</th>\n",
       "      <td>0.0</td>\n",
       "      <td>0.0</td>\n",
       "      <td>for tell my sister she be be a spoiled brat</td>\n",
       "      <td>0</td>\n",
       "    </tr>\n",
       "    <tr>\n",
       "      <th>97494</th>\n",
       "      <td>0.0</td>\n",
       "      <td>0.0</td>\n",
       "      <td>for tell my husband to f off after he relent...</td>\n",
       "      <td>0</td>\n",
       "    </tr>\n",
       "    <tr>\n",
       "      <th>97495</th>\n",
       "      <td>0.1</td>\n",
       "      <td>0.3</td>\n",
       "      <td>for attempt to keep my student out of adult ...</td>\n",
       "      <td>0</td>\n",
       "    </tr>\n",
       "    <tr>\n",
       "      <th>97496</th>\n",
       "      <td>0.0</td>\n",
       "      <td>0.0</td>\n",
       "      <td>if I leave my brother fate up to the state</td>\n",
       "      <td>0</td>\n",
       "    </tr>\n",
       "    <tr>\n",
       "      <th>97497</th>\n",
       "      <td>0.0</td>\n",
       "      <td>0.0</td>\n",
       "      <td>for rock the boat at work because my mentor ...</td>\n",
       "      <td>0</td>\n",
       "    </tr>\n",
       "  </tbody>\n",
       "</table>\n",
       "<p>97498 rows × 4 columns</p>\n",
       "</div>"
      ],
      "text/plain": [
       "       title_polarity  title_subjectivity  \\\n",
       "0                 0.0                 0.0   \n",
       "1                 0.0                 0.0   \n",
       "2                 0.0                 0.0   \n",
       "3                 0.0                 0.0   \n",
       "4                 0.0                 0.0   \n",
       "...               ...                 ...   \n",
       "97493             0.0                 0.0   \n",
       "97494             0.0                 0.0   \n",
       "97495             0.1                 0.3   \n",
       "97496             0.0                 0.0   \n",
       "97497             0.0                 0.0   \n",
       "\n",
       "                                             title_clean  is_asshole  \n",
       "0        I write an explanation in til and come off a...           1  \n",
       "1                             throw my parent donut away           1  \n",
       "2               I tell a goth girl she look like a clown           0  \n",
       "3        argument I have with another redditor in rhimym           1  \n",
       "4        have a disagreement about le miserable with ...           1  \n",
       "...                                                  ...         ...  \n",
       "97493        for tell my sister she be be a spoiled brat           0  \n",
       "97494    for tell my husband to f off after he relent...           0  \n",
       "97495    for attempt to keep my student out of adult ...           0  \n",
       "97496         if I leave my brother fate up to the state           0  \n",
       "97497    for rock the boat at work because my mentor ...           0  \n",
       "\n",
       "[97498 rows x 4 columns]"
      ]
     },
     "execution_count": 8,
     "metadata": {},
     "output_type": "execute_result"
    }
   ],
   "source": [
    "aita_2 = pd.read_csv('data/aita_save2.csv')\n",
    "aita = aita_2.loc[:,['title_polarity','title_subjectivity','title_clean','is_asshole']]\n",
    "aita.dropna(inplace=True)\n",
    "aita.reset_index(drop=True)"
   ]
  },
  {
   "cell_type": "markdown",
   "metadata": {},
   "source": [
    "## 1 - Save features X and labels y, train test split"
   ]
  },
  {
   "cell_type": "code",
   "execution_count": 9,
   "metadata": {},
   "outputs": [],
   "source": [
    "X = aita.drop('is_asshole', axis=1)\n",
    "y = aita['is_asshole']\n",
    "X_train, X_test, y_train, y_test = train_test_split(X, y, stratify=y, test_size=0.01, random_state=11)"
   ]
  },
  {
   "cell_type": "code",
   "execution_count": 10,
   "metadata": {},
   "outputs": [
    {
     "data": {
      "text/plain": [
       "((96523, 3), (975, 3))"
      ]
     },
     "execution_count": 10,
     "metadata": {},
     "output_type": "execute_result"
    }
   ],
   "source": [
    "X_train.shape, X_test.shape"
   ]
  },
  {
   "cell_type": "markdown",
   "metadata": {},
   "source": [
    "## 2 - Instantiate CountVectorizer "
   ]
  },
  {
   "cell_type": "code",
   "execution_count": 26,
   "metadata": {},
   "outputs": [],
   "source": [
    "stop = set(stopwords.words('english'))\n",
    "vec = CountVectorizer(stop_words=stop, min_df=25, max_df=0.8, ngram_range=(1, 2))\n",
    "cv = vec.fit(X_train['title_clean'])"
   ]
  },
  {
   "cell_type": "code",
   "execution_count": 27,
   "metadata": {},
   "outputs": [
    {
     "data": {
      "text/plain": [
       "3215"
      ]
     },
     "execution_count": 27,
     "metadata": {},
     "output_type": "execute_result"
    }
   ],
   "source": [
    "len(vec.get_feature_names())"
   ]
  },
  {
   "cell_type": "markdown",
   "metadata": {},
   "source": [
    "#### Save fitted CountVectorizer to use later"
   ]
  },
  {
   "cell_type": "code",
   "execution_count": 11,
   "metadata": {},
   "outputs": [],
   "source": [
    "# pickle.dump(cv, open('models/cv_fit_train.sav', 'wb'))"
   ]
  },
  {
   "cell_type": "markdown",
   "metadata": {},
   "source": [
    "#### Load fitted CountVectorizer"
   ]
  },
  {
   "cell_type": "code",
   "execution_count": 6,
   "metadata": {},
   "outputs": [],
   "source": [
    "# cv = pickle.load(open('models/cv_fit_train.sav', 'rb'))"
   ]
  },
  {
   "cell_type": "markdown",
   "metadata": {},
   "source": [
    "### 2.a Transform train and test data into document-term-matrix with CountVectorizer"
   ]
  },
  {
   "cell_type": "code",
   "execution_count": 28,
   "metadata": {},
   "outputs": [],
   "source": [
    "cv_train = cv.transform(X_train['title_clean'])\n",
    "cv_test = cv.transform(X_test['title_clean'])"
   ]
  },
  {
   "cell_type": "code",
   "execution_count": 29,
   "metadata": {},
   "outputs": [],
   "source": [
    "cv_cols = cv.get_feature_names()\n",
    "dtm_train = pd.DataFrame(cv_train.toarray(), columns=cv_cols)\n",
    "dtm_test = pd.DataFrame(cv_test.toarray(), columns=cv_cols)"
   ]
  },
  {
   "cell_type": "code",
   "execution_count": 30,
   "metadata": {},
   "outputs": [
    {
     "data": {
      "text/plain": [
       "friend        16032\n",
       "want          12914\n",
       "tell          11576\n",
       "get            7805\n",
       "girlfriend     6115\n",
       "ask            5764\n",
       "go             5602\n",
       "boyfriend      5065\n",
       "sister         4131\n",
       "mom            3904\n",
       "dtype: int64"
      ]
     },
     "execution_count": 30,
     "metadata": {},
     "output_type": "execute_result"
    }
   ],
   "source": [
    "train_word_count = dtm_train.sum(axis=0)\n",
    "train_word_count.sort_values(ascending=False)[:10]"
   ]
  },
  {
   "cell_type": "code",
   "execution_count": 32,
   "metadata": {},
   "outputs": [
    {
     "data": {
      "text/plain": [
       "((96523, 3215), (975, 3215))"
      ]
     },
     "execution_count": 32,
     "metadata": {},
     "output_type": "execute_result"
    }
   ],
   "source": [
    "# ((96480, 44051), (975, 44051))\n",
    "dtm_train.shape, dtm_test.shape"
   ]
  },
  {
   "cell_type": "markdown",
   "metadata": {},
   "source": [
    "### Save / Load Document Term Matrix to / from csv"
   ]
  },
  {
   "cell_type": "code",
   "execution_count": 25,
   "metadata": {},
   "outputs": [],
   "source": [
    "# dtm_train.to_csv('data/dtm_train.csv', index=False)\n",
    "# dtm_test.to_csv('data/dtm_test.csv', index=False)\n",
    "\n",
    "# dtm_train = pd.read_csv('data/dtm_train.csv')\n",
    "# dtm_test = pd.read_csv('data/dtm_test.csv')"
   ]
  },
  {
   "cell_type": "markdown",
   "metadata": {},
   "source": [
    "## 3 - PCA"
   ]
  },
  {
   "cell_type": "code",
   "execution_count": 33,
   "metadata": {},
   "outputs": [
    {
     "name": "stdout",
     "output_type": "stream",
     "text": [
      "0.7919541496119181\n"
     ]
    }
   ],
   "source": [
    "pca = IncrementalPCA(n_components=800, batch_size=850)\n",
    "pca.fit(dtm_train)\n",
    "print(pca.explained_variance_ratio_.sum())"
   ]
  },
  {
   "cell_type": "markdown",
   "metadata": {},
   "source": [
    "### 3.a Scree plot, check number of components is appropriate"
   ]
  },
  {
   "cell_type": "code",
   "execution_count": 35,
   "metadata": {},
   "outputs": [
    {
     "data": {
      "image/png": "[encoded data removed]",
      "text/plain": [
       "<Figure size 432x288 with 1 Axes>"
      ]
     },
     "metadata": {},
     "output_type": "display_data"
    }
   ],
   "source": [
    "plt.plot(np.cumsum(pca.explained_variance_ratio_))\n",
    "plt.xlabel('number of components')\n",
    "plt.ylabel('cumulative explained variance')\n",
    "plt.title('PCA Scree Plot')\n",
    "# plt.axvline(linewidth=4, color='r', linestyle = '--', x=10, ymin=0, ymax=1)\n",
    "evr = pca.explained_variance_ratio_\n",
    "cvr = np.cumsum(pca.explained_variance_ratio_)\n",
    "pca_df = pd.DataFrame()\n",
    "pca_df['Cumulative Variance Ratio'] = cvr\n",
    "pca_df['Explained Variance Ratio'] = evr\n",
    "# display(pca_df.head(10))"
   ]
  },
  {
   "cell_type": "markdown",
   "metadata": {},
   "source": [
    "#### Save / Load fitted PCA Model"
   ]
  },
  {
   "cell_type": "code",
   "execution_count": 41,
   "metadata": {},
   "outputs": [],
   "source": [
    "pickle.dump(pca, open('models/pca_title.sav', 'wb'))\n",
    "# pca = pickle.load(open('models/pca.sav', 'rb'))\n",
    "# pca"
   ]
  },
  {
   "cell_type": "markdown",
   "metadata": {},
   "source": [
    "### 3.b - Transform train/test Document-Term-matrix with PCA"
   ]
  },
  {
   "cell_type": "code",
   "execution_count": 36,
   "metadata": {},
   "outputs": [],
   "source": [
    "dtm_train_pca = pca.transform(dtm_train)\n",
    "dtm_test_pca = pca.transform(dtm_test)"
   ]
  },
  {
   "cell_type": "markdown",
   "metadata": {},
   "source": [
    "Build DataFrame of PCA Components"
   ]
  },
  {
   "cell_type": "code",
   "execution_count": 37,
   "metadata": {},
   "outputs": [],
   "source": [
    "col_names = ['PC_' + str(i) for i in range(1, pca.get_params()['n_components']+1)]\n",
    "dtm_train_pca_df = pd.DataFrame(dtm_train_pca, columns=col_names)\n",
    "dtm_test_pca_df = pd.DataFrame(dtm_test_pca, columns=col_names)"
   ]
  },
  {
   "cell_type": "markdown",
   "metadata": {},
   "source": [
    "Combine PCA components and sentiment analysis scores into one DataFrame"
   ]
  },
  {
   "cell_type": "code",
   "execution_count": 38,
   "metadata": {},
   "outputs": [],
   "source": [
    "X_train_post_dtm_pca = pd.concat([X_train[['title_polarity','title_subjectivity']].reset_index(drop=True), dtm_train_pca_df], axis=1)\n",
    "X_test_post_dtm_pca = pd.concat([X_test[['title_polarity','title_subjectivity']].reset_index(drop=True),dtm_test_pca_df], axis=1)"
   ]
  },
  {
   "cell_type": "code",
   "execution_count": 39,
   "metadata": {},
   "outputs": [
    {
     "data": {
      "text/html": [
       "<div>\n",
       "<style scoped>\n",
       "    .dataframe tbody tr th:only-of-type {\n",
       "        vertical-align: middle;\n",
       "    }\n",
       "\n",
       "    .dataframe tbody tr th {\n",
       "        vertical-align: top;\n",
       "    }\n",
       "\n",
       "    .dataframe thead th {\n",
       "        text-align: right;\n",
       "    }\n",
       "</style>\n",
       "<table border=\"1\" class=\"dataframe\">\n",
       "  <thead>\n",
       "    <tr style=\"text-align: right;\">\n",
       "      <th></th>\n",
       "      <th>title_polarity</th>\n",
       "      <th>title_subjectivity</th>\n",
       "      <th>PC_1</th>\n",
       "      <th>PC_2</th>\n",
       "      <th>PC_3</th>\n",
       "      <th>PC_4</th>\n",
       "      <th>PC_5</th>\n",
       "      <th>PC_6</th>\n",
       "      <th>PC_7</th>\n",
       "      <th>PC_8</th>\n",
       "      <th>...</th>\n",
       "      <th>PC_791</th>\n",
       "      <th>PC_792</th>\n",
       "      <th>PC_793</th>\n",
       "      <th>PC_794</th>\n",
       "      <th>PC_795</th>\n",
       "      <th>PC_796</th>\n",
       "      <th>PC_797</th>\n",
       "      <th>PC_798</th>\n",
       "      <th>PC_799</th>\n",
       "      <th>PC_800</th>\n",
       "    </tr>\n",
       "  </thead>\n",
       "  <tbody>\n",
       "    <tr>\n",
       "      <th>0</th>\n",
       "      <td>0.214286</td>\n",
       "      <td>0.571429</td>\n",
       "      <td>0.765371</td>\n",
       "      <td>0.047379</td>\n",
       "      <td>-0.324399</td>\n",
       "      <td>-0.110045</td>\n",
       "      <td>-0.063606</td>\n",
       "      <td>0.072773</td>\n",
       "      <td>-0.063522</td>\n",
       "      <td>-0.058488</td>\n",
       "      <td>...</td>\n",
       "      <td>0.020670</td>\n",
       "      <td>0.006495</td>\n",
       "      <td>0.000779</td>\n",
       "      <td>0.004055</td>\n",
       "      <td>0.001104</td>\n",
       "      <td>-0.012162</td>\n",
       "      <td>-0.032745</td>\n",
       "      <td>0.013820</td>\n",
       "      <td>-0.008665</td>\n",
       "      <td>-0.006860</td>\n",
       "    </tr>\n",
       "    <tr>\n",
       "      <th>1</th>\n",
       "      <td>0.000000</td>\n",
       "      <td>0.000000</td>\n",
       "      <td>-0.256039</td>\n",
       "      <td>0.837627</td>\n",
       "      <td>0.227405</td>\n",
       "      <td>-0.020942</td>\n",
       "      <td>-0.103116</td>\n",
       "      <td>-0.108455</td>\n",
       "      <td>-0.075996</td>\n",
       "      <td>-0.082632</td>\n",
       "      <td>...</td>\n",
       "      <td>0.004513</td>\n",
       "      <td>-0.070951</td>\n",
       "      <td>-0.011805</td>\n",
       "      <td>-0.013903</td>\n",
       "      <td>-0.035777</td>\n",
       "      <td>-0.022711</td>\n",
       "      <td>-0.007931</td>\n",
       "      <td>0.046720</td>\n",
       "      <td>0.020402</td>\n",
       "      <td>-0.018136</td>\n",
       "    </tr>\n",
       "    <tr>\n",
       "      <th>2</th>\n",
       "      <td>0.136364</td>\n",
       "      <td>0.454545</td>\n",
       "      <td>-0.278638</td>\n",
       "      <td>0.834051</td>\n",
       "      <td>0.278272</td>\n",
       "      <td>0.078694</td>\n",
       "      <td>-0.323229</td>\n",
       "      <td>-0.157492</td>\n",
       "      <td>0.299397</td>\n",
       "      <td>0.838329</td>\n",
       "      <td>...</td>\n",
       "      <td>0.015474</td>\n",
       "      <td>0.028356</td>\n",
       "      <td>0.083720</td>\n",
       "      <td>-0.186573</td>\n",
       "      <td>-0.002924</td>\n",
       "      <td>-0.056574</td>\n",
       "      <td>-0.035236</td>\n",
       "      <td>0.028555</td>\n",
       "      <td>-0.014242</td>\n",
       "      <td>-0.006378</td>\n",
       "    </tr>\n",
       "    <tr>\n",
       "      <th>3</th>\n",
       "      <td>-0.500000</td>\n",
       "      <td>1.000000</td>\n",
       "      <td>-0.174513</td>\n",
       "      <td>-0.188146</td>\n",
       "      <td>-0.167346</td>\n",
       "      <td>0.967915</td>\n",
       "      <td>-0.082202</td>\n",
       "      <td>0.033708</td>\n",
       "      <td>-0.031101</td>\n",
       "      <td>-0.056101</td>\n",
       "      <td>...</td>\n",
       "      <td>0.016674</td>\n",
       "      <td>0.005514</td>\n",
       "      <td>0.003768</td>\n",
       "      <td>0.020671</td>\n",
       "      <td>-0.000444</td>\n",
       "      <td>-0.028164</td>\n",
       "      <td>-0.012900</td>\n",
       "      <td>-0.004935</td>\n",
       "      <td>-0.004395</td>\n",
       "      <td>0.017247</td>\n",
       "    </tr>\n",
       "    <tr>\n",
       "      <th>4</th>\n",
       "      <td>0.000000</td>\n",
       "      <td>0.000000</td>\n",
       "      <td>-0.179439</td>\n",
       "      <td>-0.097769</td>\n",
       "      <td>-0.121194</td>\n",
       "      <td>-0.088063</td>\n",
       "      <td>-0.061407</td>\n",
       "      <td>0.002481</td>\n",
       "      <td>-0.092915</td>\n",
       "      <td>0.000052</td>\n",
       "      <td>...</td>\n",
       "      <td>-0.003317</td>\n",
       "      <td>0.000521</td>\n",
       "      <td>-0.004525</td>\n",
       "      <td>0.002273</td>\n",
       "      <td>0.002001</td>\n",
       "      <td>-0.001088</td>\n",
       "      <td>0.005236</td>\n",
       "      <td>-0.004954</td>\n",
       "      <td>0.003370</td>\n",
       "      <td>-0.002061</td>\n",
       "    </tr>\n",
       "  </tbody>\n",
       "</table>\n",
       "<p>5 rows × 802 columns</p>\n",
       "</div>"
      ],
      "text/plain": [
       "   title_polarity  title_subjectivity      PC_1      PC_2      PC_3      PC_4  \\\n",
       "0        0.214286            0.571429  0.765371  0.047379 -0.324399 -0.110045   \n",
       "1        0.000000            0.000000 -0.256039  0.837627  0.227405 -0.020942   \n",
       "2        0.136364            0.454545 -0.278638  0.834051  0.278272  0.078694   \n",
       "3       -0.500000            1.000000 -0.174513 -0.188146 -0.167346  0.967915   \n",
       "4        0.000000            0.000000 -0.179439 -0.097769 -0.121194 -0.088063   \n",
       "\n",
       "       PC_5      PC_6      PC_7      PC_8  ...    PC_791    PC_792    PC_793  \\\n",
       "0 -0.063606  0.072773 -0.063522 -0.058488  ...  0.020670  0.006495  0.000779   \n",
       "1 -0.103116 -0.108455 -0.075996 -0.082632  ...  0.004513 -0.070951 -0.011805   \n",
       "2 -0.323229 -0.157492  0.299397  0.838329  ...  0.015474  0.028356  0.083720   \n",
       "3 -0.082202  0.033708 -0.031101 -0.056101  ...  0.016674  0.005514  0.003768   \n",
       "4 -0.061407  0.002481 -0.092915  0.000052  ... -0.003317  0.000521 -0.004525   \n",
       "\n",
       "     PC_794    PC_795    PC_796    PC_797    PC_798    PC_799    PC_800  \n",
       "0  0.004055  0.001104 -0.012162 -0.032745  0.013820 -0.008665 -0.006860  \n",
       "1 -0.013903 -0.035777 -0.022711 -0.007931  0.046720  0.020402 -0.018136  \n",
       "2 -0.186573 -0.002924 -0.056574 -0.035236  0.028555 -0.014242 -0.006378  \n",
       "3  0.020671 -0.000444 -0.028164 -0.012900 -0.004935 -0.004395  0.017247  \n",
       "4  0.002273  0.002001 -0.001088  0.005236 -0.004954  0.003370 -0.002061  \n",
       "\n",
       "[5 rows x 802 columns]"
      ]
     },
     "execution_count": 39,
     "metadata": {},
     "output_type": "execute_result"
    }
   ],
   "source": [
    "X_train_post_dtm_pca.head()"
   ]
  },
  {
   "cell_type": "code",
   "execution_count": 40,
   "metadata": {},
   "outputs": [
    {
     "name": "stdout",
     "output_type": "stream",
     "text": [
      "(96523, 802) (96523,)\n",
      "(975, 802) (975,)\n"
     ]
    }
   ],
   "source": [
    "print(X_train_post_dtm_pca.shape, y_train.shape)\n",
    "print(X_test_post_dtm_pca.shape, y_test.shape)"
   ]
  },
  {
   "cell_type": "code",
   "execution_count": null,
   "metadata": {},
   "outputs": [],
   "source": []
  },
  {
   "cell_type": "code",
   "execution_count": null,
   "metadata": {},
   "outputs": [],
   "source": []
  },
  {
   "cell_type": "markdown",
   "metadata": {},
   "source": [
    "# Models"
   ]
  },
  {
   "cell_type": "markdown",
   "metadata": {},
   "source": [
    "## 1 - Random Forest Models"
   ]
  },
  {
   "cell_type": "markdown",
   "metadata": {},
   "source": [
    "### 1.a Vanilla Random Forest, no tuning hyperparameters "
   ]
  },
  {
   "cell_type": "code",
   "execution_count": 49,
   "metadata": {},
   "outputs": [
    {
     "data": {
      "text/plain": [
       "RandomForestClassifier(bootstrap=True, ccp_alpha=0.0, class_weight=None,\n",
       "                       criterion='gini', max_depth=None, max_features='auto',\n",
       "                       max_leaf_nodes=None, max_samples=None,\n",
       "                       min_impurity_decrease=0.0, min_impurity_split=None,\n",
       "                       min_samples_leaf=1, min_samples_split=2,\n",
       "                       min_weight_fraction_leaf=0.0, n_estimators=100,\n",
       "                       n_jobs=None, oob_score=False, random_state=None,\n",
       "                       verbose=0, warm_start=False)"
      ]
     },
     "execution_count": 49,
     "metadata": {},
     "output_type": "execute_result"
    }
   ],
   "source": [
    "rfc = RandomForestClassifier()\n",
    "rfc.fit(X_train_post_dtm_pca, y_train)"
   ]
  },
  {
   "cell_type": "code",
   "execution_count": 53,
   "metadata": {},
   "outputs": [
    {
     "data": {
      "text/plain": [
       "array([0.01932008, 0.01416853, 0.00824279, 0.01418704, 0.0134882 ])"
      ]
     },
     "execution_count": 53,
     "metadata": {},
     "output_type": "execute_result"
    }
   ],
   "source": [
    "cross_val_score(rfc, X_train_post_dtm_pca, y_train, cv=5, scoring='f1')"
   ]
  },
  {
   "cell_type": "code",
   "execution_count": 54,
   "metadata": {},
   "outputs": [
    {
     "name": "stdout",
     "output_type": "stream",
     "text": [
      "Testing Accuracy = 0.7271794871794872\n"
     ]
    }
   ],
   "source": [
    "print(f'Testing Accuracy = {rfc.score(X_test_post_dtm_pca, y_test)}')"
   ]
  },
  {
   "cell_type": "code",
   "execution_count": 97,
   "metadata": {},
   "outputs": [
    {
     "name": "stdout",
     "output_type": "stream",
     "text": [
      "[[70299     0]\n",
      " [    0 26181]]\n",
      "F1 Score = 1.0\n",
      "Accuracy Score = 1.0\n"
     ]
    }
   ],
   "source": [
    "y_pred_train = rfc.predict(X_train_post_dtm_pca)\n",
    "print(confusion_matrix(y_train,y_pred_train))\n",
    "# print(classification_report(y_train,y_pred_train))\n",
    "print(f'F1 Score = {f1_score(y_train,y_pred_train)}')\n",
    "print(f'Accuracy Score = {accuracy_score(y_train,y_pred_train)}')"
   ]
  },
  {
   "cell_type": "code",
   "execution_count": 96,
   "metadata": {},
   "outputs": [
    {
     "name": "stdout",
     "output_type": "stream",
     "text": [
      "[[707   3]\n",
      " [263   2]]\n",
      "F1 Score = 0.014814814814814815\n",
      "Accuracy Score = 0.7271794871794872\n"
     ]
    }
   ],
   "source": [
    "y_pred_test = rfc.predict(X_test_post_dtm_pca)\n",
    "print(confusion_matrix(y_test,y_pred_test))\n",
    "# print(classification_report(y_test,y_pred_test))\n",
    "print(f'F1 Score = {f1_score(y_test,y_pred_test)}')\n",
    "print(f'Accuracy Score = {accuracy_score(y_test,y_pred_test)}')"
   ]
  },
  {
   "cell_type": "markdown",
   "metadata": {},
   "source": [
    "### 1.b weighted random forest"
   ]
  },
  {
   "cell_type": "code",
   "execution_count": null,
   "metadata": {},
   "outputs": [],
   "source": [
    "rfc2 = RandomForestClassifier(class_weight=\"balanced\")\n",
    "rfc2.fit(X_train_post_dtm_pca, y_train)"
   ]
  },
  {
   "cell_type": "code",
   "execution_count": null,
   "metadata": {},
   "outputs": [],
   "source": [
    "y_pred_train_2 = rfc2.predict(X_train_post_dtm_pca)\n",
    "print(confusion_matrix(y_train,y_pred_train_2))\n",
    "# print(classification_report(y_train,y_pred_train_2))\n",
    "print(f'F1 Score = {f1_score(y_train,y_pred_train_2)}')\n",
    "print(f'Accuracy Score = {accuracy_score(y_train,y_pred_train_2)}')"
   ]
  },
  {
   "cell_type": "code",
   "execution_count": null,
   "metadata": {},
   "outputs": [],
   "source": [
    "y_pred_test_2 = rfc2.predict(X_test_post_dtm_pca)\n",
    "print(confusion_matrix(y_test,y_pred_test_2))\n",
    "# print(classification_report(y_test,y_pred_test_2))\n",
    "print(f'F1 Score = {f1_score(y_test,y_pred_test_2)}')\n",
    "print(f'Accuracy Score = {accuracy_score(y_test,y_pred_test_2)}')"
   ]
  },
  {
   "cell_type": "markdown",
   "metadata": {},
   "source": [
    "## 2 - Logistic Regression"
   ]
  },
  {
   "cell_type": "code",
   "execution_count": 41,
   "metadata": {},
   "outputs": [
    {
     "data": {
      "text/plain": [
       "LogisticRegression(class_weight='balanced')"
      ]
     },
     "execution_count": 41,
     "metadata": {},
     "output_type": "execute_result"
    }
   ],
   "source": [
    "lr = LogisticRegression(class_weight='balanced')\n",
    "lr.fit(X_train_post_dtm_pca, y_train)"
   ]
  },
  {
   "cell_type": "code",
   "execution_count": 42,
   "metadata": {},
   "outputs": [
    {
     "name": "stdout",
     "output_type": "stream",
     "text": [
      "[[41532 28801]\n",
      " [10422 15768]]\n",
      "F1 Score = 0.44568182139374496\n",
      "Accuracy Score = 0.5936408938802151\n"
     ]
    }
   ],
   "source": [
    "y_pred_train_lr = lr.predict(X_train_post_dtm_pca)\n",
    "print(confusion_matrix(y_train,y_pred_train_lr))\n",
    "# print(classification_report(y_train,y_pred_train_lr))\n",
    "print(f'F1 Score = {f1_score(y_train,y_pred_train_lr)}')\n",
    "print(f'Accuracy Score = {accuracy_score(y_train,y_pred_train_lr)}')"
   ]
  },
  {
   "cell_type": "code",
   "execution_count": 43,
   "metadata": {},
   "outputs": [
    {
     "name": "stdout",
     "output_type": "stream",
     "text": [
      "[[404 306]\n",
      " [108 157]]\n",
      "F1 Score = 0.4313186813186813\n",
      "Accuracy Score = 0.5753846153846154\n"
     ]
    }
   ],
   "source": [
    "y_pred_test_lr = lr.predict(X_test_post_dtm_pca)\n",
    "print(confusion_matrix(y_test,y_pred_test_lr))\n",
    "# print(classification_report(y_test,y_pred_test_lr))\n",
    "print(f'F1 Score = {f1_score(y_test,y_pred_test_lr)}')\n",
    "print(f'Accuracy Score = {accuracy_score(y_test,y_pred_test_lr)}')"
   ]
  },
  {
   "cell_type": "markdown",
   "metadata": {},
   "source": [
    "## 3. Naive Bayes"
   ]
  },
  {
   "cell_type": "code",
   "execution_count": 82,
   "metadata": {},
   "outputs": [
    {
     "data": {
      "text/plain": [
       "MultinomialNB(alpha=1.0, class_prior=None, fit_prior=True)"
      ]
     },
     "execution_count": 82,
     "metadata": {},
     "output_type": "execute_result"
    }
   ],
   "source": [
    "nb = MultinomialNB()\n",
    "nb.fit(dtm_train, y_train)"
   ]
  },
  {
   "cell_type": "code",
   "execution_count": 100,
   "metadata": {},
   "outputs": [
    {
     "name": "stdout",
     "output_type": "stream",
     "text": [
      "[[46942 23357]\n",
      " [12704 13477]]\n",
      "F1 Score = 0.4277394271205268\n",
      "Accuracy Score = 0.626233416252073\n"
     ]
    }
   ],
   "source": [
    "y_pred_train_nb = nb.predict(dtm_train)\n",
    "print(confusion_matrix(y_train,y_pred_train_nb))\n",
    "# print(classification_report(y_train,y_pred_train_nb))\n",
    "print(f'F1 Score = {f1_score(y_train,y_pred_train_nb)}')\n",
    "print(f'Accuracy Score = {accuracy_score(y_train,y_pred_train_nb)}')"
   ]
  },
  {
   "cell_type": "code",
   "execution_count": 101,
   "metadata": {},
   "outputs": [
    {
     "name": "stdout",
     "output_type": "stream",
     "text": [
      "[[462 248]\n",
      " [139 126]]\n",
      "F1 Score = 0.39436619718309857\n",
      "Accuracy Score = 0.6030769230769231\n"
     ]
    }
   ],
   "source": [
    "y_pred_test_nb = nb.predict(dtm_test)\n",
    "print(confusion_matrix(y_test,y_pred_test_nb))\n",
    "# print(classification_report(y_test,y_pred_test_nb))\n",
    "print(f'F1 Score = {f1_score(y_test,y_pred_test_nb)}')\n",
    "print(f'Accuracy Score = {accuracy_score(y_test,y_pred_test_nb)}')"
   ]
  },
  {
   "cell_type": "code",
   "execution_count": null,
   "metadata": {},
   "outputs": [],
   "source": []
  }
 ],
 "metadata": {
  "instance_type": "ml.m5.xlarge",
  "kernelspec": {
   "display_name": "conda_python3",
   "language": "python",
   "name": "conda_python3"
  },
  "language_info": {
   "codemirror_mode": {
    "name": "ipython",
    "version": 3
   },
   "file_extension": ".py",
   "mimetype": "text/x-python",
   "name": "python",
   "nbconvert_exporter": "python",
   "pygments_lexer": "ipython3",
   "version": "3.6.13"
  }
 },
 "nbformat": 4,
 "nbformat_minor": 4
}
