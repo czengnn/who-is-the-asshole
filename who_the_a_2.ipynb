{
 "cells": [
  {
   "cell_type": "code",
   "execution_count": 3,
   "metadata": {},
   "outputs": [],
   "source": [
    "# ! pip install imbalanced-learn\n",
    "# ! pip install lime\n",
    "# ! pip install textblob\n",
    "# ! pip install contractions\n",
    "# ! pip install spacy\n",
    "# ! python -m spacy download en_core_web_sm\n",
    "# ! pip install gensim\n",
    "# ! pip install python-Levenshtein"
   ]
  },
  {
   "cell_type": "code",
   "execution_count": 1,
   "metadata": {},
   "outputs": [
    {
     "name": "stderr",
     "output_type": "stream",
     "text": [
      "[nltk_data] Downloading package stopwords to\n",
      "[nltk_data]     /home/ec2-user/nltk_data...\n",
      "[nltk_data]   Package stopwords is already up-to-date!\n"
     ]
    }
   ],
   "source": [
    "import numpy as np \n",
    "import pandas as pd \n",
    "import matplotlib.pyplot as plt\n",
    "plt.style.use('dark_background')\n",
    "import seaborn as sns\n",
    "\n",
    "import pickle \n",
    "import imblearn\n",
    "from imblearn.over_sampling import SMOTE\n",
    "from collections import Counter\n",
    "import time\n",
    "\n",
    "import nltk\n",
    "nltk.download('stopwords')\n",
    "from nltk.corpus import stopwords\n",
    "# import lime\n",
    "# import lime.lime_tabular\n",
    "# from gensim import matutils, models\n",
    "# import scipy.sparse\n",
    "\n",
    "from sklearn.feature_extraction.text import CountVectorizer\n",
    "from sklearn.model_selection import train_test_split, cross_val_score, GridSearchCV\n",
    "from sklearn.pipeline import Pipeline\n",
    "from sklearn.metrics import confusion_matrix, accuracy_score, f1_score, plot_confusion_matrix\n",
    "\n",
    "from sklearn.naive_bayes import MultinomialNB\n",
    "from sklearn.linear_model import LogisticRegression, SGDClassifier\n",
    "from sklearn.ensemble import RandomForestClassifier\n",
    "from sklearn.decomposition import PCA, IncrementalPCA, LatentDirichletAllocation\n",
    "\n",
    "from helpers import *"
   ]
  },
  {
   "cell_type": "markdown",
   "metadata": {},
   "source": [
    "## Load cleaned data\n",
    "combine title and body of text "
   ]
  },
  {
   "cell_type": "code",
   "execution_count": 2,
   "metadata": {},
   "outputs": [
    {
     "data": {
      "text/html": [
       "<div>\n",
       "<style scoped>\n",
       "    .dataframe tbody tr th:only-of-type {\n",
       "        vertical-align: middle;\n",
       "    }\n",
       "\n",
       "    .dataframe tbody tr th {\n",
       "        vertical-align: top;\n",
       "    }\n",
       "\n",
       "    .dataframe thead th {\n",
       "        text-align: right;\n",
       "    }\n",
       "</style>\n",
       "<table border=\"1\" class=\"dataframe\">\n",
       "  <thead>\n",
       "    <tr style=\"text-align: right;\">\n",
       "      <th></th>\n",
       "      <th>body_polarity</th>\n",
       "      <th>body_subjectivity</th>\n",
       "      <th>is_asshole</th>\n",
       "      <th>title_body_combo</th>\n",
       "    </tr>\n",
       "  </thead>\n",
       "  <tbody>\n",
       "    <tr>\n",
       "      <th>0</th>\n",
       "      <td>-0.156818</td>\n",
       "      <td>0.656818</td>\n",
       "      <td>1</td>\n",
       "      <td>I write an explanation in til and come off a...</td>\n",
       "    </tr>\n",
       "    <tr>\n",
       "      <th>1</th>\n",
       "      <td>0.034848</td>\n",
       "      <td>0.449242</td>\n",
       "      <td>1</td>\n",
       "      <td>throw my parent donut awaymy parent be diabe...</td>\n",
       "    </tr>\n",
       "    <tr>\n",
       "      <th>2</th>\n",
       "      <td>0.000000</td>\n",
       "      <td>0.000000</td>\n",
       "      <td>0</td>\n",
       "      <td>I tell a goth girl she look like a clownI be four</td>\n",
       "    </tr>\n",
       "    <tr>\n",
       "      <th>3</th>\n",
       "      <td>0.000000</td>\n",
       "      <td>0.000000</td>\n",
       "      <td>1</td>\n",
       "      <td>argument I have with another redditor in rhi...</td>\n",
       "    </tr>\n",
       "    <tr>\n",
       "      <th>4</th>\n",
       "      <td>0.040104</td>\n",
       "      <td>0.369792</td>\n",
       "      <td>1</td>\n",
       "      <td>have a disagreement about le miserable with ...</td>\n",
       "    </tr>\n",
       "    <tr>\n",
       "      <th>...</th>\n",
       "      <td>...</td>\n",
       "      <td>...</td>\n",
       "      <td>...</td>\n",
       "      <td>...</td>\n",
       "    </tr>\n",
       "    <tr>\n",
       "      <th>97450</th>\n",
       "      <td>0.016111</td>\n",
       "      <td>0.385278</td>\n",
       "      <td>0</td>\n",
       "      <td>for tell my sister she be be a spoiled bratm...</td>\n",
       "    </tr>\n",
       "    <tr>\n",
       "      <th>97451</th>\n",
       "      <td>0.068461</td>\n",
       "      <td>0.474614</td>\n",
       "      <td>0</td>\n",
       "      <td>for tell my husband to f off after he relent...</td>\n",
       "    </tr>\n",
       "    <tr>\n",
       "      <th>97452</th>\n",
       "      <td>-0.076333</td>\n",
       "      <td>0.493467</td>\n",
       "      <td>0</td>\n",
       "      <td>for attempt to keep my student out of adult ...</td>\n",
       "    </tr>\n",
       "    <tr>\n",
       "      <th>97453</th>\n",
       "      <td>0.067130</td>\n",
       "      <td>0.426132</td>\n",
       "      <td>0</td>\n",
       "      <td>if I leave my brother fate up to the statea ...</td>\n",
       "    </tr>\n",
       "    <tr>\n",
       "      <th>97454</th>\n",
       "      <td>-0.007238</td>\n",
       "      <td>0.524378</td>\n",
       "      <td>0</td>\n",
       "      <td>for rock the boat at work because my mentor ...</td>\n",
       "    </tr>\n",
       "  </tbody>\n",
       "</table>\n",
       "<p>97455 rows × 4 columns</p>\n",
       "</div>"
      ],
      "text/plain": [
       "       body_polarity  body_subjectivity  is_asshole  \\\n",
       "0          -0.156818           0.656818           1   \n",
       "1           0.034848           0.449242           1   \n",
       "2           0.000000           0.000000           0   \n",
       "3           0.000000           0.000000           1   \n",
       "4           0.040104           0.369792           1   \n",
       "...              ...                ...         ...   \n",
       "97450       0.016111           0.385278           0   \n",
       "97451       0.068461           0.474614           0   \n",
       "97452      -0.076333           0.493467           0   \n",
       "97453       0.067130           0.426132           0   \n",
       "97454      -0.007238           0.524378           0   \n",
       "\n",
       "                                        title_body_combo  \n",
       "0        I write an explanation in til and come off a...  \n",
       "1        throw my parent donut awaymy parent be diabe...  \n",
       "2      I tell a goth girl she look like a clownI be four  \n",
       "3        argument I have with another redditor in rhi...  \n",
       "4        have a disagreement about le miserable with ...  \n",
       "...                                                  ...  \n",
       "97450    for tell my sister she be be a spoiled bratm...  \n",
       "97451    for tell my husband to f off after he relent...  \n",
       "97452    for attempt to keep my student out of adult ...  \n",
       "97453    if I leave my brother fate up to the statea ...  \n",
       "97454    for rock the boat at work because my mentor ...  \n",
       "\n",
       "[97455 rows x 4 columns]"
      ]
     },
     "execution_count": 2,
     "metadata": {},
     "output_type": "execute_result"
    }
   ],
   "source": [
    "aita_2 = pd.read_csv('data/aita_save2.csv')\n",
    "aita = aita_2.dropna(subset=['body_clean', 'title_clean']).loc[:,['body_polarity','body_subjectivity','is_asshole']]\n",
    "aita['title_body_combo'] =  aita_2['title_clean'] + aita_2['body_clean']\n",
    "aita.dropna(inplace=True)\n",
    "aita.reset_index(drop=True)"
   ]
  },
  {
   "cell_type": "markdown",
   "metadata": {},
   "source": [
    "## 1 - train test split"
   ]
  },
  {
   "cell_type": "code",
   "execution_count": 3,
   "metadata": {},
   "outputs": [
    {
     "name": "stdout",
     "output_type": "stream",
     "text": [
      "(96480, 3) (975, 3)\n"
     ]
    }
   ],
   "source": [
    "X = aita.drop('is_asshole', axis=1)\n",
    "y = aita['is_asshole']\n",
    "X_train, X_test, y_train, y_test = train_test_split(X, y, stratify=y, test_size=0.01, random_state=11)\n",
    "print(X_train.shape, X_test.shape)"
   ]
  },
  {
   "cell_type": "markdown",
   "metadata": {},
   "source": [
    "## 2 - Instantiate CountVectorizer "
   ]
  },
  {
   "cell_type": "code",
   "execution_count": 4,
   "metadata": {},
   "outputs": [],
   "source": [
    "# add_stop_words = ['like', 'get', 'go', 'say', 'tell', 'thats', 'want', 'time',\n",
    "#                   'youre', 'got', 'gonna', 'time', 'also', 'yeah', 'said']\n",
    "# stop = set(stopwords.words('english')).union(add_stop_words)\n",
    "# vec = CountVectorizer(stop_words=stop, min_df=0.005, max_df=0.8, ngram_range=(1, 2))\n",
    "# cv = vec.fit(X_train['title_body_combo'])\n",
    "# len(cv.get_feature_names())"
   ]
  },
  {
   "cell_type": "markdown",
   "metadata": {},
   "source": [
    "#### (Save / load fitted CountVectorizer)"
   ]
  },
  {
   "cell_type": "code",
   "execution_count": 5,
   "metadata": {},
   "outputs": [
    {
     "data": {
      "text/plain": [
       "3183"
      ]
     },
     "execution_count": 5,
     "metadata": {},
     "output_type": "execute_result"
    }
   ],
   "source": [
    "# pickle.dump(cv, open('models/cv_fit_train_2.sav', 'wb'))\n",
    "cv = pickle.load(open('models/cv_fit_train_2.sav', 'rb'))\n",
    "len(cv.get_feature_names())"
   ]
  },
  {
   "cell_type": "markdown",
   "metadata": {},
   "source": [
    "### 2.a Transform train and test data into document-term-matrix with CountVectorizer"
   ]
  },
  {
   "cell_type": "code",
   "execution_count": 6,
   "metadata": {},
   "outputs": [],
   "source": [
    "cv_train = cv.transform(X_train['title_body_combo'])\n",
    "cv_test = cv.transform(X_test['title_body_combo'])\n",
    "cv_cols = cv.get_feature_names()\n",
    "dtm_train = pd.DataFrame(cv_train.toarray(), columns=cv_cols, index=X_train.index)\n",
    "dtm_test = pd.DataFrame(cv_test.toarray(), columns=cv_cols, index=X_test.index)"
   ]
  },
  {
   "cell_type": "code",
   "execution_count": 7,
   "metadata": {},
   "outputs": [],
   "source": [
    "# train_word_count = dtm_train.sum(axis=0)\n",
    "# train_word_count.sort_values(ascending=False)[:10]"
   ]
  },
  {
   "cell_type": "code",
   "execution_count": 8,
   "metadata": {},
   "outputs": [
    {
     "data": {
      "text/plain": [
       "((96480, 3183), (975, 3183))"
      ]
     },
     "execution_count": 8,
     "metadata": {},
     "output_type": "execute_result"
    }
   ],
   "source": [
    "# ((96480, 3183), (975, 3183))\n",
    "dtm_train.shape, dtm_test.shape"
   ]
  },
  {
   "cell_type": "markdown",
   "metadata": {},
   "source": [
    "## 3 - PCA"
   ]
  },
  {
   "cell_type": "code",
   "execution_count": 9,
   "metadata": {},
   "outputs": [],
   "source": [
    "# pca = IncrementalPCA(n_components=1000, batch_size=1050)\n",
    "# pca.fit(dtm_train)\n",
    "# print(pca.explained_variance_ratio_.sum())"
   ]
  },
  {
   "cell_type": "markdown",
   "metadata": {},
   "source": [
    "#### Save / Load fitted PCA"
   ]
  },
  {
   "cell_type": "code",
   "execution_count": 10,
   "metadata": {},
   "outputs": [
    {
     "name": "stdout",
     "output_type": "stream",
     "text": [
      "<bound method BaseEstimator.get_params of IncrementalPCA(batch_size=1050, n_components=1000)>\n",
      "0.8832529987488633\n"
     ]
    }
   ],
   "source": [
    "# pickle.dump(pca, open('models/pca_2.sav', 'wb'))\n",
    "pca = pickle.load(open('models/pca_2.sav', 'rb'))\n",
    "print(pca.get_params)\n",
    "print(pca.explained_variance_ratio_.sum())\n",
    "# 0.883252998748863"
   ]
  },
  {
   "cell_type": "markdown",
   "metadata": {},
   "source": [
    "### 3.a Scree plot, check number of components is appropriate"
   ]
  },
  {
   "cell_type": "code",
   "execution_count": 11,
   "metadata": {},
   "outputs": [
    {
     "data": {
      "image/png": "[encoded data removed]",
      "text/plain": [
       "<Figure size 432x288 with 1 Axes>"
      ]
     },
     "metadata": {},
     "output_type": "display_data"
    }
   ],
   "source": [
    "plt.plot(np.cumsum(pca.explained_variance_ratio_))\n",
    "plt.xlabel('number of components')\n",
    "plt.ylabel('cumulative explained variance')\n",
    "plt.title('PCA Scree Plot')\n",
    "evr = pca.explained_variance_ratio_\n",
    "cvr = np.cumsum(pca.explained_variance_ratio_)\n",
    "pca_df = pd.DataFrame()\n",
    "pca_df['Cumulative Variance Ratio'] = cvr\n",
    "pca_df['Explained Variance Ratio'] = evr\n",
    "# display(pca_df.head(10))"
   ]
  },
  {
   "cell_type": "markdown",
   "metadata": {},
   "source": [
    "### 3.b - Transform train/test Document-Term-matrix with PCA"
   ]
  },
  {
   "cell_type": "code",
   "execution_count": 12,
   "metadata": {},
   "outputs": [],
   "source": [
    "dtm_train_pca = pca.transform(dtm_train)\n",
    "dtm_test_pca = pca.transform(dtm_test)"
   ]
  },
  {
   "cell_type": "markdown",
   "metadata": {},
   "source": [
    "Build DataFrame of PCA Components"
   ]
  },
  {
   "cell_type": "code",
   "execution_count": 13,
   "metadata": {},
   "outputs": [],
   "source": [
    "col_names = ['PC_' + str(i) for i in range(1, pca.get_params()['n_components']+1)]\n",
    "dtm_train_pca_df = pd.DataFrame(dtm_train_pca, columns=col_names, index=dtm_train.index)\n",
    "dtm_test_pca_df = pd.DataFrame(dtm_test_pca, columns=col_names, index=dtm_test.index)"
   ]
  },
  {
   "cell_type": "markdown",
   "metadata": {},
   "source": [
    "Combine PCA components and sentiment analysis scores into one DataFrame"
   ]
  },
  {
   "cell_type": "code",
   "execution_count": 14,
   "metadata": {},
   "outputs": [],
   "source": [
    "X_train_post_dtm_pca = pd.concat([X_train[['body_polarity','body_subjectivity']], dtm_train_pca_df], axis=1)\n",
    "X_test_post_dtm_pca = pd.concat([X_test[['body_polarity','body_subjectivity']],dtm_test_pca_df], axis=1)"
   ]
  },
  {
   "cell_type": "code",
   "execution_count": 18,
   "metadata": {},
   "outputs": [
    {
     "data": {
      "text/html": [
       "<div>\n",
       "<style scoped>\n",
       "    .dataframe tbody tr th:only-of-type {\n",
       "        vertical-align: middle;\n",
       "    }\n",
       "\n",
       "    .dataframe tbody tr th {\n",
       "        vertical-align: top;\n",
       "    }\n",
       "\n",
       "    .dataframe thead th {\n",
       "        text-align: right;\n",
       "    }\n",
       "</style>\n",
       "<table border=\"1\" class=\"dataframe\">\n",
       "  <thead>\n",
       "    <tr style=\"text-align: right;\">\n",
       "      <th></th>\n",
       "      <th>body_polarity</th>\n",
       "      <th>body_subjectivity</th>\n",
       "      <th>PC_1</th>\n",
       "      <th>PC_2</th>\n",
       "      <th>PC_3</th>\n",
       "      <th>PC_4</th>\n",
       "      <th>PC_5</th>\n",
       "      <th>PC_6</th>\n",
       "      <th>PC_7</th>\n",
       "      <th>PC_8</th>\n",
       "      <th>...</th>\n",
       "      <th>PC_991</th>\n",
       "      <th>PC_992</th>\n",
       "      <th>PC_993</th>\n",
       "      <th>PC_994</th>\n",
       "      <th>PC_995</th>\n",
       "      <th>PC_996</th>\n",
       "      <th>PC_997</th>\n",
       "      <th>PC_998</th>\n",
       "      <th>PC_999</th>\n",
       "      <th>PC_1000</th>\n",
       "    </tr>\n",
       "  </thead>\n",
       "  <tbody>\n",
       "    <tr>\n",
       "      <th>10404</th>\n",
       "      <td>0.089698</td>\n",
       "      <td>0.382755</td>\n",
       "      <td>6.253791</td>\n",
       "      <td>2.959302</td>\n",
       "      <td>0.712668</td>\n",
       "      <td>-2.008379</td>\n",
       "      <td>-1.226649</td>\n",
       "      <td>-1.164330</td>\n",
       "      <td>-0.139047</td>\n",
       "      <td>3.269885</td>\n",
       "      <td>...</td>\n",
       "      <td>-0.374262</td>\n",
       "      <td>-0.325715</td>\n",
       "      <td>-0.470150</td>\n",
       "      <td>0.470259</td>\n",
       "      <td>0.161501</td>\n",
       "      <td>0.001576</td>\n",
       "      <td>0.727497</td>\n",
       "      <td>0.521130</td>\n",
       "      <td>0.419684</td>\n",
       "      <td>0.312693</td>\n",
       "    </tr>\n",
       "    <tr>\n",
       "      <th>46696</th>\n",
       "      <td>-0.140000</td>\n",
       "      <td>0.601585</td>\n",
       "      <td>6.277193</td>\n",
       "      <td>-0.242311</td>\n",
       "      <td>-2.822363</td>\n",
       "      <td>-1.489495</td>\n",
       "      <td>-3.805064</td>\n",
       "      <td>4.139399</td>\n",
       "      <td>-2.640378</td>\n",
       "      <td>1.128195</td>\n",
       "      <td>...</td>\n",
       "      <td>0.066434</td>\n",
       "      <td>-0.263564</td>\n",
       "      <td>0.167467</td>\n",
       "      <td>0.049622</td>\n",
       "      <td>-0.292251</td>\n",
       "      <td>0.222198</td>\n",
       "      <td>0.137764</td>\n",
       "      <td>-0.189065</td>\n",
       "      <td>0.057128</td>\n",
       "      <td>0.335629</td>\n",
       "    </tr>\n",
       "    <tr>\n",
       "      <th>94429</th>\n",
       "      <td>0.034758</td>\n",
       "      <td>0.575265</td>\n",
       "      <td>0.259986</td>\n",
       "      <td>-0.535410</td>\n",
       "      <td>-4.440283</td>\n",
       "      <td>0.100041</td>\n",
       "      <td>1.118445</td>\n",
       "      <td>-0.717248</td>\n",
       "      <td>1.045213</td>\n",
       "      <td>-1.709068</td>\n",
       "      <td>...</td>\n",
       "      <td>-0.058862</td>\n",
       "      <td>0.071192</td>\n",
       "      <td>0.064069</td>\n",
       "      <td>-0.027584</td>\n",
       "      <td>0.029386</td>\n",
       "      <td>0.028333</td>\n",
       "      <td>0.034270</td>\n",
       "      <td>0.002774</td>\n",
       "      <td>-0.008224</td>\n",
       "      <td>-0.081641</td>\n",
       "    </tr>\n",
       "    <tr>\n",
       "      <th>32916</th>\n",
       "      <td>-0.009470</td>\n",
       "      <td>0.545676</td>\n",
       "      <td>0.093155</td>\n",
       "      <td>-0.822719</td>\n",
       "      <td>1.947825</td>\n",
       "      <td>-0.550729</td>\n",
       "      <td>-1.438958</td>\n",
       "      <td>1.527924</td>\n",
       "      <td>1.225077</td>\n",
       "      <td>0.426274</td>\n",
       "      <td>...</td>\n",
       "      <td>-0.229633</td>\n",
       "      <td>0.450516</td>\n",
       "      <td>-0.050805</td>\n",
       "      <td>-0.218510</td>\n",
       "      <td>-0.067159</td>\n",
       "      <td>-0.023230</td>\n",
       "      <td>0.508755</td>\n",
       "      <td>0.089572</td>\n",
       "      <td>-0.112279</td>\n",
       "      <td>-0.063050</td>\n",
       "    </tr>\n",
       "    <tr>\n",
       "      <th>90078</th>\n",
       "      <td>0.196644</td>\n",
       "      <td>0.494792</td>\n",
       "      <td>2.059154</td>\n",
       "      <td>-1.483851</td>\n",
       "      <td>-0.874267</td>\n",
       "      <td>-0.683708</td>\n",
       "      <td>-2.273810</td>\n",
       "      <td>0.873202</td>\n",
       "      <td>-1.845881</td>\n",
       "      <td>0.982150</td>\n",
       "      <td>...</td>\n",
       "      <td>-0.188098</td>\n",
       "      <td>0.129731</td>\n",
       "      <td>-0.019399</td>\n",
       "      <td>-0.244933</td>\n",
       "      <td>0.135543</td>\n",
       "      <td>-0.022551</td>\n",
       "      <td>0.096471</td>\n",
       "      <td>-0.102188</td>\n",
       "      <td>0.005239</td>\n",
       "      <td>0.383625</td>\n",
       "    </tr>\n",
       "  </tbody>\n",
       "</table>\n",
       "<p>5 rows × 1002 columns</p>\n",
       "</div>"
      ],
      "text/plain": [
       "       body_polarity  body_subjectivity      PC_1      PC_2      PC_3  \\\n",
       "10404       0.089698           0.382755  6.253791  2.959302  0.712668   \n",
       "46696      -0.140000           0.601585  6.277193 -0.242311 -2.822363   \n",
       "94429       0.034758           0.575265  0.259986 -0.535410 -4.440283   \n",
       "32916      -0.009470           0.545676  0.093155 -0.822719  1.947825   \n",
       "90078       0.196644           0.494792  2.059154 -1.483851 -0.874267   \n",
       "\n",
       "           PC_4      PC_5      PC_6      PC_7      PC_8  ...    PC_991  \\\n",
       "10404 -2.008379 -1.226649 -1.164330 -0.139047  3.269885  ... -0.374262   \n",
       "46696 -1.489495 -3.805064  4.139399 -2.640378  1.128195  ...  0.066434   \n",
       "94429  0.100041  1.118445 -0.717248  1.045213 -1.709068  ... -0.058862   \n",
       "32916 -0.550729 -1.438958  1.527924  1.225077  0.426274  ... -0.229633   \n",
       "90078 -0.683708 -2.273810  0.873202 -1.845881  0.982150  ... -0.188098   \n",
       "\n",
       "         PC_992    PC_993    PC_994    PC_995    PC_996    PC_997    PC_998  \\\n",
       "10404 -0.325715 -0.470150  0.470259  0.161501  0.001576  0.727497  0.521130   \n",
       "46696 -0.263564  0.167467  0.049622 -0.292251  0.222198  0.137764 -0.189065   \n",
       "94429  0.071192  0.064069 -0.027584  0.029386  0.028333  0.034270  0.002774   \n",
       "32916  0.450516 -0.050805 -0.218510 -0.067159 -0.023230  0.508755  0.089572   \n",
       "90078  0.129731 -0.019399 -0.244933  0.135543 -0.022551  0.096471 -0.102188   \n",
       "\n",
       "         PC_999   PC_1000  \n",
       "10404  0.419684  0.312693  \n",
       "46696  0.057128  0.335629  \n",
       "94429 -0.008224 -0.081641  \n",
       "32916 -0.112279 -0.063050  \n",
       "90078  0.005239  0.383625  \n",
       "\n",
       "[5 rows x 1002 columns]"
      ]
     },
     "execution_count": 18,
     "metadata": {},
     "output_type": "execute_result"
    }
   ],
   "source": [
    "X_train_post_dtm_pca.head()"
   ]
  },
  {
   "cell_type": "code",
   "execution_count": 16,
   "metadata": {},
   "outputs": [
    {
     "name": "stdout",
     "output_type": "stream",
     "text": [
      "(96480, 1002) (96480,)\n",
      "(975, 1002) (975,)\n"
     ]
    }
   ],
   "source": [
    "print(X_train_post_dtm_pca.shape, y_train.shape)\n",
    "print(X_test_post_dtm_pca.shape, y_test.shape)"
   ]
  },
  {
   "cell_type": "markdown",
   "metadata": {},
   "source": [
    "#### 3.c Oversample minority class with SMOTE"
   ]
  },
  {
   "cell_type": "code",
   "execution_count": 17,
   "metadata": {},
   "outputs": [
    {
     "data": {
      "text/plain": [
       "(Counter({0: 70299, 1: 70299}), Counter({1: 710, 0: 710}))"
      ]
     },
     "execution_count": 17,
     "metadata": {},
     "output_type": "execute_result"
    }
   ],
   "source": [
    "X_train_smote, y_train_smote = SMOTE().fit_resample(X_train_post_dtm_pca, y_train)\n",
    "X_test_smote, y_test_smote = SMOTE().fit_resample(X_test_post_dtm_pca, y_test)\n",
    "Counter(y_train_smote), Counter(y_test_smote)"
   ]
  },
  {
   "cell_type": "markdown",
   "metadata": {},
   "source": [
    "# Models"
   ]
  },
  {
   "cell_type": "markdown",
   "metadata": {},
   "source": [
    "## 1 - Random Forest Models"
   ]
  },
  {
   "cell_type": "code",
   "execution_count": 13,
   "metadata": {},
   "outputs": [
    {
     "name": "stdout",
     "output_type": "stream",
     "text": [
      "2.3585612058639525\n"
     ]
    }
   ],
   "source": [
    "start = time.time()\n",
    "rfc = RandomForestClassifier(n_jobs=-1)\n",
    "rfc.fit(X_train_smote, y_train_smote)\n",
    "end = time.time()\n",
    "print((end-start)/60)"
   ]
  },
  {
   "cell_type": "code",
   "execution_count": 14,
   "metadata": {},
   "outputs": [
    {
     "name": "stdout",
     "output_type": "stream",
     "text": [
      "[[70299     0]\n",
      " [    0 70299]]\n",
      "F1 Score = 1.0\n",
      "Accuracy Score = 1.0\n"
     ]
    }
   ],
   "source": [
    "y_pred_train = rfc.predict(X_train_smote)\n",
    "print(confusion_matrix(y_train_smote,y_pred_train))\n",
    "# print(classification_report(y_train,y_pred_train))\n",
    "print(f'F1 Score = {f1_score(y_train_smote,y_pred_train)}')\n",
    "print(f'Accuracy Score = {accuracy_score(y_train_smote,y_pred_train)}')"
   ]
  },
  {
   "cell_type": "code",
   "execution_count": 15,
   "metadata": {},
   "outputs": [
    {
     "name": "stdout",
     "output_type": "stream",
     "text": [
      "[[614  96]\n",
      " [388 322]]\n",
      "F1 Score = 0.5709219858156029\n",
      "Accuracy Score = 0.6591549295774648\n"
     ]
    }
   ],
   "source": [
    "y_pred_test = rfc.predict(X_test_smote)\n",
    "print(confusion_matrix(y_test_smote,y_pred_test))\n",
    "# print(classification_report(y_test,y_pred_test))\n",
    "print(f'F1 Score = {f1_score(y_test_smote,y_pred_test)}')\n",
    "print(f'Accuracy Score = {accuracy_score(y_test_smote,y_pred_test)}')"
   ]
  },
  {
   "cell_type": "markdown",
   "metadata": {},
   "source": [
    "## 2 - Logistic Regression"
   ]
  },
  {
   "cell_type": "code",
   "execution_count": 78,
   "metadata": {},
   "outputs": [
    {
     "name": "stdout",
     "output_type": "stream",
     "text": [
      "0.1429072618484497\n"
     ]
    }
   ],
   "source": [
    "start = time.time()\n",
    "\n",
    "lr = LogisticRegression(max_iter=1500)\n",
    "lr.fit(X_train_smote, y_train_smote)\n",
    "\n",
    "end = time.time()\n",
    "print((end-start)/60)"
   ]
  },
  {
   "cell_type": "code",
   "execution_count": 84,
   "metadata": {},
   "outputs": [],
   "source": [
    "# pickle.dump(lr, open('models/lr.sav', 'wb'))"
   ]
  },
  {
   "cell_type": "code",
   "execution_count": 79,
   "metadata": {},
   "outputs": [
    {
     "name": "stdout",
     "output_type": "stream",
     "text": [
      "F1 Score = 0.6696413526283508\n",
      "Accuracy Score = 0.6513961791775132\n"
     ]
    }
   ],
   "source": [
    "y_pred_train_lr = lr.predict(X_train_smote)\n",
    "conf = confusion_matrix(y_train_smote,y_pred_train_lr) \n",
    "np.round(conf/sum(conf), decimals=2)\n",
    "# print(classification_report(y_train,y_pred_train_lr))\n",
    "print(f'F1 Score = {f1_score(y_train_smote,y_pred_train_lr)}')\n",
    "print(f'Accuracy Score = {accuracy_score(y_train_smote,y_pred_train_lr)}')"
   ]
  },
  {
   "cell_type": "code",
   "execution_count": 80,
   "metadata": {},
   "outputs": [
    {
     "name": "stdout",
     "output_type": "stream",
     "text": [
      "[[405 305]\n",
      " [119 146]]\n",
      "F1 Score = 0.40782122905027934\n",
      "Accuracy Score = 0.5651282051282052\n"
     ]
    }
   ],
   "source": [
    "y_pred_test_lr = lr.predict(X_test_post_dtm_pca)\n",
    "print(confusion_matrix(y_test,y_pred_test_lr))\n",
    "# print(classification_report(y_test,y_pred_test_lr))\n",
    "print(f'F1 Score = {f1_score(y_test,y_pred_test_lr)}')\n",
    "print(f'Accuracy Score = {accuracy_score(y_test,y_pred_test_lr)}')"
   ]
  },
  {
   "cell_type": "markdown",
   "metadata": {},
   "source": [
    "### 2.b Logistic Regression pipeline"
   ]
  },
  {
   "cell_type": "code",
   "execution_count": 31,
   "metadata": {},
   "outputs": [],
   "source": [
    "# text_clf = Pipeline([\n",
    "#                      ('clf', LogisticRegression(max_iter=1000, penalty='l2'))\n",
    "#                     ])\n",
    "# params = {\n",
    "#           'clf__solver': ['saga','lbfgs','newton-cg']\n",
    "#          }\n",
    "# gs_clf = GridSearchCV(text_clf, params, n_jobs=-1, scoring='f1')"
   ]
  },
  {
   "cell_type": "code",
   "execution_count": 64,
   "metadata": {},
   "outputs": [],
   "source": [
    "# print(gs_clf.best_score_)\n",
    "# print(gs_clf.best_params_)"
   ]
  },
  {
   "cell_type": "code",
   "execution_count": 26,
   "metadata": {},
   "outputs": [
    {
     "name": "stdout",
     "output_type": "stream",
     "text": [
      "run time = 0.14300824801127116 mins\n"
     ]
    }
   ],
   "source": [
    "start = time.time()\n",
    "lr_smote = LogisticRegression(max_iter=500, penalty='l2', solver='lbfgs')\n",
    "lr_smote.fit(X_train_smote, y_train_smote)\n",
    "end = time.time()\n",
    "print(f'run time = {(end-start)/60} mins')"
   ]
  },
  {
   "cell_type": "code",
   "execution_count": 27,
   "metadata": {},
   "outputs": [],
   "source": [
    "# pickle.dump(lr_1, open('models/lr_1.sav', 'wb'))"
   ]
  },
  {
   "cell_type": "code",
   "execution_count": 29,
   "metadata": {},
   "outputs": [
    {
     "name": "stdout",
     "output_type": "stream",
     "text": [
      "train smote\n",
      "F1 Score = 0.6696197411003236\n",
      "Accuracy Score = 0.6514744164212862\n",
      "\n",
      "test smote\n",
      "F1 Score = 0.6510695187165775\n",
      "Accuracy Score = 0.6323943661971831\n",
      "\n",
      "train no smote\n",
      "F1 Score = 0.4385279340404517\n",
      "Accuracy Score = 0.5934390547263682\n",
      "\n",
      "test no smote\n",
      "F1 Score = 0.39772727272727276\n",
      "Accuracy Score = 0.5651282051282052\n"
     ]
    }
   ],
   "source": [
    "print('train smote')\n",
    "y_pred_train = lr_smote.predict(X_train_smote)\n",
    "print(f'F1 Score = {f1_score(y_train_smote,y_pred_train)}')\n",
    "print(f'Accuracy Score = {accuracy_score(y_train_smote,y_pred_train)}')\n",
    "print('\\ntest smote')\n",
    "y_pred_test = lr_smote.predict(X_test_smote)\n",
    "print(f'F1 Score = {f1_score(y_test_smote,y_pred_test)}')\n",
    "print(f'Accuracy Score = {accuracy_score(y_test_smote,y_pred_test)}')\n",
    "print('\\ntrain no smote')\n",
    "y_pred_train = lr_smote.predict(X_train_post_dtm_pca)\n",
    "print(f'F1 Score = {f1_score(y_train,y_pred_train)}')\n",
    "print(f'Accuracy Score = {accuracy_score(y_train,y_pred_train)}')\n",
    "print('\\ntest no smote')\n",
    "y_pred_test = lr_smote.predict(X_test_post_dtm_pca)\n",
    "print(f'F1 Score = {f1_score(y_test,y_pred_test)}')\n",
    "print(f'Accuracy Score = {accuracy_score(y_test,y_pred_test)}')"
   ]
  },
  {
   "cell_type": "markdown",
   "metadata": {},
   "source": [
    "(max_iter=1000, penalty='l2', solver='lbfgs') <br>\n",
    "train<br>\n",
    "F1 Score = 0.6686894840467136 <br>\n",
    "Accuracy Score = 0.6505213445425966<br>\n",
    "test<br>\n",
    "F1 Score = 0.6613861386138614<br>\n",
    "Accuracy Score = 0.6387323943661972"
   ]
  },
  {
   "cell_type": "markdown",
   "metadata": {},
   "source": []
  },
  {
   "cell_type": "code",
   "execution_count": 21,
   "metadata": {},
   "outputs": [
    {
     "name": "stdout",
     "output_type": "stream",
     "text": [
      "run time = 0.09725179274876912 mins\n"
     ]
    }
   ],
   "source": [
    "start = time.time()\n",
    "lr_no_smote = LogisticRegression(max_iter=1500, penalty='l2', solver='lbfgs')\n",
    "lr_no_smote.fit(X_train_post_dtm_pca, y_train)\n",
    "end = time.time()\n",
    "print(f'run time = {(end-start)/60} mins')"
   ]
  },
  {
   "cell_type": "code",
   "execution_count": 22,
   "metadata": {},
   "outputs": [
    {
     "name": "stdout",
     "output_type": "stream",
     "text": [
      "train smote\n",
      "[[68950  1349]\n",
      " [67856  2443]]\n",
      "F1 Score = 0.06594593135468546\n",
      "Accuracy Score = 0.5077810495170628\n",
      "\n",
      "test smote\n",
      "[[698  12]\n",
      " [698  12]]\n",
      "F1 Score = 0.0326975476839237\n",
      "Accuracy Score = 0.5\n",
      "\n",
      "train no smote\n",
      "[[68950  1349]\n",
      " [24684  1497]]\n",
      "F1 Score = 0.10314534743514658\n",
      "Accuracy Score = 0.7301720563847429\n",
      "\n",
      "test no smote\n",
      "[[698  12]\n",
      " [256   9]]\n",
      "F1 Score = 0.06293706293706294\n",
      "Accuracy Score = 0.7251282051282051\n"
     ]
    }
   ],
   "source": [
    "print('train smote')\n",
    "y_pred_train = lr_no_smote.predict(X_train_smote)\n",
    "print(f'F1 Score = {f1_score(y_train_smote,y_pred_train)}')\n",
    "print(f'Accuracy Score = {accuracy_score(y_train_smote,y_pred_train)}')\n",
    "print('\\ntest smote')\n",
    "y_pred_test = lr_no_smote.predict(X_test_smote)\n",
    "print(f'F1 Score = {f1_score(y_test_smote,y_pred_test)}')\n",
    "print(f'Accuracy Score = {accuracy_score(y_test_smote,y_pred_test)}')\n",
    "print('\\ntrain no smote')\n",
    "y_pred_train = lr_no_smote.predict(X_train_post_dtm_pca)\n",
    "print(f'F1 Score = {f1_score(y_train,y_pred_train)}')\n",
    "print(f'Accuracy Score = {accuracy_score(y_train,y_pred_train)}')\n",
    "print('\\ntest no smote')\n",
    "y_pred_test = lr_no_smote.predict(X_test_post_dtm_pca)\n",
    "print(f'F1 Score = {f1_score(y_test,y_pred_test)}')\n",
    "print(f'Accuracy Score = {accuracy_score(y_test,y_pred_test)}')"
   ]
  },
  {
   "cell_type": "markdown",
   "metadata": {},
   "source": [
    "### Testing predictions"
   ]
  },
  {
   "cell_type": "code",
   "execution_count": 57,
   "metadata": {},
   "outputs": [],
   "source": [
    "# aita = pd.read_csv('data/aita_clean.csv')\n",
    "top_100 = aita[['title','body','verdict','is_asshole','score']].sort_values('score', ascending=False).head(3)"
   ]
  },
  {
   "cell_type": "code",
   "execution_count": 58,
   "metadata": {},
   "outputs": [
    {
     "data": {
      "text/plain": [
       "81235    I am a high schooler with a weekend job at a c...\n",
       "69302    Note. My step-daughter, Madeline, was about a ...\n",
       "49802    We had a family dinner this evening. My family...\n",
       "Name: body, dtype: object"
      ]
     },
     "execution_count": 58,
     "metadata": {},
     "output_type": "execute_result"
    }
   ],
   "source": [
    "top_100['body']"
   ]
  },
  {
   "cell_type": "code",
   "execution_count": 59,
   "metadata": {},
   "outputs": [],
   "source": [
    "diag_100 = Proctologist(model=lr_1).diagnosis(top_100['body'].values)"
   ]
  },
  {
   "cell_type": "code",
   "execution_count": 60,
   "metadata": {},
   "outputs": [
    {
     "data": {
      "text/html": [
       "<div>\n",
       "<style scoped>\n",
       "    .dataframe tbody tr th:only-of-type {\n",
       "        vertical-align: middle;\n",
       "    }\n",
       "\n",
       "    .dataframe tbody tr th {\n",
       "        vertical-align: top;\n",
       "    }\n",
       "\n",
       "    .dataframe thead th {\n",
       "        text-align: right;\n",
       "    }\n",
       "</style>\n",
       "<table border=\"1\" class=\"dataframe\">\n",
       "  <thead>\n",
       "    <tr style=\"text-align: right;\">\n",
       "      <th></th>\n",
       "      <th>prob not asshole</th>\n",
       "      <th>prob asshole</th>\n",
       "      <th>verdict</th>\n",
       "      <th>label</th>\n",
       "      <th>body</th>\n",
       "      <th>verdict</th>\n",
       "      <th>is_asshole</th>\n",
       "    </tr>\n",
       "  </thead>\n",
       "  <tbody>\n",
       "    <tr>\n",
       "      <th>0</th>\n",
       "      <td>0.69</td>\n",
       "      <td>0.31</td>\n",
       "      <td>0.0</td>\n",
       "      <td>Not Asshole</td>\n",
       "      <td>I am a high schooler with a weekend job at a c...</td>\n",
       "      <td>not the asshole</td>\n",
       "      <td>0</td>\n",
       "    </tr>\n",
       "    <tr>\n",
       "      <th>1</th>\n",
       "      <td>0.40</td>\n",
       "      <td>0.60</td>\n",
       "      <td>1.0</td>\n",
       "      <td>Asshole</td>\n",
       "      <td>Note. My step-daughter, Madeline, was about a ...</td>\n",
       "      <td>everyone sucks</td>\n",
       "      <td>1</td>\n",
       "    </tr>\n",
       "    <tr>\n",
       "      <th>2</th>\n",
       "      <td>0.72</td>\n",
       "      <td>0.28</td>\n",
       "      <td>0.0</td>\n",
       "      <td>Not Asshole</td>\n",
       "      <td>We had a family dinner this evening. My family...</td>\n",
       "      <td>everyone sucks</td>\n",
       "      <td>1</td>\n",
       "    </tr>\n",
       "  </tbody>\n",
       "</table>\n",
       "</div>"
      ],
      "text/plain": [
       "   prob not asshole   prob asshole verdict        label  \\\n",
       "0              0.69           0.31     0.0  Not Asshole   \n",
       "1              0.40           0.60     1.0      Asshole   \n",
       "2              0.72           0.28     0.0  Not Asshole   \n",
       "\n",
       "                                                body          verdict  \\\n",
       "0  I am a high schooler with a weekend job at a c...  not the asshole   \n",
       "1  Note. My step-daughter, Madeline, was about a ...   everyone sucks   \n",
       "2  We had a family dinner this evening. My family...   everyone sucks   \n",
       "\n",
       "   is_asshole  \n",
       "0           0  \n",
       "1           1  \n",
       "2           1  "
      ]
     },
     "execution_count": 60,
     "metadata": {},
     "output_type": "execute_result"
    }
   ],
   "source": [
    "pd.concat([diag_100, top_100[['body', 'verdict', 'is_asshole']].reset_index(drop=True)], axis=1)"
   ]
  },
  {
   "cell_type": "markdown",
   "metadata": {},
   "source": [
    "### 2.c Logistic Regression with best estimators"
   ]
  },
  {
   "cell_type": "code",
   "execution_count": 26,
   "metadata": {},
   "outputs": [
    {
     "name": "stdout",
     "output_type": "stream",
     "text": [
      "0.13632711966832478\n"
     ]
    }
   ],
   "source": [
    "start = time.time()\n",
    "\n",
    "lr = LogisticRegression(n_jobs=-1, max_iter=1000, penalty='l2')\n",
    "lr.fit(X_train_smote, y_train_smote)\n",
    "\n",
    "end = time.time()\n",
    "print((end-start)/60)"
   ]
  },
  {
   "cell_type": "code",
   "execution_count": 27,
   "metadata": {},
   "outputs": [
    {
     "name": "stdout",
     "output_type": "stream",
     "text": [
      "F1 Score = 0.6697968944727004\n",
      "Accuracy Score = 0.6513677292706866\n"
     ]
    }
   ],
   "source": [
    "y_pred_train_lr = lr.predict(X_train_smote)\n",
    "conf = confusion_matrix(y_train_smote,y_pred_train_lr) \n",
    "np.round(conf/sum(conf), decimals=2)\n",
    "# print(classification_report(y_train,y_pred_train_lr))\n",
    "print(f'F1 Score = {f1_score(y_train_smote,y_pred_train_lr)}')\n",
    "print(f'Accuracy Score = {accuracy_score(y_train_smote,y_pred_train_lr)}')"
   ]
  },
  {
   "cell_type": "code",
   "execution_count": 29,
   "metadata": {},
   "outputs": [
    {
     "name": "stdout",
     "output_type": "stream",
     "text": [
      "[[411 299]\n",
      " [227 483]]\n",
      "F1 Score = 0.6474530831099196\n",
      "Accuracy Score = 0.6295774647887324\n"
     ]
    }
   ],
   "source": [
    "y_pred_test = lr.predict(X_test_smote)\n",
    "print(confusion_matrix(y_test_smote,y_pred_test))\n",
    "print(f'F1 Score = {f1_score(y_test_smote,y_pred_test)}')\n",
    "print(f'Accuracy Score = {accuracy_score(y_test_smote,y_pred_test)}')"
   ]
  },
  {
   "cell_type": "markdown",
   "metadata": {},
   "source": [
    "## 3. Naive Bayes"
   ]
  },
  {
   "cell_type": "code",
   "execution_count": 66,
   "metadata": {},
   "outputs": [
    {
     "data": {
      "text/plain": [
       "Counter({0: 70299, 1: 70299})"
      ]
     },
     "execution_count": 66,
     "metadata": {},
     "output_type": "execute_result"
    }
   ],
   "source": [
    "X_train_dtm_smote, y_train_smote = SMOTE().fit_resample(dtm_train, y_train)\n",
    "X_test_dtm_smote, y_test_smote = SMOTE().fit_resample(dtm_test, y_test)"
   ]
  },
  {
   "cell_type": "code",
   "execution_count": 68,
   "metadata": {},
   "outputs": [
    {
     "data": {
      "text/plain": [
       "MultinomialNB()"
      ]
     },
     "execution_count": 68,
     "metadata": {},
     "output_type": "execute_result"
    }
   ],
   "source": [
    "nb = MultinomialNB()\n",
    "nb.fit(X_train_dtm_smote, y_train_smote)"
   ]
  },
  {
   "cell_type": "code",
   "execution_count": 69,
   "metadata": {},
   "outputs": [
    {
     "name": "stdout",
     "output_type": "stream",
     "text": [
      "[[51295 19004]\n",
      " [18088 52211]]\n",
      "F1 Score = 0.7378916573625224\n",
      "Accuracy Score = 0.7361840139973541\n"
     ]
    }
   ],
   "source": [
    "y_pred_train_nb = nb.predict(X_train_dtm_smote)\n",
    "print(confusion_matrix(y_train_smote,y_pred_train_nb))\n",
    "# print(classification_report(y_train,y_pred_train_nb))\n",
    "print(f'F1 Score = {f1_score(y_train_smote,y_pred_train_nb)}')\n",
    "print(f'Accuracy Score = {accuracy_score(y_train_smote,y_pred_train_nb)}')"
   ]
  },
  {
   "cell_type": "code",
   "execution_count": 70,
   "metadata": {},
   "outputs": [
    {
     "name": "stdout",
     "output_type": "stream",
     "text": [
      "[[511 199]\n",
      " [158 107]]\n",
      "F1 Score = 0.37478108581436076\n",
      "Accuracy Score = 0.6338461538461538\n"
     ]
    }
   ],
   "source": [
    "y_pred_test_nb = nb.predict(dtm_test)\n",
    "print(confusion_matrix(y_test,y_pred_test_nb))\n",
    "# print(classification_report(y_test,y_pred_test_nb))\n",
    "print(f'F1 Score = {f1_score(y_test,y_pred_test_nb)}')\n",
    "print(f'Accuracy Score = {accuracy_score(y_test,y_pred_test_nb)}')"
   ]
  },
  {
   "cell_type": "markdown",
   "metadata": {},
   "source": [
    "## 4 - Support Vector Machines (SVM)"
   ]
  },
  {
   "cell_type": "code",
   "execution_count": 37,
   "metadata": {},
   "outputs": [],
   "source": [
    "svm_pipe = Pipeline([('clf-svm', SGDClassifier(n_jobs=-1))])\n",
    "pip_params = {'clf-svm__alpha': (1e-2, 1e-4),\n",
    "             'clf-svm__loss': ('log', 'perceptron', 'hinge')}\n",
    "gs_svm = GridSearchCV(svm_pipe, pip_params, n_jobs=-1)"
   ]
  },
  {
   "cell_type": "code",
   "execution_count": 38,
   "metadata": {},
   "outputs": [],
   "source": [
    "gs_svm = gs_svm.fit(X_train_smote, y_train_smote)"
   ]
  },
  {
   "cell_type": "code",
   "execution_count": 39,
   "metadata": {},
   "outputs": [
    {
     "name": "stdout",
     "output_type": "stream",
     "text": [
      "0.637513170377248\n",
      "{'clf-svm__alpha': 0.01, 'clf-svm__loss': 'log'}\n"
     ]
    }
   ],
   "source": [
    "print(gs_svm.best_score_)\n",
    "print(gs_svm.best_params_)"
   ]
  },
  {
   "cell_type": "code",
   "execution_count": 43,
   "metadata": {},
   "outputs": [
    {
     "name": "stdout",
     "output_type": "stream",
     "text": [
      "[[40615 29684]\n",
      " [20198 50101]]\n",
      "F1 Score = 0.6676394552383997\n",
      "Accuracy Score = 0.645215436919444\n"
     ]
    }
   ],
   "source": [
    "y_pred_train_svm = gs_svm.predict(X_train_smote)\n",
    "print(confusion_matrix(y_train_smote,y_pred_train_svm))\n",
    "print(f'F1 Score = {f1_score(y_train_smote,y_pred_train_svm)}')\n",
    "print(f'Accuracy Score = {accuracy_score(y_train_smote,y_pred_train_svm)}')"
   ]
  },
  {
   "cell_type": "code",
   "execution_count": 40,
   "metadata": {},
   "outputs": [
    {
     "name": "stdout",
     "output_type": "stream",
     "text": [
      "[[391 319]\n",
      " [114 151]]\n",
      "F1 Score = 0.41088435374149657\n",
      "Accuracy Score = 0.5558974358974359\n"
     ]
    }
   ],
   "source": [
    "y_pred_test_svm = gs_svm.predict(X_test_post_dtm_pca)\n",
    "print(confusion_matrix(y_test,y_pred_test_svm))\n",
    "print(f'F1 Score = {f1_score(y_test,y_pred_test_svm)}')\n",
    "print(f'Accuracy Score = {accuracy_score(y_test,y_pred_test_svm)}')"
   ]
  },
  {
   "cell_type": "markdown",
   "metadata": {},
   "source": [
    "## Trying Predictions"
   ]
  },
  {
   "cell_type": "code",
   "execution_count": 54,
   "metadata": {},
   "outputs": [],
   "source": [
    "texts = ['I pushed my mom off a cliff, and my whole family is mad at me, but I don\\'t feel bad about it, aita?',\n",
    "        'My boyfriend cheated on me, so I kicked him out of the house I own, he threatened to call the police, and I told him to leave me alone.', \n",
    "        'I cheated on my boyfriend and he kicked me out of his house, I broke in in the middle of night, I did not pay rent.',\n",
    "        'I talked to my ex on a regular basis, and my girlfriend isn\\'t happy about it, she said she\\'s going to leave me', \n",
    "        'my biological parents spent years looking for me, but I am happy with my adoptive parents and consider them my real family, I don\\'t want to have any contact with my biological parents after they abandoned me']"
   ]
  },
  {
   "cell_type": "code",
   "execution_count": 55,
   "metadata": {},
   "outputs": [
    {
     "data": {
      "text/html": [
       "<div>\n",
       "<style scoped>\n",
       "    .dataframe tbody tr th:only-of-type {\n",
       "        vertical-align: middle;\n",
       "    }\n",
       "\n",
       "    .dataframe tbody tr th {\n",
       "        vertical-align: top;\n",
       "    }\n",
       "\n",
       "    .dataframe thead th {\n",
       "        text-align: right;\n",
       "    }\n",
       "</style>\n",
       "<table border=\"1\" class=\"dataframe\">\n",
       "  <thead>\n",
       "    <tr style=\"text-align: right;\">\n",
       "      <th></th>\n",
       "      <th>prob not asshole</th>\n",
       "      <th>prob asshole</th>\n",
       "      <th>verdict</th>\n",
       "      <th>label</th>\n",
       "    </tr>\n",
       "  </thead>\n",
       "  <tbody>\n",
       "    <tr>\n",
       "      <th>0</th>\n",
       "      <td>0.38</td>\n",
       "      <td>0.62</td>\n",
       "      <td>1.0</td>\n",
       "      <td>Asshole</td>\n",
       "    </tr>\n",
       "    <tr>\n",
       "      <th>1</th>\n",
       "      <td>0.51</td>\n",
       "      <td>0.49</td>\n",
       "      <td>0.0</td>\n",
       "      <td>Not Asshole</td>\n",
       "    </tr>\n",
       "    <tr>\n",
       "      <th>2</th>\n",
       "      <td>0.22</td>\n",
       "      <td>0.78</td>\n",
       "      <td>1.0</td>\n",
       "      <td>Asshole</td>\n",
       "    </tr>\n",
       "    <tr>\n",
       "      <th>3</th>\n",
       "      <td>0.29</td>\n",
       "      <td>0.71</td>\n",
       "      <td>1.0</td>\n",
       "      <td>Asshole</td>\n",
       "    </tr>\n",
       "    <tr>\n",
       "      <th>4</th>\n",
       "      <td>0.35</td>\n",
       "      <td>0.65</td>\n",
       "      <td>1.0</td>\n",
       "      <td>Asshole</td>\n",
       "    </tr>\n",
       "  </tbody>\n",
       "</table>\n",
       "</div>"
      ],
      "text/plain": [
       "   prob not asshole   prob asshole  verdict        label\n",
       "0              0.38           0.62      1.0      Asshole\n",
       "1              0.51           0.49      0.0  Not Asshole\n",
       "2              0.22           0.78      1.0      Asshole\n",
       "3              0.29           0.71      1.0      Asshole\n",
       "4              0.35           0.65      1.0      Asshole"
      ]
     },
     "execution_count": 55,
     "metadata": {},
     "output_type": "execute_result"
    }
   ],
   "source": [
    "Proctologist().diagnosis(texts)"
   ]
  },
  {
   "cell_type": "code",
   "execution_count": null,
   "metadata": {},
   "outputs": [],
   "source": []
  },
  {
   "cell_type": "code",
   "execution_count": null,
   "metadata": {},
   "outputs": [],
   "source": []
  }
 ],
 "metadata": {
  "instance_type": "ml.m5.xlarge",
  "kernelspec": {
   "display_name": "conda_tensorflow2_p36",
   "language": "python",
   "name": "conda_tensorflow2_p36"
  },
  "language_info": {
   "codemirror_mode": {
    "name": "ipython",
    "version": 3
   },
   "file_extension": ".py",
   "mimetype": "text/x-python",
   "name": "python",
   "nbconvert_exporter": "python",
   "pygments_lexer": "ipython3",
   "version": "3.6.13"
  }
 },
 "nbformat": 4,
 "nbformat_minor": 4
}
