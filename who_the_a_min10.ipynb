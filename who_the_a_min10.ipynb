{
 "cells": [
  {
   "cell_type": "code",
   "execution_count": 15,
   "metadata": {},
   "outputs": [],
   "source": [
    "# # ! pip install imbalanced-learn\n",
    "# # ! pip install lime\n",
    "# # ! pip install textblob\n",
    "# # ! pip install contractions\n",
    "# # ! pip install spacy\n",
    "# # ! python -m spacy download en_core_web_sm\n",
    "# # ! pip install gensim\n",
    "# ! pip install python-Levenshtein"
   ]
  },
  {
   "cell_type": "code",
   "execution_count": 1,
   "metadata": {},
   "outputs": [],
   "source": [
    "import numpy as np \n",
    "import pandas as pd \n",
    "import matplotlib.pyplot as plt\n",
    "plt.style.use('dark_background')\n",
    "import seaborn as sns\n",
    "\n",
    "import pickle \n",
    "import imblearn\n",
    "from imblearn.over_sampling import SMOTE\n",
    "from collections import Counter\n",
    "import time\n",
    "\n",
    "import nltk\n",
    "# nltk.download('stopwords')\n",
    "from nltk.corpus import stopwords\n",
    "# import lime\n",
    "# import lime.lime_tabular\n",
    "\n",
    "from sklearn.feature_extraction.text import CountVectorizer, TfidfTransformer\n",
    "from sklearn.model_selection import train_test_split, cross_val_score, GridSearchCV\n",
    "# from sklearn.pipeline import Pipeline\n",
    "from imblearn.pipeline import Pipeline\n",
    "from sklearn.metrics import classification_report, confusion_matrix, accuracy_score, f1_score, plot_confusion_matrix\n",
    "\n",
    "from sklearn.naive_bayes import MultinomialNB\n",
    "from sklearn.linear_model import LogisticRegression, SGDClassifier\n",
    "from sklearn.ensemble import RandomForestClassifier\n",
    "from sklearn.decomposition import PCA, IncrementalPCA, LatentDirichletAllocation\n",
    "\n",
    "from helpers import *"
   ]
  },
  {
   "cell_type": "markdown",
   "metadata": {},
   "source": [
    "## Load cleaned data\n",
    "combine title and body of text "
   ]
  },
  {
   "cell_type": "code",
   "execution_count": 10,
   "metadata": {},
   "outputs": [],
   "source": [
    "aita_2 = pd.read_csv('data/aita_save2.csv')"
   ]
  },
  {
   "cell_type": "code",
   "execution_count": 11,
   "metadata": {},
   "outputs": [
    {
     "data": {
      "text/html": [
       "<div>\n",
       "<style scoped>\n",
       "    .dataframe tbody tr th:only-of-type {\n",
       "        vertical-align: middle;\n",
       "    }\n",
       "\n",
       "    .dataframe tbody tr th {\n",
       "        vertical-align: top;\n",
       "    }\n",
       "\n",
       "    .dataframe thead th {\n",
       "        text-align: right;\n",
       "    }\n",
       "</style>\n",
       "<table border=\"1\" class=\"dataframe\">\n",
       "  <thead>\n",
       "    <tr style=\"text-align: right;\">\n",
       "      <th></th>\n",
       "      <th>body_polarity</th>\n",
       "      <th>body_subjectivity</th>\n",
       "      <th>is_asshole</th>\n",
       "      <th>score</th>\n",
       "      <th>num_comments</th>\n",
       "      <th>title_body_combo</th>\n",
       "    </tr>\n",
       "  </thead>\n",
       "  <tbody>\n",
       "    <tr>\n",
       "      <th>0</th>\n",
       "      <td>-0.156818</td>\n",
       "      <td>0.656818</td>\n",
       "      <td>1</td>\n",
       "      <td>52</td>\n",
       "      <td>13.0</td>\n",
       "      <td>I write an explanation in til and come off a...</td>\n",
       "    </tr>\n",
       "    <tr>\n",
       "      <th>1</th>\n",
       "      <td>0.034848</td>\n",
       "      <td>0.449242</td>\n",
       "      <td>1</td>\n",
       "      <td>140</td>\n",
       "      <td>27.0</td>\n",
       "      <td>throw my parent donut awaymy parent be diabe...</td>\n",
       "    </tr>\n",
       "    <tr>\n",
       "      <th>2</th>\n",
       "      <td>0.000000</td>\n",
       "      <td>0.000000</td>\n",
       "      <td>0</td>\n",
       "      <td>74</td>\n",
       "      <td>15.0</td>\n",
       "      <td>I tell a goth girl she look like a clownI be four</td>\n",
       "    </tr>\n",
       "    <tr>\n",
       "      <th>3</th>\n",
       "      <td>0.000000</td>\n",
       "      <td>0.700000</td>\n",
       "      <td>1</td>\n",
       "      <td>12</td>\n",
       "      <td>14.0</td>\n",
       "      <td>atia I permanently give a customer decafhis na...</td>\n",
       "    </tr>\n",
       "    <tr>\n",
       "      <th>4</th>\n",
       "      <td>-0.034226</td>\n",
       "      <td>0.395982</td>\n",
       "      <td>1</td>\n",
       "      <td>14</td>\n",
       "      <td>18.0</td>\n",
       "      <td>give my friend some peanut ask for some late...</td>\n",
       "    </tr>\n",
       "    <tr>\n",
       "      <th>...</th>\n",
       "      <td>...</td>\n",
       "      <td>...</td>\n",
       "      <td>...</td>\n",
       "      <td>...</td>\n",
       "      <td>...</td>\n",
       "      <td>...</td>\n",
       "    </tr>\n",
       "    <tr>\n",
       "      <th>23141</th>\n",
       "      <td>0.070667</td>\n",
       "      <td>0.479542</td>\n",
       "      <td>0</td>\n",
       "      <td>10</td>\n",
       "      <td>12.0</td>\n",
       "      <td>for not want to reconcile with one of my ex ...</td>\n",
       "    </tr>\n",
       "    <tr>\n",
       "      <th>23142</th>\n",
       "      <td>0.192381</td>\n",
       "      <td>0.485714</td>\n",
       "      <td>0</td>\n",
       "      <td>11</td>\n",
       "      <td>17.0</td>\n",
       "      <td>for want to go out on my birthdayI recently ...</td>\n",
       "    </tr>\n",
       "    <tr>\n",
       "      <th>23143</th>\n",
       "      <td>-0.126852</td>\n",
       "      <td>0.465741</td>\n",
       "      <td>1</td>\n",
       "      <td>67</td>\n",
       "      <td>54.0</td>\n",
       "      <td>for yell at my daughter   have be help   dau...</td>\n",
       "    </tr>\n",
       "    <tr>\n",
       "      <th>23144</th>\n",
       "      <td>0.016111</td>\n",
       "      <td>0.385278</td>\n",
       "      <td>0</td>\n",
       "      <td>16</td>\n",
       "      <td>23.0</td>\n",
       "      <td>for tell my sister she be be a spoiled bratm...</td>\n",
       "    </tr>\n",
       "    <tr>\n",
       "      <th>23145</th>\n",
       "      <td>0.067130</td>\n",
       "      <td>0.426132</td>\n",
       "      <td>0</td>\n",
       "      <td>280</td>\n",
       "      <td>140.0</td>\n",
       "      <td>if I leave my brother fate up to the statea ...</td>\n",
       "    </tr>\n",
       "  </tbody>\n",
       "</table>\n",
       "<p>23146 rows × 6 columns</p>\n",
       "</div>"
      ],
      "text/plain": [
       "       body_polarity  body_subjectivity  is_asshole  score  num_comments  \\\n",
       "0          -0.156818           0.656818           1     52          13.0   \n",
       "1           0.034848           0.449242           1    140          27.0   \n",
       "2           0.000000           0.000000           0     74          15.0   \n",
       "3           0.000000           0.700000           1     12          14.0   \n",
       "4          -0.034226           0.395982           1     14          18.0   \n",
       "...              ...                ...         ...    ...           ...   \n",
       "23141       0.070667           0.479542           0     10          12.0   \n",
       "23142       0.192381           0.485714           0     11          17.0   \n",
       "23143      -0.126852           0.465741           1     67          54.0   \n",
       "23144       0.016111           0.385278           0     16          23.0   \n",
       "23145       0.067130           0.426132           0    280         140.0   \n",
       "\n",
       "                                        title_body_combo  \n",
       "0        I write an explanation in til and come off a...  \n",
       "1        throw my parent donut awaymy parent be diabe...  \n",
       "2      I tell a goth girl she look like a clownI be four  \n",
       "3      atia I permanently give a customer decafhis na...  \n",
       "4        give my friend some peanut ask for some late...  \n",
       "...                                                  ...  \n",
       "23141    for not want to reconcile with one of my ex ...  \n",
       "23142    for want to go out on my birthdayI recently ...  \n",
       "23143    for yell at my daughter   have be help   dau...  \n",
       "23144    for tell my sister she be be a spoiled bratm...  \n",
       "23145    if I leave my brother fate up to the statea ...  \n",
       "\n",
       "[23146 rows x 6 columns]"
      ]
     },
     "execution_count": 11,
     "metadata": {},
     "output_type": "execute_result"
    }
   ],
   "source": [
    "aita = aita_2.dropna(subset=['body_clean', 'title_clean']).loc[:,['body_polarity','body_subjectivity','is_asshole','score','num_comments']]\n",
    "aita['title_body_combo'] =  aita_3['title_clean'] + aita_3['body_clean']\n",
    "aita = aita[(aita['score'] >= 10) & (aita['num_comments']>= 10)]\n",
    "aita.dropna(inplace=True)\n",
    "aita.reset_index(drop=True)"
   ]
  },
  {
   "cell_type": "markdown",
   "metadata": {},
   "source": [
    "## 1 - train test split"
   ]
  },
  {
   "cell_type": "code",
   "execution_count": 15,
   "metadata": {},
   "outputs": [
    {
     "name": "stdout",
     "output_type": "stream",
     "text": [
      "(22914, 5) (232, 5)\n"
     ]
    }
   ],
   "source": [
    "X = aita.drop('is_asshole', axis=1)\n",
    "y = aita['is_asshole']\n",
    "X_train, X_test, y_train, y_test = train_test_split(X, y, stratify=y, test_size=0.01, random_state=21)\n",
    "print(X_train.shape, X_test.shape)"
   ]
  },
  {
   "cell_type": "code",
   "execution_count": 16,
   "metadata": {},
   "outputs": [
    {
     "data": {
      "text/plain": [
       "Counter({1: 6407, 0: 16739})"
      ]
     },
     "execution_count": 16,
     "metadata": {},
     "output_type": "execute_result"
    }
   ],
   "source": [
    "Counter(y)"
   ]
  },
  {
   "cell_type": "markdown",
   "metadata": {},
   "source": [
    "## 2 - Instantiate CountVectorizer "
   ]
  },
  {
   "cell_type": "code",
   "execution_count": 17,
   "metadata": {},
   "outputs": [
    {
     "data": {
      "text/plain": [
       "3221"
      ]
     },
     "execution_count": 17,
     "metadata": {},
     "output_type": "execute_result"
    }
   ],
   "source": [
    "# add_stop_words = ['like', 'get', 'go', 'say', 'tell', 'thats', 'want', 'time',\n",
    "#                   'youre', 'got', 'gonna', 'time', 'also', 'yeah', 'said']\n",
    "# stop = set(stopwords.words('english')).union(add_stop_words)\n",
    "# vec = CountVectorizer(stop_words=stop, min_df=0.005, max_df=0.8, ngram_range=(1, 2))\n",
    "# cv = vec.fit(X_train['title_body_combo'])\n",
    "# len(cv.get_feature_names())\n",
    "# # 3221"
   ]
  },
  {
   "cell_type": "code",
   "execution_count": 18,
   "metadata": {},
   "outputs": [],
   "source": [
    "# pickle.dump(cv, open('models/cv_fit_train_min10.sav', 'wb'))\n",
    "cv = pickle.load(open('models/cv_fit_train_min10.sav', 'rb'))\n",
    "len(cv.get_feature_names())"
   ]
  },
  {
   "cell_type": "markdown",
   "metadata": {},
   "source": [
    "### 2.a Transform train and test data into document-term-matrix with CountVectorizer"
   ]
  },
  {
   "cell_type": "code",
   "execution_count": 19,
   "metadata": {},
   "outputs": [],
   "source": [
    "cv_train = cv.transform(X_train['title_body_combo'])\n",
    "cv_test = cv.transform(X_test['title_body_combo'])\n",
    "cv_cols = cv.get_feature_names()\n",
    "dtm_train = pd.DataFrame(cv_train.toarray(), columns=cv_cols, index=X_train.index)\n",
    "dtm_test = pd.DataFrame(cv_test.toarray(), columns=cv_cols, index=X_test.index)"
   ]
  },
  {
   "cell_type": "code",
   "execution_count": 20,
   "metadata": {},
   "outputs": [
    {
     "data": {
      "text/plain": [
       "((22914, 3221), (232, 3221))"
      ]
     },
     "execution_count": 20,
     "metadata": {},
     "output_type": "execute_result"
    }
   ],
   "source": [
    "dtm_train.shape, dtm_test.shape"
   ]
  },
  {
   "cell_type": "markdown",
   "metadata": {},
   "source": [
    "## 3 - PCA"
   ]
  },
  {
   "cell_type": "code",
   "execution_count": 21,
   "metadata": {},
   "outputs": [
    {
     "name": "stdout",
     "output_type": "stream",
     "text": [
      "0.8858948258154675\n"
     ]
    }
   ],
   "source": [
    "# pca = IncrementalPCA(n_components=1000, batch_size=1050)\n",
    "# pca.fit(dtm_train)\n",
    "# print(pca.explained_variance_ratio_.sum())"
   ]
  },
  {
   "cell_type": "code",
   "execution_count": 22,
   "metadata": {},
   "outputs": [
    {
     "name": "stdout",
     "output_type": "stream",
     "text": [
      "<bound method BaseEstimator.get_params of IncrementalPCA(batch_size=1050, n_components=1000)>\n",
      "0.8858948258154675\n"
     ]
    }
   ],
   "source": [
    "# pickle.dump(pca, open('models/pca_min10.sav', 'wb'))\n",
    "# # pca = pickle.load(open('models/pca_min10.sav', 'rb'))\n",
    "# print(pca.get_params)\n",
    "# print(pca.explained_variance_ratio_.sum())\n",
    "# # 0.8858948258154675"
   ]
  },
  {
   "cell_type": "markdown",
   "metadata": {},
   "source": [
    "#### 3.a Scree plot, check number of components is appropriate"
   ]
  },
  {
   "cell_type": "code",
   "execution_count": 23,
   "metadata": {},
   "outputs": [
    {
     "data": {
      "image/png": "[encoded data removed]",
      "text/plain": [
       "<Figure size 432x288 with 1 Axes>"
      ]
     },
     "metadata": {},
     "output_type": "display_data"
    }
   ],
   "source": [
    "# plt.plot(np.cumsum(pca.explained_variance_ratio_))\n",
    "# plt.xlabel('number of components')\n",
    "# plt.ylabel('cumulative explained variance')\n",
    "# plt.title('PCA Scree Plot')\n",
    "# evr = pca.explained_variance_ratio_\n",
    "# cvr = np.cumsum(pca.explained_variance_ratio_)\n",
    "# pca_df = pd.DataFrame()\n",
    "# pca_df['Cumulative Variance Ratio'] = cvr\n",
    "# pca_df['Explained Variance Ratio'] = evr"
   ]
  },
  {
   "cell_type": "markdown",
   "metadata": {},
   "source": [
    "### 3.b - Transform train/test Document-Term-matrix with PCA"
   ]
  },
  {
   "cell_type": "code",
   "execution_count": 24,
   "metadata": {},
   "outputs": [],
   "source": [
    "# dtm_train_pca = pca.transform(dtm_train)\n",
    "# dtm_test_pca = pca.transform(dtm_test)"
   ]
  },
  {
   "cell_type": "code",
   "execution_count": 25,
   "metadata": {},
   "outputs": [],
   "source": [
    "# # Build DataFrame of PCA Components\n",
    "# col_names = ['PC_' + str(i) for i in range(1, pca.get_params()['n_components']+1)]\n",
    "# dtm_train_pca_df = pd.DataFrame(dtm_train_pca, columns=col_names, index=dtm_train.index)\n",
    "# dtm_test_pca_df = pd.DataFrame(dtm_test_pca, columns=col_names, index=dtm_test.index)"
   ]
  },
  {
   "cell_type": "code",
   "execution_count": 26,
   "metadata": {},
   "outputs": [],
   "source": [
    "# # Combine PCA components and sentiment analysis scores into one DataFrame\n",
    "# X_train_post_dtm_pca = pd.concat([X_train[['body_polarity','body_subjectivity']], dtm_train_pca_df], axis=1)\n",
    "# X_test_post_dtm_pca = pd.concat([X_test[['body_polarity','body_subjectivity']],dtm_test_pca_df], axis=1)"
   ]
  },
  {
   "cell_type": "markdown",
   "metadata": {},
   "source": [
    "## 4 Oversample minority class with SMOTE"
   ]
  },
  {
   "cell_type": "code",
   "execution_count": 29,
   "metadata": {},
   "outputs": [
    {
     "data": {
      "text/plain": [
       "(Counter({1: 16571, 0: 16571}), Counter({1: 168, 0: 168}))"
      ]
     },
     "execution_count": 29,
     "metadata": {},
     "output_type": "execute_result"
    }
   ],
   "source": [
    "# # sentiment analysis + PCA\n",
    "# X_train_smote, y_train_smote = SMOTE().fit_resample(X_train_post_dtm_pca, y_train)\n",
    "# X_test_smote, y_test_smote = SMOTE().fit_resample(X_test_post_dtm_pca, y_test)\n",
    "# Counter(y_train_smote), Counter(y_test_smote)"
   ]
  },
  {
   "cell_type": "code",
   "execution_count": null,
   "metadata": {},
   "outputs": [],
   "source": [
    "# DTM \n",
    "X_train_dtm_smote, y_train_smote = SMOTE().fit_resample(dtm_train, y_train)\n",
    "X_test_dtm_smote, y_test_smote = SMOTE().fit_resample(dtm_test, y_test)"
   ]
  },
  {
   "cell_type": "code",
   "execution_count": 107,
   "metadata": {},
   "outputs": [],
   "source": [
    "# sentiment analysis + DTM\n",
    "X_train_dtm_sen = pd.concat([X_train[['body_polarity','body_subjectivity']], dtm_train], axis=1)\n",
    "X_test_dtm_sen = pd.concat([X_test[['body_polarity','body_subjectivity']], dtm_test], axis=1)\n",
    "X_train_dtm_sen_smote, y_train_smote = SMOTE().fit_resample(X_train_dtm_sen, y_train)\n",
    "X_test_dtm_sen_smote, y_test_smote = SMOTE().fit_resample(X_test_dtm_sen, y_test)"
   ]
  },
  {
   "cell_type": "markdown",
   "metadata": {},
   "source": [
    "# Models"
   ]
  },
  {
   "cell_type": "markdown",
   "metadata": {},
   "source": [
    "## 1 - Logistic Regression"
   ]
  },
  {
   "cell_type": "markdown",
   "metadata": {},
   "source": [
    "#### 1.b LR with DTM"
   ]
  },
  {
   "cell_type": "code",
   "execution_count": 119,
   "metadata": {},
   "outputs": [
    {
     "name": "stdout",
     "output_type": "stream",
     "text": [
      "train smote\n",
      "F1 Score = 0.805\n",
      "Accuracy Score = 0.803\n",
      "test smote\n",
      "F1 Score = 0.740\n",
      "Accuracy Score = 0.738\n",
      "train no smote\n",
      "F1 Score = 0.498\n",
      "Accuracy Score = 0.716\n",
      "test no smote\n",
      "F1 Score = 0.373\n",
      "Accuracy Score = 0.638\n"
     ]
    }
   ],
   "source": [
    "start = time.time()\n",
    "lr_dtm = LogisticRegression(max_iter=800, penalty='l2', solver='lbfgs')\n",
    "lr_dtm.fit(X_train_dtm_smote, y_train_smote)\n",
    "end = time.time()\n",
    "print(f'run time = {(end-start)/60} mins')\n",
    "print('train smote')\n",
    "y_pred_train = lr_dtm.predict(X_train_dtm_smote)\n",
    "print(f'F1 Score = {f1_score(y_train_smote,y_pred_train):{n}f}')\n",
    "print(f'Accuracy Score = {accuracy_score(y_train_smote,y_pred_train):{n}f}')\n",
    "print('test smote')\n",
    "y_pred_test = lr_dtm.predict(X_test_dtm_smote)\n",
    "print(f'F1 Score = {f1_score(y_test_smote,y_pred_test):{n}f}')\n",
    "print(f'Accuracy Score = {accuracy_score(y_test_smote,y_pred_test):{n}f}')\n",
    "print('train no smote')\n",
    "y_pred_train = lr_dtm.predict(dtm_train)\n",
    "print(f'F1 Score = {f1_score(y_train,y_pred_train):{n}f}')\n",
    "print(f'Accuracy Score = {accuracy_score(y_train,y_pred_train):{n}f}')\n",
    "print('test no smote')\n",
    "y_pred_test = lr_dtm.predict(dtm_test)\n",
    "print(f'F1 Score = {f1_score(y_test,y_pred_test):{n}f}')\n",
    "print(f'Accuracy Score = {accuracy_score(y_test,y_pred_test):{n}f}')"
   ]
  },
  {
   "cell_type": "markdown",
   "metadata": {},
   "source": [
    "#### 1.c LR with DTM and Sentiment Analysis"
   ]
  },
  {
   "cell_type": "code",
   "execution_count": 113,
   "metadata": {},
   "outputs": [
    {
     "name": "stdout",
     "output_type": "stream",
     "text": [
      "train smote\n",
      "F1 Score = 0.805\n",
      "Accuracy Score = 0.804\n",
      "test smote\n",
      "F1 Score = 0.754\n",
      "Accuracy Score = 0.753\n",
      "train no smote\n",
      "F1 Score = 0.498\n",
      "Accuracy Score = 0.718\n",
      "test no smote\n",
      "F1 Score = 0.394\n",
      "Accuracy Score = 0.655\n"
     ]
    }
   ],
   "source": [
    "start = time.time()\n",
    "lr_dtm_sen = LogisticRegression(max_iter=800, penalty='l2', solver='lbfgs')\n",
    "lr_dtm_sen.fit(X_train_dtm_sen_smote, y_train_smote)\n",
    "end = time.time()\n",
    "print(f'run time = {(end-start)/60} mins')\n",
    "print('- train smote -')\n",
    "y_pred_train = lr_dtm_sen.predict(X_train_dtm_sen_smote)\n",
    "print(f'F1 Score = {f1_score(y_train_smote,y_pred_train):{n}f}')\n",
    "print(f'Accuracy Score = {accuracy_score(y_train_smote,y_pred_train):{n}f}')\n",
    "print('- test smote -')\n",
    "y_pred_test = lr_dtm_sen.predict(X_test_dtm_sen_smote)\n",
    "print(f'F1 Score = {f1_score(y_test_smote,y_pred_test):{n}f}')\n",
    "print(f'Accuracy Score = {accuracy_score(y_test_smote,y_pred_test):{n}f}')\n",
    "print('- train no smote -')\n",
    "y_pred_train = lr_dtm_sen.predict(X_train_dtm_sen)\n",
    "print(f'F1 Score = {f1_score(y_train,y_pred_train):{n}f}')\n",
    "print(f'Accuracy Score = {accuracy_score(y_train,y_pred_train):{n}f}')\n",
    "print('- test no smote -')\n",
    "y_pred_test = lr_dtm_sen.predict(X_test_dtm_sen)\n",
    "print(f'F1 Score = {f1_score(y_test,y_pred_test):{n}f}')\n",
    "print(f'Accuracy Score = {accuracy_score(y_test,y_pred_test):{n}f}')"
   ]
  },
  {
   "cell_type": "markdown",
   "metadata": {},
   "source": [
    "## 2 - Random Forest Model"
   ]
  },
  {
   "cell_type": "code",
   "execution_count": 128,
   "metadata": {},
   "outputs": [
    {
     "name": "stdout",
     "output_type": "stream",
     "text": [
      "train smote\n",
      "F1 Score = 1.000\n",
      "Accuracy Score = 1.000\n",
      "test smote\n",
      "F1 Score = 0.735\n",
      "Accuracy Score = 0.756\n",
      "train no smote\n",
      "F1 Score = 1.000\n",
      "Accuracy Score = 1.000\n",
      "test no smote\n",
      "F1 Score = 0.231\n",
      "Accuracy Score = 0.655\n"
     ]
    }
   ],
   "source": [
    "start = time.time()\n",
    "rfc_sen = RandomForestClassifier(n_jobs=-1,min_samples_split=3)\n",
    "rfc_sen.fit(X_train_dtm_sen_smote, y_train_smote)\n",
    "end = time.time()\n",
    "print((end-start)/60)\n",
    "print('train smote')\n",
    "y_pred_train = rfc_sen.predict(X_train_dtm_sen_smote)\n",
    "print(f'F1 Score = {f1_score(y_train_smote,y_pred_train):{n}f}')\n",
    "print(f'Accuracy Score = {accuracy_score(y_train_smote,y_pred_train):{n}f}')\n",
    "print('test smote')\n",
    "y_pred_test = rfc_sen.predict(X_test_dtm_sen_smote)\n",
    "print(f'F1 Score = {f1_score(y_test_smote,y_pred_test):{n}f}')\n",
    "print(f'Accuracy Score = {accuracy_score(y_test_smote,y_pred_test):{n}f}')\n",
    "print('train no smote')\n",
    "y_pred_train = rfc_sen.predict(X_train_dtm_sen)\n",
    "print(f'F1 Score = {f1_score(y_train,y_pred_train):{n}f}')\n",
    "print(f'Accuracy Score = {accuracy_score(y_train,y_pred_train):{n}f}')\n",
    "print('test no smote')\n",
    "y_pred_test = rfc_sen.predict(X_test_dtm_sen)\n",
    "print(f'F1 Score = {f1_score(y_test,y_pred_test):{n}f}')\n",
    "print(f'Accuracy Score = {accuracy_score(y_test,y_pred_test):{n}f}')"
   ]
  },
  {
   "cell_type": "code",
   "execution_count": 174,
   "metadata": {},
   "outputs": [],
   "source": [
    "# pickle.dump(rfc_sen, open('models/rfc_sen.sav', 'wb'))"
   ]
  },
  {
   "cell_type": "code",
   "execution_count": 288,
   "metadata": {},
   "outputs": [
    {
     "data": {
      "image/png": "[encoded data removed]",
      "text/plain": [
       "<Figure size 432x288 with 2 Axes>"
      ]
     },
     "metadata": {},
     "output_type": "display_data"
    }
   ],
   "source": [
    "plot_confusion_matrix(rfc_sen, X_test_dtm_sen_smote, y_test_smote, cmap='RdPu');"
   ]
  },
  {
   "cell_type": "markdown",
   "metadata": {},
   "source": [
    "## 3. Naive Bayes"
   ]
  },
  {
   "cell_type": "code",
   "execution_count": 96,
   "metadata": {},
   "outputs": [
    {
     "name": "stdout",
     "output_type": "stream",
     "text": [
      "train smote\n",
      "F1 Score = 0.730\n",
      "Accuracy Score = 0.726\n",
      "test smote\n",
      "F1 Score = 0.737\n",
      "Accuracy Score = 0.735\n",
      "train no smote\n",
      "F1 Score = 0.446\n",
      "Accuracy Score = 0.653\n",
      "test no smote\n",
      "F1 Score = 0.493\n",
      "Accuracy Score = 0.681\n"
     ]
    }
   ],
   "source": [
    "start = time.time()\n",
    "nb = MultinomialNB()\n",
    "nb.fit(X_train_dtm_smote, y_train_smote)\n",
    "end = time.time()\n",
    "print((end-start)/60)\n",
    "print('train smote')\n",
    "y_pred_train = nb.predict(X_train_dtm_smote)\n",
    "print(f'F1 Score = {f1_score(y_train_smote,y_pred_train):{n}f}')\n",
    "print(f'Accuracy Score = {accuracy_score(y_train_smote,y_pred_train):{n}f}')\n",
    "print('test smote')\n",
    "y_pred_test = nb.predict(X_test_dtm_smote)\n",
    "print(f'F1 Score = {f1_score(y_test_smote,y_pred_test):{n}f}')\n",
    "print(f'Accuracy Score = {accuracy_score(y_test_smote,y_pred_test):{n}f}')\n",
    "print('train no smote')\n",
    "y_pred_train = nb.predict(dtm_train)\n",
    "print(f'F1 Score = {f1_score(y_train,y_pred_train):{n}f}')\n",
    "print(f'Accuracy Score = {accuracy_score(y_train,y_pred_train):{n}f}')\n",
    "print('test no smote')\n",
    "y_pred_test = nb.predict(dtm_test)\n",
    "print(f'F1 Score = {f1_score(y_test,y_pred_test):{n}f}')\n",
    "print(f'Accuracy Score = {accuracy_score(y_test,y_pred_test):{n}f}')"
   ]
  },
  {
   "cell_type": "markdown",
   "metadata": {},
   "source": [
    "## 4 - Support Vector Machines (SVM)"
   ]
  },
  {
   "cell_type": "code",
   "execution_count": 286,
   "metadata": {},
   "outputs": [
    {
     "name": "stdout",
     "output_type": "stream",
     "text": [
      "0.40811178684234617\n",
      "train smote\n",
      "F1 Score = 0.811\n",
      "Accuracy Score = 0.820\n",
      "test smote\n",
      "F1 Score = 0.762\n",
      "Accuracy Score = 0.771\n",
      "train no smote\n",
      "F1 Score = 0.476\n",
      "Accuracy Score = 0.744\n",
      "test no smote\n",
      "F1 Score = 0.413\n",
      "Accuracy Score = 0.694\n"
     ]
    }
   ],
   "source": [
    "# start = time.time()\n",
    "# SGD = SGDClassifier()\n",
    "# SGD.fit(X_train_dtm_smote, y_train_smote)\n",
    "# end = time.time()\n",
    "print((end-start)/60)\n",
    "print('train smote')\n",
    "y_pred_train = SGD.predict(X_train_dtm_smote)\n",
    "print(f'F1 Score = {f1_score(y_train_smote,y_pred_train):{n}f}')\n",
    "print(f'Accuracy Score = {accuracy_score(y_train_smote,y_pred_train):{n}f}')\n",
    "print('test smote')\n",
    "y_pred_test = SGD.predict(X_test_dtm_smote)\n",
    "print(f'F1 Score = {f1_score(y_test_smote,y_pred_test):{n}f}')\n",
    "print(f'Accuracy Score = {accuracy_score(y_test_smote,y_pred_test):{n}f}')\n",
    "print('train no smote')\n",
    "y_pred_train = SGD.predict(dtm_train)\n",
    "print(f'F1 Score = {f1_score(y_train,y_pred_train):{n}f}')\n",
    "print(f'Accuracy Score = {accuracy_score(y_train,y_pred_train):{n}f}')\n",
    "print('test no smote')\n",
    "y_pred_test = SGD.predict(dtm_test)\n",
    "print(f'F1 Score = {f1_score(y_test,y_pred_test):{n}f}')\n",
    "print(f'Accuracy Score = {accuracy_score(y_test,y_pred_test):{n}f}')"
   ]
  },
  {
   "cell_type": "code",
   "execution_count": 287,
   "metadata": {},
   "outputs": [
    {
     "data": {
      "image/png": "[encoded data removed]",
      "text/plain": [
       "<Figure size 432x288 with 2 Axes>"
      ]
     },
     "metadata": {},
     "output_type": "display_data"
    }
   ],
   "source": [
    "plot_confusion_matrix(SGD, X_test_dtm_smote, y_test_smote, cmap='RdPu');"
   ]
  },
  {
   "cell_type": "code",
   "execution_count": 262,
   "metadata": {},
   "outputs": [
    {
     "name": "stdout",
     "output_type": "stream",
     "text": [
      "train smote\n",
      "F1 Score = 0.807\n",
      "Accuracy Score = 0.815\n",
      "test smote\n",
      "F1 Score = 0.738\n",
      "Accuracy Score = 0.738\n",
      "train no smote\n",
      "F1 Score = 0.477\n",
      "Accuracy Score = 0.737\n",
      "test no smote\n",
      "F1 Score = 0.351\n",
      "Accuracy Score = 0.634\n"
     ]
    }
   ],
   "source": [
    "# start = time.time()\n",
    "# SGD_sen = SGDClassifier()\n",
    "# SGD_sen.fit(X_train_dtm_sen_smote, y_train_smote)\n",
    "# end = time.time()\n",
    "# print((end-start)/60)\n",
    "print('train smote')\n",
    "y_pred_train = SGD_sen.predict(X_train_dtm_sen_smote)\n",
    "print(f'F1 Score = {f1_score(y_train_smote,y_pred_train):{n}f}')\n",
    "print(f'Accuracy Score = {accuracy_score(y_train_smote,y_pred_train):{n}f}')\n",
    "print('test smote')\n",
    "y_pred_test = SGD_sen.predict(X_test_dtm_sen_smote)\n",
    "print(f'F1 Score = {f1_score(y_test_smote,y_pred_test):{n}f}')\n",
    "print(f'Accuracy Score = {accuracy_score(y_test_smote,y_pred_test):{n}f}')\n",
    "print('train no smote')\n",
    "y_pred_train = SGD_sen.predict(X_train_dtm_sen)\n",
    "print(f'F1 Score = {f1_score(y_train,y_pred_train):{n}f}')\n",
    "print(f'Accuracy Score = {accuracy_score(y_train,y_pred_train):{n}f}')\n",
    "print('test no smote')\n",
    "y_pred_test = SGD_sen.predict(X_test_dtm_sen)\n",
    "print(f'F1 Score = {f1_score(y_test,y_pred_test):{n}f}')\n",
    "print(f'Accuracy Score = {accuracy_score(y_test,y_pred_test):{n}f}')"
   ]
  },
  {
   "cell_type": "code",
   "execution_count": 283,
   "metadata": {},
   "outputs": [
    {
     "data": {
      "image/png": "[encoded data removed]",
      "text/plain": [
       "<Figure size 432x288 with 2 Axes>"
      ]
     },
     "metadata": {},
     "output_type": "display_data"
    }
   ],
   "source": [
    "plot_confusion_matrix(SGD_sen, X_test_dtm_sen_smote, y_test_smote,cmap='RdPu');"
   ]
  },
  {
   "cell_type": "code",
   "execution_count": null,
   "metadata": {},
   "outputs": [],
   "source": []
  },
  {
   "cell_type": "markdown",
   "metadata": {},
   "source": [
    "# Testing"
   ]
  },
  {
   "cell_type": "code",
   "execution_count": 132,
   "metadata": {},
   "outputs": [],
   "source": [
    "aita_clean = pd.read_csv('data/aita_clean.csv')"
   ]
  },
  {
   "cell_type": "code",
   "execution_count": 253,
   "metadata": {},
   "outputs": [],
   "source": [
    "tops = aita_clean[['title','body','verdict','is_asshole','score']].sort_values('score', ascending=False).head(500)"
   ]
  },
  {
   "cell_type": "code",
   "execution_count": 460,
   "metadata": {},
   "outputs": [
    {
     "data": {
      "text/plain": [
       "0.742"
      ]
     },
     "execution_count": 460,
     "metadata": {},
     "output_type": "execute_result"
    }
   ],
   "source": [
    "diag_tops = Proctologist(model=SGD_sen, sentiment=True).diagnosis(tops['body'].values)\n",
    "diag_tops['true_verdict'] = tops['is_asshole'].values\n",
    "diag_tops['correct_prediction'] = diag_tops['true_verdict'] == diag_tops['asshole']\n",
    "sum(diag_tops.correct_prediction)/len(diag_tops.correct_prediction)"
   ]
  },
  {
   "cell_type": "code",
   "execution_count": 177,
   "metadata": {},
   "outputs": [
    {
     "data": {
      "text/plain": [
       "0.72"
      ]
     },
     "execution_count": 177,
     "metadata": {},
     "output_type": "execute_result"
    }
   ],
   "source": [
    "diag_tops = Proctologist(model=SGD, sentiment=False).diagnosis(tops['body'].values)\n",
    "diag_tops['true_verdict'] = tops['is_asshole'].values\n",
    "diag_tops['correct_prediction'] = diag_tops['true_verdict'] == diag_tops['asshole']\n",
    "sum(diag_tops.correct_prediction)/len(diag_tops.correct_prediction)"
   ]
  },
  {
   "cell_type": "code",
   "execution_count": 178,
   "metadata": {},
   "outputs": [
    {
     "data": {
      "text/plain": [
       "0.608"
      ]
     },
     "execution_count": 178,
     "metadata": {},
     "output_type": "execute_result"
    }
   ],
   "source": [
    "# diag_tops = Proctologist(model=nb, sentiment=False).diagnosis(tops['body'].values)\n",
    "# diag_tops['true_verdict'] = tops['is_asshole'].values\n",
    "# diag_tops['correct_prediction'] = diag_tops['true_verdict'] == diag_tops['asshole']\n",
    "# sum(diag_tops.correct_prediction)/len(diag_tops.correct_prediction)"
   ]
  },
  {
   "cell_type": "code",
   "execution_count": 179,
   "metadata": {},
   "outputs": [
    {
     "data": {
      "text/plain": [
       "0.852"
      ]
     },
     "execution_count": 179,
     "metadata": {},
     "output_type": "execute_result"
    }
   ],
   "source": [
    "diag_tops = Proctologist(model=rfc_sen, sentiment=True).diagnosis(tops['body'].values)\n",
    "diag_tops['true_verdict'] = tops['is_asshole'].values\n",
    "diag_tops['correct_prediction'] = diag_tops['true_verdict'] == diag_tops['asshole']\n",
    "sum(diag_tops.correct_prediction)/len(diag_tops.correct_prediction)"
   ]
  },
  {
   "cell_type": "code",
   "execution_count": 180,
   "metadata": {},
   "outputs": [
    {
     "data": {
      "text/plain": [
       "0.69"
      ]
     },
     "execution_count": 180,
     "metadata": {},
     "output_type": "execute_result"
    }
   ],
   "source": [
    "diag_tops = Proctologist(model=lr_dtm, sentiment=False).diagnosis(tops['body'].values)\n",
    "diag_tops['true_verdict'] = tops['is_asshole'].values\n",
    "diag_tops['correct_prediction'] = diag_tops['true_verdict'] == diag_tops['asshole']\n",
    "sum(diag_tops.correct_prediction)/len(diag_tops.correct_prediction)"
   ]
  },
  {
   "cell_type": "code",
   "execution_count": 181,
   "metadata": {},
   "outputs": [
    {
     "data": {
      "text/plain": [
       "0.686"
      ]
     },
     "execution_count": 181,
     "metadata": {},
     "output_type": "execute_result"
    }
   ],
   "source": [
    "diag_tops = Proctologist(model=lr_dtm_sen, sentiment=True).diagnosis(tops['body'].values)\n",
    "diag_tops['true_verdict'] = tops['is_asshole'].values\n",
    "diag_tops['correct_prediction'] = diag_tops['true_verdict'] == diag_tops['asshole']\n",
    "sum(diag_tops.correct_prediction)/len(diag_tops.correct_prediction)"
   ]
  },
  {
   "cell_type": "markdown",
   "metadata": {},
   "source": [
    "## Testing with fake conflict"
   ]
  },
  {
   "cell_type": "markdown",
   "metadata": {},
   "source": [
    "Random Forest with sentiment"
   ]
  },
  {
   "cell_type": "code",
   "execution_count": 289,
   "metadata": {},
   "outputs": [],
   "source": [
    "# texts = ['I pushed my mom off a cliff after she said she will buy me a playstation 5, and my whole family is mad at me, but I don\\'t feel bad about it, aita?',\n",
    "#         'I found out my boyfriend cheated on me with my bestfriend, I can hardly believe they would betray me like this under my eye. I cut contact with them both after they showed no remorse. But our mutual friends are saying I should be happy for them',\n",
    "#         'I cheated on my boyfriend and he kicked me out of his house, I broke in in the middle of night, I did not pay rent.',\n",
    "#          'I talked to my ex on a regular basis, my girlfriend doesn\\'t know about it, and she isn\\'t happy about it, she said she\\'s going to leave me',\n",
    "#         \"I am 27(f) and my husband is 26 So for those who don't know playboi carti is a 'rapper' who dresses pretty feminine and talks pretty strange (His music is interesting, to say the least). So recently my husband began listening to Carti and other artists at first I didn't care because I'm not controlling I let him listen to what he wants. but starting last week my husband began spending large sums on money on designer clothes like the ones playboi carti wears I was a bit annoyed but it was his money. But what really pissed me off is that he started talking like carti saying things like \\\"slatt\\\" \\\"slime\\\" and other slang words that are pretty strange for a suburban white man to say. I've told him multiple times that I don't like this new him but he continues to do these things he only listens to Playboi carti and I think his music is starting to brainwash him? WIBTA if I imposed a ban on listening to Carti's music for a while so my husband can get a better handle on himself and stop buying thousands of dollars worth of Rick Owens. I'm worrying that maybe it would be controlling and maybe a bit crazy if I did.\",\n",
    "#         'AITA for telling my stepdaughter to stop using period products in the bathroom she shares with my teenage sons?']\n",
    "# true_verdict = [1,0,1,1,1,1]"
   ]
  },
  {
   "cell_type": "code",
   "execution_count": 461,
   "metadata": {},
   "outputs": [],
   "source": [
    "texts=[\"\"\"\n",
    "My boyfriend lived rent free with me, he cheated on me with my high school friend, I found out and kicked him out of the house. He broke in in the middle of the night, I was angry and said I was going to call the police.\n",
    "\"\"\"]\n",
    "true_verdict = [0]"
   ]
  },
  {
   "cell_type": "markdown",
   "metadata": {},
   "source": [
    "SGD without sentiment"
   ]
  },
  {
   "cell_type": "code",
   "execution_count": 462,
   "metadata": {},
   "outputs": [
    {
     "data": {
      "text/html": [
       "<div>\n",
       "<style scoped>\n",
       "    .dataframe tbody tr th:only-of-type {\n",
       "        vertical-align: middle;\n",
       "    }\n",
       "\n",
       "    .dataframe tbody tr th {\n",
       "        vertical-align: top;\n",
       "    }\n",
       "\n",
       "    .dataframe thead th {\n",
       "        text-align: right;\n",
       "    }\n",
       "</style>\n",
       "<table border=\"1\" class=\"dataframe\">\n",
       "  <thead>\n",
       "    <tr style=\"text-align: right;\">\n",
       "      <th></th>\n",
       "      <th>text</th>\n",
       "      <th>asshole</th>\n",
       "      <th>true_verdict</th>\n",
       "      <th>correct_prediction</th>\n",
       "    </tr>\n",
       "  </thead>\n",
       "  <tbody>\n",
       "    <tr>\n",
       "      <th>0</th>\n",
       "      <td>\\nMy boyfriend lived rent free with me, he che...</td>\n",
       "      <td>1</td>\n",
       "      <td>0</td>\n",
       "      <td>False</td>\n",
       "    </tr>\n",
       "  </tbody>\n",
       "</table>\n",
       "</div>"
      ],
      "text/plain": [
       "                                                text  asshole  true_verdict  \\\n",
       "0  \\nMy boyfriend lived rent free with me, he che...        1             0   \n",
       "\n",
       "   correct_prediction  \n",
       "0               False  "
      ]
     },
     "execution_count": 462,
     "metadata": {},
     "output_type": "execute_result"
    }
   ],
   "source": [
    "diag = Proctologist(model=SGD_sen, sentiment=True).diagnosis(texts)\n",
    "diag['true_verdict'] = true_verdict\n",
    "diag['correct_prediction'] = diag['true_verdict'] == diag['asshole']\n",
    "# sum(diag.correct_prediction)/len(diag.correct_prediction)\n",
    "diag"
   ]
  },
  {
   "cell_type": "code",
   "execution_count": 463,
   "metadata": {},
   "outputs": [
    {
     "data": {
      "text/html": [
       "<div>\n",
       "<style scoped>\n",
       "    .dataframe tbody tr th:only-of-type {\n",
       "        vertical-align: middle;\n",
       "    }\n",
       "\n",
       "    .dataframe tbody tr th {\n",
       "        vertical-align: top;\n",
       "    }\n",
       "\n",
       "    .dataframe thead th {\n",
       "        text-align: right;\n",
       "    }\n",
       "</style>\n",
       "<table border=\"1\" class=\"dataframe\">\n",
       "  <thead>\n",
       "    <tr style=\"text-align: right;\">\n",
       "      <th></th>\n",
       "      <th>text</th>\n",
       "      <th>asshole</th>\n",
       "      <th>true_verdict</th>\n",
       "      <th>correct_prediction</th>\n",
       "    </tr>\n",
       "  </thead>\n",
       "  <tbody>\n",
       "    <tr>\n",
       "      <th>0</th>\n",
       "      <td>\\nMy boyfriend lived rent free with me, he che...</td>\n",
       "      <td>1</td>\n",
       "      <td>0</td>\n",
       "      <td>False</td>\n",
       "    </tr>\n",
       "  </tbody>\n",
       "</table>\n",
       "</div>"
      ],
      "text/plain": [
       "                                                text  asshole  true_verdict  \\\n",
       "0  \\nMy boyfriend lived rent free with me, he che...        1             0   \n",
       "\n",
       "   correct_prediction  \n",
       "0               False  "
      ]
     },
     "execution_count": 463,
     "metadata": {},
     "output_type": "execute_result"
    }
   ],
   "source": [
    "diag_rfc = Proctologist(model=rfc_sen, sentiment=True).diagnosis(texts)\n",
    "diag_rfc['true_verdict'] = true_verdict\n",
    "diag_rfc['correct_prediction'] = diag_rfc['true_verdict'] == diag_rfc['asshole']\n",
    "diag_rfc"
   ]
  },
  {
   "cell_type": "code",
   "execution_count": 464,
   "metadata": {},
   "outputs": [
    {
     "data": {
      "text/html": [
       "<div>\n",
       "<style scoped>\n",
       "    .dataframe tbody tr th:only-of-type {\n",
       "        vertical-align: middle;\n",
       "    }\n",
       "\n",
       "    .dataframe tbody tr th {\n",
       "        vertical-align: top;\n",
       "    }\n",
       "\n",
       "    .dataframe thead th {\n",
       "        text-align: right;\n",
       "    }\n",
       "</style>\n",
       "<table border=\"1\" class=\"dataframe\">\n",
       "  <thead>\n",
       "    <tr style=\"text-align: right;\">\n",
       "      <th></th>\n",
       "      <th>text</th>\n",
       "      <th>asshole</th>\n",
       "      <th>true_verdict</th>\n",
       "      <th>correct_prediction</th>\n",
       "    </tr>\n",
       "  </thead>\n",
       "  <tbody>\n",
       "    <tr>\n",
       "      <th>0</th>\n",
       "      <td>\\nMy boyfriend lived rent free with me, he che...</td>\n",
       "      <td>1</td>\n",
       "      <td>0</td>\n",
       "      <td>False</td>\n",
       "    </tr>\n",
       "  </tbody>\n",
       "</table>\n",
       "</div>"
      ],
      "text/plain": [
       "                                                text  asshole  true_verdict  \\\n",
       "0  \\nMy boyfriend lived rent free with me, he che...        1             0   \n",
       "\n",
       "   correct_prediction  \n",
       "0               False  "
      ]
     },
     "execution_count": 464,
     "metadata": {},
     "output_type": "execute_result"
    }
   ],
   "source": [
    "diag_SGD = Proctologist(model=SGD, sentiment=False).diagnosis(texts)\n",
    "diag_SGD['true_verdict'] = true_verdict\n",
    "diag_SGD['correct_prediction'] = diag_SGD['true_verdict'] == diag_SGD['asshole']\n",
    "diag_rfc"
   ]
  },
  {
   "cell_type": "code",
   "execution_count": 465,
   "metadata": {},
   "outputs": [
    {
     "data": {
      "text/html": [
       "<div>\n",
       "<style scoped>\n",
       "    .dataframe tbody tr th:only-of-type {\n",
       "        vertical-align: middle;\n",
       "    }\n",
       "\n",
       "    .dataframe tbody tr th {\n",
       "        vertical-align: top;\n",
       "    }\n",
       "\n",
       "    .dataframe thead th {\n",
       "        text-align: right;\n",
       "    }\n",
       "</style>\n",
       "<table border=\"1\" class=\"dataframe\">\n",
       "  <thead>\n",
       "    <tr style=\"text-align: right;\">\n",
       "      <th></th>\n",
       "      <th>text</th>\n",
       "      <th>asshole</th>\n",
       "      <th>true_verdict</th>\n",
       "      <th>correct_prediction</th>\n",
       "    </tr>\n",
       "  </thead>\n",
       "  <tbody>\n",
       "    <tr>\n",
       "      <th>0</th>\n",
       "      <td>\\nMy boyfriend lived rent free with me, he che...</td>\n",
       "      <td>1</td>\n",
       "      <td>0</td>\n",
       "      <td>False</td>\n",
       "    </tr>\n",
       "  </tbody>\n",
       "</table>\n",
       "</div>"
      ],
      "text/plain": [
       "                                                text  asshole  true_verdict  \\\n",
       "0  \\nMy boyfriend lived rent free with me, he che...        1             0   \n",
       "\n",
       "   correct_prediction  \n",
       "0               False  "
      ]
     },
     "execution_count": 465,
     "metadata": {},
     "output_type": "execute_result"
    }
   ],
   "source": [
    "diag = Proctologist(model=lr_dtm, sentiment=False).diagnosis(texts)\n",
    "diag['true_verdict'] = true_verdict\n",
    "diag['correct_prediction'] = diag['true_verdict'] == diag['asshole']\n",
    "diag"
   ]
  },
  {
   "cell_type": "code",
   "execution_count": null,
   "metadata": {},
   "outputs": [],
   "source": []
  },
  {
   "cell_type": "code",
   "execution_count": null,
   "metadata": {},
   "outputs": [],
   "source": []
  }
 ],
 "metadata": {
  "instance_type": "ml.m5.xlarge",
  "kernelspec": {
   "display_name": "conda_tensorflow2_p36",
   "language": "python",
   "name": "conda_tensorflow2_p36"
  },
  "language_info": {
   "codemirror_mode": {
    "name": "ipython",
    "version": 3
   },
   "file_extension": ".py",
   "mimetype": "text/x-python",
   "name": "python",
   "nbconvert_exporter": "python",
   "pygments_lexer": "ipython3",
   "version": "3.6.13"
  }
 },
 "nbformat": 4,
 "nbformat_minor": 4
}
