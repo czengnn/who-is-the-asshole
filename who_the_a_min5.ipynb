{
 "cells": [
  {
   "cell_type": "code",
   "execution_count": 5,
   "metadata": {},
   "outputs": [],
   "source": [
    "# ! pip install imbalanced-learn\n",
    "# ! pip install lime\n",
    "# ! pip install textblob\n",
    "# ! pip install contractions\n",
    "# ! pip install spacy\n",
    "# ! python -m spacy download en_core_web_sm\n",
    "# ! pip install python-Levenshtein\n",
    "# ! pip install wordcloud\n",
    "# ! pip install treeinterpreter"
   ]
  },
  {
   "cell_type": "code",
   "execution_count": 6,
   "metadata": {},
   "outputs": [
    {
     "name": "stderr",
     "output_type": "stream",
     "text": [
      "[nltk_data] Downloading package stopwords to\n",
      "[nltk_data]     /home/ec2-user/nltk_data...\n",
      "[nltk_data]   Package stopwords is already up-to-date!\n"
     ]
    }
   ],
   "source": [
    "import numpy as np \n",
    "import pandas as pd \n",
    "import matplotlib.pyplot as plt\n",
    "plt.style.use('dark_background')\n",
    "import seaborn as sns\n",
    "\n",
    "import pickle \n",
    "from imblearn.over_sampling import SMOTE\n",
    "from collections import Counter\n",
    "import time\n",
    "\n",
    "import nltk\n",
    "nltk.download('stopwords')\n",
    "from nltk.corpus import stopwords\n",
    "# from wordcloud import WordCloud\n",
    "# import lime\n",
    "# import lime.lime_tabular\n",
    "# from lime.lime_text import LimeTextExplainer\n",
    "\n",
    "from sklearn.feature_extraction.text import CountVectorizer, TfidfTransformer\n",
    "from sklearn.model_selection import train_test_split, cross_val_score, GridSearchCV\n",
    "# from sklearn.pipeline import Pipeline\n",
    "from imblearn.pipeline import Pipeline\n",
    "from sklearn.pipeline import make_pipeline\n",
    "from sklearn.metrics import classification_report, confusion_matrix, accuracy_score, f1_score, plot_confusion_matrix\n",
    "\n",
    "from sklearn.naive_bayes import MultinomialNB\n",
    "from sklearn.linear_model import LogisticRegression, SGDClassifier\n",
    "from sklearn.ensemble import RandomForestClassifier\n",
    "from sklearn.decomposition import PCA, IncrementalPCA, LatentDirichletAllocation\n",
    "\n",
    "from helpers import *"
   ]
  },
  {
   "cell_type": "markdown",
   "metadata": {},
   "source": [
    "## Load cleaned data\n",
    "combine title and body of text "
   ]
  },
  {
   "cell_type": "code",
   "execution_count": 7,
   "metadata": {},
   "outputs": [],
   "source": [
    "aita_2 = pd.read_csv('data/aita_save2.csv')\n",
    "aita = aita_2.dropna(subset=['body_clean', 'title_clean']).loc[(aita_2['score'] >=10) & (aita_2['num_comments']>=10),['body_polarity','body_subjectivity','is_asshole']]\n",
    "aita['title_body_combo'] =  aita_2['title_clean'] + aita_2['body_clean']\n",
    "aita.dropna(inplace=True)\n",
    "aita.reset_index(drop=True, inplace=True)"
   ]
  },
  {
   "cell_type": "code",
   "execution_count": 8,
   "metadata": {},
   "outputs": [
    {
     "name": "stdout",
     "output_type": "stream",
     "text": [
      "(46900, 3) (474, 3)\n",
      "Counter({0: 33859, 1: 13041}) Counter({0: 342, 1: 132})\n"
     ]
    }
   ],
   "source": [
    "X = aita.drop('is_asshole', axis=1)\n",
    "y = aita['is_asshole']\n",
    "X_train, X_test, y_train, y_test = train_test_split(X, y, stratify=y, test_size=0.01, random_state=11)\n",
    "print(X_train.shape, X_test.shape)\n",
    "print(Counter(y_train), Counter(y_test))"
   ]
  },
  {
   "cell_type": "markdown",
   "metadata": {},
   "source": [
    "## 2 - Instantiate CountVectorizer "
   ]
  },
  {
   "cell_type": "code",
   "execution_count": 6,
   "metadata": {},
   "outputs": [],
   "source": [
    "# add_stop_words = ['like', 'get', 'go', 'say', 'tell', 'thats', 'want', 'time',\n",
    "#                   'youre', 'got', 'gonna', 'time', 'also', 'yeah', 'said']\n",
    "# stop = set(stopwords.words('english')).union(add_stop_words)\n",
    "# vec = CountVectorizer(stop_words=stop, min_df=0.005, max_df=0.6, ngram_range=(1, 2))\n",
    "# cv = vec.fit(X_train['title_body_combo'])\n",
    "# len(cv.get_feature_names())\n",
    "# # 3204"
   ]
  },
  {
   "cell_type": "code",
   "execution_count": 9,
   "metadata": {},
   "outputs": [
    {
     "data": {
      "text/plain": [
       "3204"
      ]
     },
     "execution_count": 9,
     "metadata": {},
     "output_type": "execute_result"
    }
   ],
   "source": [
    "# pickle.dump(cv, open('models/cv_fit_train_min5.sav', 'wb'))\n",
    "cv = pickle.load(open('models/cv_fit_train_min5.sav', 'rb'))\n",
    "len(cv.get_feature_names())\n",
    "# 3204"
   ]
  },
  {
   "cell_type": "markdown",
   "metadata": {},
   "source": [
    "### 2.a Transform train and test data into document-term-matrix with CountVectorizer"
   ]
  },
  {
   "cell_type": "code",
   "execution_count": 10,
   "metadata": {},
   "outputs": [],
   "source": [
    "cv_train = cv.transform(X_train['title_body_combo'])\n",
    "cv_test = cv.transform(X_test['title_body_combo'])\n",
    "cv_cols = cv.get_feature_names()\n",
    "dtm_train = pd.DataFrame(cv_train.toarray(), columns=cv_cols, index=X_train.index)\n",
    "dtm_test = pd.DataFrame(cv_test.toarray(), columns=cv_cols, index=X_test.index)"
   ]
  },
  {
   "cell_type": "code",
   "execution_count": 11,
   "metadata": {},
   "outputs": [
    {
     "data": {
      "text/plain": [
       "((46900, 3204), (474, 3204))"
      ]
     },
     "execution_count": 11,
     "metadata": {},
     "output_type": "execute_result"
    }
   ],
   "source": [
    "dtm_train.shape, dtm_test.shape"
   ]
  },
  {
   "cell_type": "markdown",
   "metadata": {},
   "source": [
    "## 3 - PCA"
   ]
  },
  {
   "cell_type": "code",
   "execution_count": 21,
   "metadata": {},
   "outputs": [
    {
     "name": "stdout",
     "output_type": "stream",
     "text": [
      "0.8858948258154675\n"
     ]
    }
   ],
   "source": [
    "# pca = IncrementalPCA(n_components=1000, batch_size=1050)\n",
    "# pca.fit(dtm_train)\n",
    "# print(pca.explained_variance_ratio_.sum())"
   ]
  },
  {
   "cell_type": "code",
   "execution_count": 22,
   "metadata": {},
   "outputs": [
    {
     "name": "stdout",
     "output_type": "stream",
     "text": [
      "<bound method BaseEstimator.get_params of IncrementalPCA(batch_size=1050, n_components=1000)>\n",
      "0.8858948258154675\n"
     ]
    }
   ],
   "source": [
    "# pickle.dump(pca, open('models/pca_min10.sav', 'wb'))\n",
    "# # pca = pickle.load(open('models/pca_min10.sav', 'rb'))\n",
    "# print(pca.get_params)\n",
    "# print(pca.explained_variance_ratio_.sum())\n",
    "# # 0.8858948258154675"
   ]
  },
  {
   "cell_type": "markdown",
   "metadata": {},
   "source": [
    "#### 3.a Scree plot, check number of components is appropriate"
   ]
  },
  {
   "cell_type": "code",
   "execution_count": 23,
   "metadata": {},
   "outputs": [
    {
     "data": {
      "image/png": "[encoded data removed]",
      "text/plain": [
       "<Figure size 432x288 with 1 Axes>"
      ]
     },
     "metadata": {},
     "output_type": "display_data"
    }
   ],
   "source": [
    "# plt.plot(np.cumsum(pca.explained_variance_ratio_))\n",
    "# plt.xlabel('number of components')\n",
    "# plt.ylabel('cumulative explained variance')\n",
    "# plt.title('PCA Scree Plot')\n",
    "# evr = pca.explained_variance_ratio_\n",
    "# cvr = np.cumsum(pca.explained_variance_ratio_)\n",
    "# pca_df = pd.DataFrame()\n",
    "# pca_df['Cumulative Variance Ratio'] = cvr\n",
    "# pca_df['Explained Variance Ratio'] = evr"
   ]
  },
  {
   "cell_type": "markdown",
   "metadata": {},
   "source": [
    "### 3.b - Transform train/test Document-Term-matrix with PCA"
   ]
  },
  {
   "cell_type": "code",
   "execution_count": 24,
   "metadata": {},
   "outputs": [],
   "source": [
    "# dtm_train_pca = pca.transform(dtm_train)\n",
    "# dtm_test_pca = pca.transform(dtm_test)"
   ]
  },
  {
   "cell_type": "code",
   "execution_count": 25,
   "metadata": {},
   "outputs": [],
   "source": [
    "# # Build DataFrame of PCA Components\n",
    "# col_names = ['PC_' + str(i) for i in range(1, pca.get_params()['n_components']+1)]\n",
    "# dtm_train_pca_df = pd.DataFrame(dtm_train_pca, columns=col_names, index=dtm_train.index)\n",
    "# dtm_test_pca_df = pd.DataFrame(dtm_test_pca, columns=col_names, index=dtm_test.index)"
   ]
  },
  {
   "cell_type": "code",
   "execution_count": 26,
   "metadata": {},
   "outputs": [],
   "source": [
    "# # Combine PCA components and sentiment analysis scores into one DataFrame\n",
    "# X_train_post_dtm_pca = pd.concat([X_train[['body_polarity','body_subjectivity']], dtm_train_pca_df], axis=1)\n",
    "# X_test_post_dtm_pca = pd.concat([X_test[['body_polarity','body_subjectivity']],dtm_test_pca_df], axis=1)"
   ]
  },
  {
   "cell_type": "markdown",
   "metadata": {},
   "source": [
    "## 4 Oversample minority class with SMOTE"
   ]
  },
  {
   "cell_type": "code",
   "execution_count": 29,
   "metadata": {},
   "outputs": [
    {
     "data": {
      "text/plain": [
       "(Counter({1: 16571, 0: 16571}), Counter({1: 168, 0: 168}))"
      ]
     },
     "execution_count": 29,
     "metadata": {},
     "output_type": "execute_result"
    }
   ],
   "source": [
    "# # sentiment analysis + PCA\n",
    "# X_train_smote, y_train_smote = SMOTE().fit_resample(X_train_post_dtm_pca, y_train)\n",
    "# X_test_smote, y_test_smote = SMOTE().fit_resample(X_test_post_dtm_pca, y_test)\n",
    "# Counter(y_train_smote), Counter(y_test_smote)"
   ]
  },
  {
   "cell_type": "code",
   "execution_count": 12,
   "metadata": {},
   "outputs": [],
   "source": [
    "# DTM \n",
    "X_train_dtm_smote, y_train_smote = SMOTE().fit_resample(dtm_train, y_train)\n",
    "X_test_dtm_smote, y_test_smote = SMOTE().fit_resample(dtm_test, y_test)"
   ]
  },
  {
   "cell_type": "code",
   "execution_count": 13,
   "metadata": {},
   "outputs": [],
   "source": [
    "# sentiment analysis + DTM\n",
    "X_train_dtm_sen = pd.concat([X_train[['body_polarity','body_subjectivity']], dtm_train], axis=1)\n",
    "X_test_dtm_sen = pd.concat([X_test[['body_polarity','body_subjectivity']], dtm_test], axis=1)\n",
    "X_train_dtm_sen_smote, y_train_smote = SMOTE().fit_resample(X_train_dtm_sen, y_train)\n",
    "X_test_dtm_sen_smote, y_test_smote = SMOTE().fit_resample(X_test_dtm_sen, y_test)"
   ]
  },
  {
   "cell_type": "markdown",
   "metadata": {},
   "source": [
    "# Models"
   ]
  },
  {
   "cell_type": "code",
   "execution_count": 14,
   "metadata": {},
   "outputs": [],
   "source": [
    "n=.3"
   ]
  },
  {
   "cell_type": "markdown",
   "metadata": {},
   "source": [
    "## 1 - Logistic Regression"
   ]
  },
  {
   "cell_type": "markdown",
   "metadata": {},
   "source": [
    "#### LR with DTM and Sentiment Analysis"
   ]
  },
  {
   "cell_type": "code",
   "execution_count": 113,
   "metadata": {},
   "outputs": [
    {
     "name": "stdout",
     "output_type": "stream",
     "text": [
      "train smote\n",
      "F1 Score = 0.805\n",
      "Accuracy Score = 0.804\n",
      "test smote\n",
      "F1 Score = 0.754\n",
      "Accuracy Score = 0.753\n",
      "train no smote\n",
      "F1 Score = 0.498\n",
      "Accuracy Score = 0.718\n",
      "test no smote\n",
      "F1 Score = 0.394\n",
      "Accuracy Score = 0.655\n"
     ]
    }
   ],
   "source": [
    "lr_dtm_sen = LogisticRegression(max_iter=800, penalty='l2', solver='lbfgs')\n",
    "lr_dtm_sen.fit(X_train_dtm_sen_smote, y_train_smote)\n",
    "dtm_sen_model = lr_dtm_sen                        \n",
    "y_pred_train = dtm_sen_model.predict(X_train_dtm_sen_smote)\n",
    "print(f'smote train : F1 Score = {f1_score(y_train_smote,y_pred_train):{n}f}')\n",
    "print(f'smote train : Accuracy Score = {accuracy_score(y_train_smote,y_pred_train):{n}f}')\n",
    "y_pred_test = dtm_sen_model.predict(X_test_dtm_sen_smote)\n",
    "print(f'smote test : F1 Score = {f1_score(y_test_smote,y_pred_test):{n}f}')\n",
    "print(f'smote test : Accuracy Score = {accuracy_score(y_test_smote,y_pred_test):{n}f}')\n",
    "y_pred_train = dtm_sen_model.predict(X_train_dtm_sen)\n",
    "print(f'no smote train : F1 Score = {f1_score(y_train,y_pred_train):{n}f}')\n",
    "print(f'no smote train : Accuracy Score = {accuracy_score(y_train,y_pred_train):{n}f}')\n",
    "y_pred_test = dtm_sen_model.predict(X_test_dtm_sen)\n",
    "print(f'no smote test : F1 Score = {f1_score(y_test,y_pred_test):{n}f}')\n",
    "print(f'no smote test : Accuracy Score = {accuracy_score(y_test,y_pred_test):{n}f}')"
   ]
  },
  {
   "cell_type": "code",
   "execution_count": 37,
   "metadata": {},
   "outputs": [
    {
     "name": "stdout",
     "output_type": "stream",
     "text": [
      "[0.38787151 0.44425419 0.86402864 0.86132688 0.86737707]\n",
      "average f1 = 0.6849716572862538\n",
      "[0.5483609  0.56866509 0.84295629 0.83917891 0.84744887]\n",
      "average accuracy = 0.7293220116328735\n"
     ]
    }
   ],
   "source": [
    "lr_dtm_sen = LogisticRegression(max_iter=800, penalty='l2', solver='lbfgs')\n",
    "cross_scores_f1 = cross_val_score(lr_dtm_sen,X_train_dtm_sen_smote,y_train_smote,scoring='f1')\n",
    "cross_scores_acc = cross_val_score(lr_dtm_sen,X_train_dtm_sen_smote,y_train_smote,scoring='accuracy')\n",
    "print(cross_scores_f1)\n",
    "print(f'average f1 = {cross_scores_f1.mean()}')\n",
    "print(cross_scores_acc)\n",
    "print(f'average accuracy = {cross_scores_acc.mean()}')"
   ]
  },
  {
   "cell_type": "markdown",
   "metadata": {},
   "source": [
    "## 2 - Random Forest Model"
   ]
  },
  {
   "cell_type": "code",
   "execution_count": 17,
   "metadata": {},
   "outputs": [
    {
     "name": "stdout",
     "output_type": "stream",
     "text": [
      "[0.24083029 0.32417337 0.91874475 0.91491296 0.91722156]\n",
      "average f1 = 0.6631765835330967\n",
      "[0.52753987 0.55463674 0.91516539 0.90570775 0.90976888]\n",
      "average accuracy = 0.7625637252898699\n"
     ]
    }
   ],
   "source": [
    "# cross validation \n",
    "rfc_sen = RandomForestClassifier(n_jobs=-1, min_samples_split=5,random_state=20)\n",
    "cross_scores_f1 = cross_val_score(rfc_sen,X_train_dtm_sen_smote,y_train_smote,scoring='f1')\n",
    "cross_scores_acc = cross_val_score(rfc_sen,X_train_dtm_sen_smote,y_train_smote,scoring='accuracy')\n",
    "print(cross_scores_f1)\n",
    "print(f'average f1 = {cross_scores_f1.mean()}')\n",
    "print(cross_scores_acc)\n",
    "print(f'average accuracy = {cross_scores_acc.mean()}')"
   ]
  },
  {
   "cell_type": "code",
   "execution_count": 33,
   "metadata": {},
   "outputs": [
    {
     "name": "stdout",
     "output_type": "stream",
     "text": [
      "0.23870397011439007\n",
      "smote train : F1 Score = 1.000\n",
      "smote train : Accuracy Score = 1.000\n",
      "smote test : F1 Score = 0.742\n",
      "smote test : Accuracy Score = 0.775\n",
      "no smote train : F1 Score = 1.000\n",
      "no smote train : Accuracy Score = 1.000\n",
      "no smote test : F1 Score = 0.254\n",
      "no smote test : Accuracy Score = 0.703\n"
     ]
    }
   ],
   "source": [
    "start = time.time()\n",
    "rfc_sen = RandomForestClassifier(n_jobs=-1,min_samples_split=3, random_state=20)\n",
    "rfc_sen.fit(X_train_dtm_sen_smote, y_train_smote)\n",
    "end = time.time()\n",
    "print((end-start)/60)\n",
    "dtm_sen_model = rfc_sen                        \n",
    "y_pred_train = dtm_sen_model.predict(X_train_dtm_sen_smote)\n",
    "print(f'smote train : F1 Score = {f1_score(y_train_smote,y_pred_train):{n}f}')\n",
    "print(f'smote train : Accuracy Score = {accuracy_score(y_train_smote,y_pred_train):{n}f}')\n",
    "y_pred_test = dtm_sen_model.predict(X_test_dtm_sen_smote)\n",
    "print(f'smote test : F1 Score = {f1_score(y_test_smote,y_pred_test):{n}f}')\n",
    "print(f'smote test : Accuracy Score = {accuracy_score(y_test_smote,y_pred_test):{n}f}')\n",
    "y_pred_train = dtm_sen_model.predict(X_train_dtm_sen)\n",
    "print(f'no smote train : F1 Score = {f1_score(y_train,y_pred_train):{n}f}')\n",
    "print(f'no smote train : Accuracy Score = {accuracy_score(y_train,y_pred_train):{n}f}')\n",
    "y_pred_test = dtm_sen_model.predict(X_test_dtm_sen)\n",
    "print(f'no smote test : F1 Score = {f1_score(y_test,y_pred_test):{n}f}')\n",
    "print(f'no smote test : Accuracy Score = {accuracy_score(y_test,y_pred_test):{n}f}')"
   ]
  },
  {
   "cell_type": "code",
   "execution_count": 34,
   "metadata": {},
   "outputs": [
    {
     "data": {
      "image/png": "[encoded data removed]",
      "text/plain": [
       "<Figure size 432x288 with 2 Axes>"
      ]
     },
     "metadata": {},
     "output_type": "display_data"
    }
   ],
   "source": [
    "plot_confusion_matrix(rfc_sen, X_test_dtm_sen_smote, y_test_smote, cmap='RdPu');\n",
    "plt.savefig('image/rfc_sen_conf_matrix.png')"
   ]
  },
  {
   "cell_type": "code",
   "execution_count": 106,
   "metadata": {},
   "outputs": [],
   "source": [
    "# pickle.dump(rfc_sen, open('models/rfc_sen.sav', 'wb'))"
   ]
  },
  {
   "cell_type": "markdown",
   "metadata": {},
   "source": [
    "## 4 - Support Vector Machines (SVM)"
   ]
  },
  {
   "cell_type": "code",
   "execution_count": 18,
   "metadata": {},
   "outputs": [
    {
     "name": "stdout",
     "output_type": "stream",
     "text": [
      "[0.35379289 0.44417038 0.87392438 0.83623693 0.91283042]\n",
      "average f1 = 0.6841910012537974\n",
      "[0.54274956 0.55899291 0.84775546 0.86133058 0.8399173 ]\n",
      "average accuracy = 0.7301491619592015\n"
     ]
    }
   ],
   "source": [
    "# cross validation \n",
    "SGD_sen = SGDClassifier()\n",
    "cross_scores_f1 = cross_val_score(SGD_sen,X_train_dtm_sen_smote,y_train_smote,scoring='f1')\n",
    "cross_scores_acc = cross_val_score(SGD_sen,X_train_dtm_sen_smote,y_train_smote,scoring='accuracy')\n",
    "print(cross_scores_f1)\n",
    "print(f'average f1 = {cross_scores_f1.mean()}')\n",
    "print(cross_scores_acc)\n",
    "print(f'average accuracy = {cross_scores_acc.mean()}')"
   ]
  },
  {
   "cell_type": "code",
   "execution_count": 28,
   "metadata": {},
   "outputs": [
    {
     "name": "stdout",
     "output_type": "stream",
     "text": [
      "0.8240721503893534\n",
      "smote train : F1 Score = 0.786\n",
      "smote train : Accuracy Score = 0.788\n",
      "smote test : F1 Score = 0.737\n",
      "smote test : Accuracy Score = 0.740\n",
      "no smote train : F1 Score = 0.445\n",
      "no smote train : Accuracy Score = 0.697\n",
      "no smote test : F1 Score = 0.342\n",
      "no smote test : Accuracy Score = 0.635\n"
     ]
    }
   ],
   "source": [
    "start = time.time()\n",
    "SGD_sen = SGDClassifier()\n",
    "SGD_sen.fit(X_train_dtm_sen_smote, y_train_smote)\n",
    "end = time.time()\n",
    "print((end-start)/60)\n",
    "dtm_sen_model = SGD_sen                        \n",
    "y_pred_train = dtm_sen_model.predict(X_train_dtm_sen_smote)\n",
    "print(f'smote train : F1 Score = {f1_score(y_train_smote,y_pred_train):{n}f}')\n",
    "print(f'smote train : Accuracy Score = {accuracy_score(y_train_smote,y_pred_train):{n}f}')\n",
    "y_pred_test = dtm_sen_model.predict(X_test_dtm_sen_smote)\n",
    "print(f'smote test : F1 Score = {f1_score(y_test_smote,y_pred_test):{n}f}')\n",
    "print(f'smote test : Accuracy Score = {accuracy_score(y_test_smote,y_pred_test):{n}f}')\n",
    "y_pred_train = dtm_sen_model.predict(X_train_dtm_sen)\n",
    "print(f'no smote train : F1 Score = {f1_score(y_train,y_pred_train):{n}f}')\n",
    "print(f'no smote train : Accuracy Score = {accuracy_score(y_train,y_pred_train):{n}f}')\n",
    "y_pred_test = dtm_sen_model.predict(X_test_dtm_sen)\n",
    "print(f'no smote test : F1 Score = {f1_score(y_test,y_pred_test):{n}f}')\n",
    "print(f'no smote test : Accuracy Score = {accuracy_score(y_test,y_pred_test):{n}f}')"
   ]
  },
  {
   "cell_type": "code",
   "execution_count": 31,
   "metadata": {},
   "outputs": [
    {
     "data": {
      "image/png": "[encoded data removed]",
      "text/plain": [
       "<Figure size 432x288 with 2 Axes>"
      ]
     },
     "metadata": {},
     "output_type": "display_data"
    }
   ],
   "source": [
    "plot_confusion_matrix(SGD_sen, X_test_dtm_sen_smote, y_test_smote,cmap='RdPu')\n",
    "plt.savefig('image/sgd_sen_conf_matrix.png')"
   ]
  },
  {
   "cell_type": "markdown",
   "metadata": {},
   "source": [
    "# Testing"
   ]
  },
  {
   "cell_type": "code",
   "execution_count": 25,
   "metadata": {},
   "outputs": [],
   "source": [
    "aita_clean = pd.read_csv('data/aita_clean.csv')"
   ]
  },
  {
   "cell_type": "code",
   "execution_count": 26,
   "metadata": {},
   "outputs": [],
   "source": [
    "tops = aita_clean[['title','body','verdict','is_asshole','score']].sort_values('score', ascending=False).head(500)"
   ]
  },
  {
   "cell_type": "code",
   "execution_count": 32,
   "metadata": {},
   "outputs": [
    {
     "data": {
      "text/plain": [
       "0.732"
      ]
     },
     "execution_count": 32,
     "metadata": {},
     "output_type": "execute_result"
    }
   ],
   "source": [
    "diag_tops = Proctologist(model=SGD_sen, sentiment=True, cv=cv).diagnosis(tops['body'].values)\n",
    "diag_tops['true_verdict'] = tops['is_asshole'].values\n",
    "diag_tops['correct_prediction'] = diag_tops['true_verdict'] == diag_tops['asshole']\n",
    "sum(diag_tops.correct_prediction)/len(diag_tops.correct_prediction)"
   ]
  },
  {
   "cell_type": "code",
   "execution_count": 36,
   "metadata": {},
   "outputs": [
    {
     "data": {
      "text/plain": [
       "0.996"
      ]
     },
     "execution_count": 36,
     "metadata": {},
     "output_type": "execute_result"
    }
   ],
   "source": [
    "diag_tops = Proctologist(model=rfc_sen, sentiment=True, cv=cv).diagnosis(tops['body'].values)\n",
    "diag_tops['true_verdict'] = tops['is_asshole'].values\n",
    "diag_tops['correct_prediction'] = diag_tops['true_verdict'] == diag_tops['asshole']\n",
    "sum(diag_tops.correct_prediction)/len(diag_tops.correct_prediction)"
   ]
  },
  {
   "cell_type": "code",
   "execution_count": 181,
   "metadata": {},
   "outputs": [
    {
     "data": {
      "text/plain": [
       "0.686"
      ]
     },
     "execution_count": 181,
     "metadata": {},
     "output_type": "execute_result"
    }
   ],
   "source": [
    "diag_tops = Proctologist(model=lr_dtm_sen, sentiment=True).diagnosis(tops['body'].values)\n",
    "diag_tops['true_verdict'] = tops['is_asshole'].values\n",
    "diag_tops['correct_prediction'] = diag_tops['true_verdict'] == diag_tops['asshole']\n",
    "sum(diag_tops.correct_prediction)/len(diag_tops.correct_prediction)"
   ]
  },
  {
   "cell_type": "markdown",
   "metadata": {},
   "source": [
    "## Testing with fake conflict"
   ]
  },
  {
   "cell_type": "markdown",
   "metadata": {},
   "source": [
    "Random Forest with sentiment"
   ]
  },
  {
   "cell_type": "code",
   "execution_count": 42,
   "metadata": {},
   "outputs": [],
   "source": [
    "texts=[\"\"\"\n",
    "my mom pushed me off a cliff after I said I will not buy her a playstation 5. I'm now half dead and will never walk again, my whole family is mad at me for not buying her the playstation 5, aita?\"\"\"]\n",
    "true_verdict = [1]"
   ]
  },
  {
   "cell_type": "markdown",
   "metadata": {},
   "source": [
    "SGD without sentiment"
   ]
  },
  {
   "cell_type": "code",
   "execution_count": 43,
   "metadata": {},
   "outputs": [
    {
     "data": {
      "text/html": [
       "<div>\n",
       "<style scoped>\n",
       "    .dataframe tbody tr th:only-of-type {\n",
       "        vertical-align: middle;\n",
       "    }\n",
       "\n",
       "    .dataframe tbody tr th {\n",
       "        vertical-align: top;\n",
       "    }\n",
       "\n",
       "    .dataframe thead th {\n",
       "        text-align: right;\n",
       "    }\n",
       "</style>\n",
       "<table border=\"1\" class=\"dataframe\">\n",
       "  <thead>\n",
       "    <tr style=\"text-align: right;\">\n",
       "      <th></th>\n",
       "      <th>text</th>\n",
       "      <th>asshole</th>\n",
       "      <th>true_verdict</th>\n",
       "      <th>correct_prediction</th>\n",
       "    </tr>\n",
       "  </thead>\n",
       "  <tbody>\n",
       "    <tr>\n",
       "      <th>0</th>\n",
       "      <td>\\nmy mom pushed me off a cliff after I said I ...</td>\n",
       "      <td>1</td>\n",
       "      <td>1</td>\n",
       "      <td>True</td>\n",
       "    </tr>\n",
       "  </tbody>\n",
       "</table>\n",
       "</div>"
      ],
      "text/plain": [
       "                                                text  asshole  true_verdict  \\\n",
       "0  \\nmy mom pushed me off a cliff after I said I ...        1             1   \n",
       "\n",
       "   correct_prediction  \n",
       "0                True  "
      ]
     },
     "execution_count": 43,
     "metadata": {},
     "output_type": "execute_result"
    }
   ],
   "source": [
    "diag = Proctologist(model=SGD_sen, sentiment=True, cv=cv).diagnosis(texts)\n",
    "diag['true_verdict'] = true_verdict\n",
    "diag['correct_prediction'] = diag['true_verdict'] == diag['asshole']\n",
    "# sum(diag.correct_prediction)/len(diag.correct_prediction)\n",
    "diag"
   ]
  },
  {
   "cell_type": "code",
   "execution_count": 44,
   "metadata": {},
   "outputs": [
    {
     "data": {
      "text/html": [
       "<div>\n",
       "<style scoped>\n",
       "    .dataframe tbody tr th:only-of-type {\n",
       "        vertical-align: middle;\n",
       "    }\n",
       "\n",
       "    .dataframe tbody tr th {\n",
       "        vertical-align: top;\n",
       "    }\n",
       "\n",
       "    .dataframe thead th {\n",
       "        text-align: right;\n",
       "    }\n",
       "</style>\n",
       "<table border=\"1\" class=\"dataframe\">\n",
       "  <thead>\n",
       "    <tr style=\"text-align: right;\">\n",
       "      <th></th>\n",
       "      <th>text</th>\n",
       "      <th>asshole</th>\n",
       "      <th>true_verdict</th>\n",
       "      <th>correct_prediction</th>\n",
       "    </tr>\n",
       "  </thead>\n",
       "  <tbody>\n",
       "    <tr>\n",
       "      <th>0</th>\n",
       "      <td>\\nmy mom pushed me off a cliff after I said I ...</td>\n",
       "      <td>1</td>\n",
       "      <td>1</td>\n",
       "      <td>True</td>\n",
       "    </tr>\n",
       "  </tbody>\n",
       "</table>\n",
       "</div>"
      ],
      "text/plain": [
       "                                                text  asshole  true_verdict  \\\n",
       "0  \\nmy mom pushed me off a cliff after I said I ...        1             1   \n",
       "\n",
       "   correct_prediction  \n",
       "0                True  "
      ]
     },
     "execution_count": 44,
     "metadata": {},
     "output_type": "execute_result"
    }
   ],
   "source": [
    "diag_rfc = Proctologist(model=rfc_sen, sentiment=True, cv=cv).diagnosis(texts)\n",
    "diag_rfc['true_verdict'] = true_verdict\n",
    "diag_rfc['correct_prediction'] = diag_rfc['true_verdict'] == diag_rfc['asshole']\n",
    "diag_rfc"
   ]
  }
 ],
 "metadata": {
  "instance_type": "ml.m5.xlarge",
  "kernelspec": {
   "display_name": "conda_tensorflow2_p36",
   "language": "python",
   "name": "conda_tensorflow2_p36"
  },
  "language_info": {
   "codemirror_mode": {
    "name": "ipython",
    "version": 3
   },
   "file_extension": ".py",
   "mimetype": "text/x-python",
   "name": "python",
   "nbconvert_exporter": "python",
   "pygments_lexer": "ipython3",
   "version": "3.6.13"
  }
 },
 "nbformat": 4,
 "nbformat_minor": 4
}
