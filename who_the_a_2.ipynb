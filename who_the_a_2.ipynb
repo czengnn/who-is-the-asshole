{
 "metadata": {
  "language_info": {
   "codemirror_mode": {
    "name": "ipython",
    "version": 3
   },
   "file_extension": ".py",
   "mimetype": "text/x-python",
   "name": "python",
   "nbconvert_exporter": "python",
   "pygments_lexer": "ipython3",
   "version": "3.9.1-final"
  },
  "orig_nbformat": 2,
  "kernelspec": {
   "name": "python3",
   "display_name": "Python 3.9.1 64-bit ('base': conda)",
   "metadata": {
    "interpreter": {
     "hash": "335a032b630676e775efc24be66b729b6ef649829e6fe66a2743eab08cde9faf"
    }
   }
  }
 },
 "nbformat": 4,
 "nbformat_minor": 2,
 "cells": [
  {
   "cell_type": "code",
   "execution_count": 2,
   "metadata": {},
   "outputs": [],
   "source": [
    "import numpy as np \n",
    "import pandas as pd \n",
    "import matplotlib.pyplot as plt\n",
    "from nltk.corpus import stopwords\n",
    "\n",
    "from sklearn.feature_extraction.text import CountVectorizer\n",
    "from sklearn.model_selection import train_test_split\n",
    "\n",
    "from sklearn.linear_model import LogisticRegression\n",
    "from sklearn.ensemble import RandomForestClassifier\n",
    "from sklearn.decomposition import PCA"
   ]
  },
  {
   "cell_type": "code",
   "execution_count": 6,
   "metadata": {},
   "outputs": [],
   "source": [
    "aita_2 = pd.read_csv('data/aita_save2.csv')"
   ]
  },
  {
   "cell_type": "code",
   "execution_count": 11,
   "metadata": {},
   "outputs": [
    {
     "output_type": "execute_result",
     "data": {
      "text/plain": [
       "                                          body_clean  \\\n",
       "0  here be the post in question   it seem like I ...   \n",
       "1  my parent be diabetic morbidly obese and addic...   \n",
       "2                                          I be four   \n",
       "3                                                      \n",
       "4  I love the musical le miserable a coworker of ...   \n",
       "\n",
       "                                         title_clean  age  sex  body_polarity  \\\n",
       "0    I write an explanation in til and come off a...    0  NaN      -0.156818   \n",
       "1                         throw my parent donut away    0  NaN       0.034848   \n",
       "2           I tell a goth girl she look like a clown    0  NaN       0.000000   \n",
       "3    argument I have with another redditor in rhimym    0  NaN       0.000000   \n",
       "4    have a disagreement about le miserable with ...    0  NaN       0.040104   \n",
       "\n",
       "   body_subjectivity  title_polarity  title_subjectivity  is_asshole  \\\n",
       "0           0.656818             0.0                 0.0           1   \n",
       "1           0.449242             0.0                 0.0           1   \n",
       "2           0.000000             0.0                 0.0           0   \n",
       "3           0.000000             0.0                 0.0           1   \n",
       "4           0.369792             0.0                 0.0           1   \n",
       "\n",
       "           verdict  \n",
       "0          asshole  \n",
       "1          asshole  \n",
       "2  not the asshole  \n",
       "3   everyone sucks  \n",
       "4          asshole  "
      ],
      "text/html": "<div>\n<style scoped>\n    .dataframe tbody tr th:only-of-type {\n        vertical-align: middle;\n    }\n\n    .dataframe tbody tr th {\n        vertical-align: top;\n    }\n\n    .dataframe thead th {\n        text-align: right;\n    }\n</style>\n<table border=\"1\" class=\"dataframe\">\n  <thead>\n    <tr style=\"text-align: right;\">\n      <th></th>\n      <th>body_clean</th>\n      <th>title_clean</th>\n      <th>age</th>\n      <th>sex</th>\n      <th>body_polarity</th>\n      <th>body_subjectivity</th>\n      <th>title_polarity</th>\n      <th>title_subjectivity</th>\n      <th>is_asshole</th>\n      <th>verdict</th>\n    </tr>\n  </thead>\n  <tbody>\n    <tr>\n      <th>0</th>\n      <td>here be the post in question   it seem like I ...</td>\n      <td>I write an explanation in til and come off a...</td>\n      <td>0</td>\n      <td>NaN</td>\n      <td>-0.156818</td>\n      <td>0.656818</td>\n      <td>0.0</td>\n      <td>0.0</td>\n      <td>1</td>\n      <td>asshole</td>\n    </tr>\n    <tr>\n      <th>1</th>\n      <td>my parent be diabetic morbidly obese and addic...</td>\n      <td>throw my parent donut away</td>\n      <td>0</td>\n      <td>NaN</td>\n      <td>0.034848</td>\n      <td>0.449242</td>\n      <td>0.0</td>\n      <td>0.0</td>\n      <td>1</td>\n      <td>asshole</td>\n    </tr>\n    <tr>\n      <th>2</th>\n      <td>I be four</td>\n      <td>I tell a goth girl she look like a clown</td>\n      <td>0</td>\n      <td>NaN</td>\n      <td>0.000000</td>\n      <td>0.000000</td>\n      <td>0.0</td>\n      <td>0.0</td>\n      <td>0</td>\n      <td>not the asshole</td>\n    </tr>\n    <tr>\n      <th>3</th>\n      <td></td>\n      <td>argument I have with another redditor in rhimym</td>\n      <td>0</td>\n      <td>NaN</td>\n      <td>0.000000</td>\n      <td>0.000000</td>\n      <td>0.0</td>\n      <td>0.0</td>\n      <td>1</td>\n      <td>everyone sucks</td>\n    </tr>\n    <tr>\n      <th>4</th>\n      <td>I love the musical le miserable a coworker of ...</td>\n      <td>have a disagreement about le miserable with ...</td>\n      <td>0</td>\n      <td>NaN</td>\n      <td>0.040104</td>\n      <td>0.369792</td>\n      <td>0.0</td>\n      <td>0.0</td>\n      <td>1</td>\n      <td>asshole</td>\n    </tr>\n  </tbody>\n</table>\n</div>"
     },
     "metadata": {},
     "execution_count": 11
    }
   ],
   "source": [
    "aita_2[['']]"
   ]
  },
  {
   "cell_type": "code",
   "execution_count": 7,
   "metadata": {},
   "outputs": [
    {
     "output_type": "error",
     "ename": "NameError",
     "evalue": "name 'aita_X' is not defined",
     "traceback": [
      "\u001b[0;31m---------------------------------------------------------------------------\u001b[0m",
      "\u001b[0;31mNameError\u001b[0m                                 Traceback (most recent call last)",
      "\u001b[0;32m<ipython-input-7-c6e34799fbd2>\u001b[0m in \u001b[0;36m<module>\u001b[0;34m\u001b[0m\n\u001b[0;32m----> 1\u001b[0;31m \u001b[0mX_train\u001b[0m\u001b[0;34m,\u001b[0m \u001b[0mX_test\u001b[0m\u001b[0;34m,\u001b[0m \u001b[0my_train\u001b[0m\u001b[0;34m,\u001b[0m \u001b[0my_test\u001b[0m \u001b[0;34m=\u001b[0m \u001b[0mtrain_test_split\u001b[0m\u001b[0;34m(\u001b[0m\u001b[0maita_X\u001b[0m\u001b[0;34m,\u001b[0m \u001b[0maita_y\u001b[0m\u001b[0;34m,\u001b[0m \u001b[0mstratify\u001b[0m\u001b[0;34m=\u001b[0m\u001b[0maita_y\u001b[0m\u001b[0;34m,\u001b[0m \u001b[0mtest_size\u001b[0m\u001b[0;34m=\u001b[0m\u001b[0;36m0.95\u001b[0m\u001b[0;34m)\u001b[0m\u001b[0;34m\u001b[0m\u001b[0;34m\u001b[0m\u001b[0m\n\u001b[0m",
      "\u001b[0;31mNameError\u001b[0m: name 'aita_X' is not defined"
     ]
    }
   ],
   "source": [
    "X_train, X_test, y_train, y_test = train_test_split(aita_X, aita_y, stratify=aita_y, test_size=0.95)"
   ]
  },
  {
   "cell_type": "code",
   "execution_count": null,
   "metadata": {},
   "outputs": [],
   "source": [
    "X_train.shape, X_test.shape"
   ]
  },
  {
   "cell_type": "code",
   "execution_count": null,
   "metadata": {},
   "outputs": [],
   "source": [
    "stop = set(stopwords.words('english'))\n",
    "title_vec = CountVectorizer(ngram_range=(1,2), stop_words=stop)\n",
    "title_cv = title_vec.fit(title_corpus)\n"
   ]
  },
  {
   "cell_type": "code",
   "execution_count": 10,
   "metadata": {},
   "outputs": [
    {
     "output_type": "error",
     "ename": "NameError",
     "evalue": "name 'title_cv' is not defined",
     "traceback": [
      "\u001b[0;31m---------------------------------------------------------------------------\u001b[0m",
      "\u001b[0;31mNameError\u001b[0m                                 Traceback (most recent call last)",
      "\u001b[0;32m<ipython-input-10-38ccc449fb2b>\u001b[0m in \u001b[0;36m<module>\u001b[0;34m\u001b[0m\n\u001b[0;32m----> 1\u001b[0;31m \u001b[0mtitle_dtm\u001b[0m \u001b[0;34m=\u001b[0m \u001b[0mpd\u001b[0m\u001b[0;34m.\u001b[0m\u001b[0mDataFrame\u001b[0m\u001b[0;34m(\u001b[0m\u001b[0mtitle_cv\u001b[0m\u001b[0;34m.\u001b[0m\u001b[0mtoarray\u001b[0m\u001b[0;34m(\u001b[0m\u001b[0;34m)\u001b[0m\u001b[0;34m,\u001b[0m \u001b[0mcolumns\u001b[0m\u001b[0;34m=\u001b[0m\u001b[0mtitle_vec\u001b[0m\u001b[0;34m.\u001b[0m\u001b[0mget_feature_names\u001b[0m\u001b[0;34m(\u001b[0m\u001b[0;34m)\u001b[0m\u001b[0;34m)\u001b[0m\u001b[0;34m\u001b[0m\u001b[0;34m\u001b[0m\u001b[0m\n\u001b[0m\u001b[1;32m      2\u001b[0m \u001b[0mtitle_word_count\u001b[0m \u001b[0;34m=\u001b[0m \u001b[0mtitle_dtm\u001b[0m\u001b[0;34m.\u001b[0m\u001b[0msum\u001b[0m\u001b[0;34m(\u001b[0m\u001b[0maxis\u001b[0m\u001b[0;34m=\u001b[0m\u001b[0;36m0\u001b[0m\u001b[0;34m)\u001b[0m\u001b[0;34m\u001b[0m\u001b[0;34m\u001b[0m\u001b[0m\n\u001b[1;32m      3\u001b[0m \u001b[0mtitle_word_count\u001b[0m\u001b[0;34m.\u001b[0m\u001b[0msort_values\u001b[0m\u001b[0;34m(\u001b[0m\u001b[0mascending\u001b[0m\u001b[0;34m=\u001b[0m\u001b[0;32mFalse\u001b[0m\u001b[0;34m)\u001b[0m\u001b[0;34m[\u001b[0m\u001b[0;34m:\u001b[0m\u001b[0;36m10\u001b[0m\u001b[0;34m]\u001b[0m\u001b[0;34m\u001b[0m\u001b[0;34m\u001b[0m\u001b[0m\n",
      "\u001b[0;31mNameError\u001b[0m: name 'title_cv' is not defined"
     ]
    }
   ],
   "source": [
    "title_dtm = pd.DataFrame(title_cv.toarray(), columns=title_vec.get_feature_names())\n",
    "title_word_count = title_dtm.sum(axis=0)\n",
    "title_word_count.sort_values(ascending=False)[:10]"
   ]
  },
  {
   "cell_type": "code",
   "execution_count": null,
   "metadata": {},
   "outputs": [],
   "source": [
    "X = pd.concat([X_train[['title_polarity','title_subjectivity']].reset_index(drop=True),title_dtm], axis=1)"
   ]
  },
  {
   "cell_type": "code",
   "execution_count": null,
   "metadata": {},
   "outputs": [],
   "source": [
    "lr = LogisticRegression()\n",
    "lr.fit(X, y_train)"
   ]
  },
  {
   "cell_type": "code",
   "execution_count": null,
   "metadata": {},
   "outputs": [],
   "source": []
  },
  {
   "cell_type": "code",
   "execution_count": null,
   "metadata": {},
   "outputs": [],
   "source": []
  },
  {
   "cell_type": "code",
   "execution_count": null,
   "metadata": {},
   "outputs": [],
   "source": []
  }
 ]
}