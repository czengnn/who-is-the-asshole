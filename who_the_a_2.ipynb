{
 "cells": [
  {
   "cell_type": "code",
   "execution_count": 1,
   "metadata": {},
   "outputs": [],
   "source": [
    "# ! pip install imbalanced-learn\n",
    "# ! pip install lime\n",
    "# nltk.download('stopwords')\n",
    "# ! pip install textblob\n",
    "# ! pip install contractions\n",
    "# ! pip install spacy\n",
    "# ! python -m spacy download en_core_web_sm"
   ]
  },
  {
   "cell_type": "code",
   "execution_count": 1,
   "metadata": {},
   "outputs": [],
   "source": [
    "import numpy as np \n",
    "import pandas as pd \n",
    "import matplotlib.pyplot as plt\n",
    "plt.style.use('dark_background')\n",
    "import seaborn as sns\n",
    "\n",
    "import pickle \n",
    "import imblearn\n",
    "from imblearn.over_sampling import SMOTE\n",
    "from collections import Counter\n",
    "import time\n",
    "\n",
    "import nltk\n",
    "from nltk.corpus import stopwords\n",
    "import lime\n",
    "import lime.lime_tabular\n",
    "\n",
    "from sklearn.feature_extraction.text import CountVectorizer\n",
    "from sklearn.model_selection import train_test_split, cross_val_score\n",
    "from sklearn.metrics import classification_report, confusion_matrix, accuracy_score, f1_score\n",
    "from sklearn.naive_bayes import MultinomialNB\n",
    "\n",
    "from sklearn.linear_model import LogisticRegression\n",
    "from sklearn.ensemble import RandomForestClassifier\n",
    "from sklearn.decomposition import PCA, IncrementalPCA\n",
    "from helpers import *"
   ]
  },
  {
   "cell_type": "markdown",
   "metadata": {},
   "source": [
    "## Load cleaned data\n",
    "combine title and body of text "
   ]
  },
  {
   "cell_type": "code",
   "execution_count": 27,
   "metadata": {},
   "outputs": [
    {
     "data": {
      "text/html": [
       "<div>\n",
       "<style scoped>\n",
       "    .dataframe tbody tr th:only-of-type {\n",
       "        vertical-align: middle;\n",
       "    }\n",
       "\n",
       "    .dataframe tbody tr th {\n",
       "        vertical-align: top;\n",
       "    }\n",
       "\n",
       "    .dataframe thead th {\n",
       "        text-align: right;\n",
       "    }\n",
       "</style>\n",
       "<table border=\"1\" class=\"dataframe\">\n",
       "  <thead>\n",
       "    <tr style=\"text-align: right;\">\n",
       "      <th></th>\n",
       "      <th>body_polarity</th>\n",
       "      <th>body_subjectivity</th>\n",
       "      <th>is_asshole</th>\n",
       "      <th>title_body_combo</th>\n",
       "    </tr>\n",
       "  </thead>\n",
       "  <tbody>\n",
       "    <tr>\n",
       "      <th>0</th>\n",
       "      <td>-0.156818</td>\n",
       "      <td>0.656818</td>\n",
       "      <td>1</td>\n",
       "      <td>I write an explanation in til and come off a...</td>\n",
       "    </tr>\n",
       "    <tr>\n",
       "      <th>1</th>\n",
       "      <td>0.034848</td>\n",
       "      <td>0.449242</td>\n",
       "      <td>1</td>\n",
       "      <td>throw my parent donut awaymy parent be diabe...</td>\n",
       "    </tr>\n",
       "    <tr>\n",
       "      <th>2</th>\n",
       "      <td>0.000000</td>\n",
       "      <td>0.000000</td>\n",
       "      <td>0</td>\n",
       "      <td>I tell a goth girl she look like a clownI be four</td>\n",
       "    </tr>\n",
       "    <tr>\n",
       "      <th>3</th>\n",
       "      <td>0.000000</td>\n",
       "      <td>0.000000</td>\n",
       "      <td>1</td>\n",
       "      <td>argument I have with another redditor in rhi...</td>\n",
       "    </tr>\n",
       "    <tr>\n",
       "      <th>4</th>\n",
       "      <td>0.040104</td>\n",
       "      <td>0.369792</td>\n",
       "      <td>1</td>\n",
       "      <td>have a disagreement about le miserable with ...</td>\n",
       "    </tr>\n",
       "    <tr>\n",
       "      <th>...</th>\n",
       "      <td>...</td>\n",
       "      <td>...</td>\n",
       "      <td>...</td>\n",
       "      <td>...</td>\n",
       "    </tr>\n",
       "    <tr>\n",
       "      <th>97450</th>\n",
       "      <td>0.016111</td>\n",
       "      <td>0.385278</td>\n",
       "      <td>0</td>\n",
       "      <td>for tell my sister she be be a spoiled bratm...</td>\n",
       "    </tr>\n",
       "    <tr>\n",
       "      <th>97451</th>\n",
       "      <td>0.068461</td>\n",
       "      <td>0.474614</td>\n",
       "      <td>0</td>\n",
       "      <td>for tell my husband to f off after he relent...</td>\n",
       "    </tr>\n",
       "    <tr>\n",
       "      <th>97452</th>\n",
       "      <td>-0.076333</td>\n",
       "      <td>0.493467</td>\n",
       "      <td>0</td>\n",
       "      <td>for attempt to keep my student out of adult ...</td>\n",
       "    </tr>\n",
       "    <tr>\n",
       "      <th>97453</th>\n",
       "      <td>0.067130</td>\n",
       "      <td>0.426132</td>\n",
       "      <td>0</td>\n",
       "      <td>if I leave my brother fate up to the statea ...</td>\n",
       "    </tr>\n",
       "    <tr>\n",
       "      <th>97454</th>\n",
       "      <td>-0.007238</td>\n",
       "      <td>0.524378</td>\n",
       "      <td>0</td>\n",
       "      <td>for rock the boat at work because my mentor ...</td>\n",
       "    </tr>\n",
       "  </tbody>\n",
       "</table>\n",
       "<p>97455 rows × 4 columns</p>\n",
       "</div>"
      ],
      "text/plain": [
       "       body_polarity  body_subjectivity  is_asshole  \\\n",
       "0          -0.156818           0.656818           1   \n",
       "1           0.034848           0.449242           1   \n",
       "2           0.000000           0.000000           0   \n",
       "3           0.000000           0.000000           1   \n",
       "4           0.040104           0.369792           1   \n",
       "...              ...                ...         ...   \n",
       "97450       0.016111           0.385278           0   \n",
       "97451       0.068461           0.474614           0   \n",
       "97452      -0.076333           0.493467           0   \n",
       "97453       0.067130           0.426132           0   \n",
       "97454      -0.007238           0.524378           0   \n",
       "\n",
       "                                        title_body_combo  \n",
       "0        I write an explanation in til and come off a...  \n",
       "1        throw my parent donut awaymy parent be diabe...  \n",
       "2      I tell a goth girl she look like a clownI be four  \n",
       "3        argument I have with another redditor in rhi...  \n",
       "4        have a disagreement about le miserable with ...  \n",
       "...                                                  ...  \n",
       "97450    for tell my sister she be be a spoiled bratm...  \n",
       "97451    for tell my husband to f off after he relent...  \n",
       "97452    for attempt to keep my student out of adult ...  \n",
       "97453    if I leave my brother fate up to the statea ...  \n",
       "97454    for rock the boat at work because my mentor ...  \n",
       "\n",
       "[97455 rows x 4 columns]"
      ]
     },
     "execution_count": 27,
     "metadata": {},
     "output_type": "execute_result"
    }
   ],
   "source": [
    "aita_2 = pd.read_csv('data/aita_save2.csv')\n",
    "aita_2.dropna(subset=['body_clean', 'title_clean'], inplace=True)\n",
    "\n",
    "aita = aita_2.loc[:,['body_polarity','body_subjectivity','is_asshole']]\n",
    "aita['title_body_combo'] =  aita_2['title_clean'] + aita_2['body_clean']\n",
    "aita.dropna(inplace=True)\n",
    "aita.reset_index(drop=True)"
   ]
  },
  {
   "cell_type": "markdown",
   "metadata": {},
   "source": [
    "## 1 - train test split"
   ]
  },
  {
   "cell_type": "code",
   "execution_count": 42,
   "metadata": {},
   "outputs": [
    {
     "name": "stdout",
     "output_type": "stream",
     "text": [
      "(96480, 3) (975, 3)\n"
     ]
    }
   ],
   "source": [
    "X = aita.drop('is_asshole', axis=1)\n",
    "y = aita['is_asshole']\n",
    "X_train, X_test, y_train, y_test = train_test_split(X, y, stratify=y, test_size=0.01, random_state=11)\n",
    "print(X_train.shape, X_test.shape)"
   ]
  },
  {
   "cell_type": "code",
   "execution_count": 44,
   "metadata": {},
   "outputs": [
    {
     "data": {
      "text/plain": [
       "Counter({1: 26446, 0: 71009})"
      ]
     },
     "execution_count": 44,
     "metadata": {},
     "output_type": "execute_result"
    }
   ],
   "source": [
    "Counter(y)"
   ]
  },
  {
   "cell_type": "markdown",
   "metadata": {},
   "source": [
    "## 2 - Instantiate CountVectorizer "
   ]
  },
  {
   "cell_type": "code",
   "execution_count": 19,
   "metadata": {},
   "outputs": [],
   "source": [
    "stop = set(stopwords.words('english'))\n",
    "vec = CountVectorizer(stop_words=stop, min_df=0.005, max_df=0.8, ngram_range=(1, 2))\n",
    "cv = vec.fit(X_train['title_body_combo'])\n",
    "len(vec.get_feature_names())"
   ]
  },
  {
   "cell_type": "markdown",
   "metadata": {},
   "source": [
    "#### (Save / load fitted CountVectorizer)"
   ]
  },
  {
   "cell_type": "code",
   "execution_count": 21,
   "metadata": {},
   "outputs": [],
   "source": [
    "# pickle.dump(cv, open('models/cv_fit_train.sav', 'wb'))\n",
    "# cv = pickle.load(open('models/cv_fit_train.sav', 'rb'))"
   ]
  },
  {
   "cell_type": "markdown",
   "metadata": {},
   "source": [
    "### 2.a Transform train and test data into document-term-matrix with CountVectorizer"
   ]
  },
  {
   "cell_type": "code",
   "execution_count": 32,
   "metadata": {},
   "outputs": [],
   "source": [
    "cv_train = cv.transform(X_train['title_body_combo'])\n",
    "cv_test = cv.transform(X_test['title_body_combo'])"
   ]
  },
  {
   "cell_type": "code",
   "execution_count": 33,
   "metadata": {},
   "outputs": [],
   "source": [
    "cv_cols = cv.get_feature_names()\n",
    "dtm_train = pd.DataFrame(cv_train.toarray(), columns=cv_cols, index=X_train.index)\n",
    "dtm_test = pd.DataFrame(cv_test.toarray(), columns=cv_cols, index=X_test.index)"
   ]
  },
  {
   "cell_type": "code",
   "execution_count": 34,
   "metadata": {},
   "outputs": [
    {
     "data": {
      "text/plain": [
       "get       228922\n",
       "go        198113\n",
       "say       197408\n",
       "tell      169258\n",
       "would     165609\n",
       "want      159291\n",
       "like      139417\n",
       "friend    132208\n",
       "time      122214\n",
       "know      108087\n",
       "dtype: int64"
      ]
     },
     "execution_count": 34,
     "metadata": {},
     "output_type": "execute_result"
    }
   ],
   "source": [
    "train_word_count = dtm_train.sum(axis=0)\n",
    "train_word_count.sort_values(ascending=False)[:10]"
   ]
  },
  {
   "cell_type": "code",
   "execution_count": 35,
   "metadata": {},
   "outputs": [
    {
     "data": {
      "text/plain": [
       "((96480, 3850), (975, 3850))"
      ]
     },
     "execution_count": 35,
     "metadata": {},
     "output_type": "execute_result"
    }
   ],
   "source": [
    "# ((96480, 44051), (975, 44051))\n",
    "dtm_train.shape, dtm_test.shape"
   ]
  },
  {
   "cell_type": "markdown",
   "metadata": {},
   "source": [
    "## 3 - PCA"
   ]
  },
  {
   "cell_type": "code",
   "execution_count": 19,
   "metadata": {},
   "outputs": [
    {
     "name": "stdout",
     "output_type": "stream",
     "text": [
      "0.8710371626672853\n"
     ]
    }
   ],
   "source": [
    "# pca = IncrementalPCA(n_components=1000, batch_size=1050)\n",
    "# pca.fit(dtm_train)\n",
    "# print(pca.explained_variance_ratio_.sum())"
   ]
  },
  {
   "cell_type": "markdown",
   "metadata": {},
   "source": [
    "#### Save / Load fitted PCA"
   ]
  },
  {
   "cell_type": "code",
   "execution_count": 29,
   "metadata": {},
   "outputs": [
    {
     "data": {
      "text/plain": [
       "IncrementalPCA(batch_size=1050, n_components=1000)"
      ]
     },
     "execution_count": 29,
     "metadata": {},
     "output_type": "execute_result"
    }
   ],
   "source": [
    "# pickle.dump(pca, open('models/pca_combo.sav', 'wb'))\n",
    "pca = pickle.load(open('models/pca_combo.sav', 'rb'))\n",
    "pca"
   ]
  },
  {
   "cell_type": "markdown",
   "metadata": {},
   "source": [
    "### 3.a Scree plot, check number of components is appropriate"
   ]
  },
  {
   "cell_type": "code",
   "execution_count": 30,
   "metadata": {},
   "outputs": [
    {
     "data": {
      "image/png": "[encoded data removed]",
      "text/plain": [
       "<Figure size 432x288 with 1 Axes>"
      ]
     },
     "metadata": {},
     "output_type": "display_data"
    }
   ],
   "source": [
    "plt.plot(np.cumsum(pca.explained_variance_ratio_))\n",
    "plt.xlabel('number of components')\n",
    "plt.ylabel('cumulative explained variance')\n",
    "plt.title('PCA Scree Plot')\n",
    "evr = pca.explained_variance_ratio_\n",
    "cvr = np.cumsum(pca.explained_variance_ratio_)\n",
    "pca_df = pd.DataFrame()\n",
    "pca_df['Cumulative Variance Ratio'] = cvr\n",
    "pca_df['Explained Variance Ratio'] = evr\n",
    "# display(pca_df.head(10))"
   ]
  },
  {
   "cell_type": "markdown",
   "metadata": {},
   "source": [
    "### 3.b - Transform train/test Document-Term-matrix with PCA"
   ]
  },
  {
   "cell_type": "code",
   "execution_count": 36,
   "metadata": {},
   "outputs": [],
   "source": [
    "dtm_train_pca = pca.transform(dtm_train)\n",
    "dtm_test_pca = pca.transform(dtm_test)"
   ]
  },
  {
   "cell_type": "markdown",
   "metadata": {},
   "source": [
    "Build DataFrame of PCA Components"
   ]
  },
  {
   "cell_type": "code",
   "execution_count": 37,
   "metadata": {},
   "outputs": [],
   "source": [
    "col_names = ['PC_' + str(i) for i in range(1, pca.get_params()['n_components']+1)]\n",
    "dtm_train_pca_df = pd.DataFrame(dtm_train_pca, columns=col_names, index=dtm_train.index)\n",
    "dtm_test_pca_df = pd.DataFrame(dtm_test_pca, columns=col_names, index=dtm_test.index)"
   ]
  },
  {
   "cell_type": "markdown",
   "metadata": {},
   "source": [
    "Combine PCA components and sentiment analysis scores into one DataFrame"
   ]
  },
  {
   "cell_type": "code",
   "execution_count": 38,
   "metadata": {},
   "outputs": [],
   "source": [
    "X_train_post_dtm_pca = pd.concat([X_train[['body_polarity','body_subjectivity']], dtm_train_pca_df], axis=1)\n",
    "X_test_post_dtm_pca = pd.concat([X_test[['body_polarity','body_subjectivity']],dtm_test_pca_df], axis=1)"
   ]
  },
  {
   "cell_type": "code",
   "execution_count": 39,
   "metadata": {},
   "outputs": [
    {
     "data": {
      "text/html": [
       "<div>\n",
       "<style scoped>\n",
       "    .dataframe tbody tr th:only-of-type {\n",
       "        vertical-align: middle;\n",
       "    }\n",
       "\n",
       "    .dataframe tbody tr th {\n",
       "        vertical-align: top;\n",
       "    }\n",
       "\n",
       "    .dataframe thead th {\n",
       "        text-align: right;\n",
       "    }\n",
       "</style>\n",
       "<table border=\"1\" class=\"dataframe\">\n",
       "  <thead>\n",
       "    <tr style=\"text-align: right;\">\n",
       "      <th></th>\n",
       "      <th>body_polarity</th>\n",
       "      <th>body_subjectivity</th>\n",
       "      <th>PC_1</th>\n",
       "      <th>PC_2</th>\n",
       "      <th>PC_3</th>\n",
       "      <th>PC_4</th>\n",
       "      <th>PC_5</th>\n",
       "      <th>PC_6</th>\n",
       "      <th>PC_7</th>\n",
       "      <th>PC_8</th>\n",
       "      <th>...</th>\n",
       "      <th>PC_991</th>\n",
       "      <th>PC_992</th>\n",
       "      <th>PC_993</th>\n",
       "      <th>PC_994</th>\n",
       "      <th>PC_995</th>\n",
       "      <th>PC_996</th>\n",
       "      <th>PC_997</th>\n",
       "      <th>PC_998</th>\n",
       "      <th>PC_999</th>\n",
       "      <th>PC_1000</th>\n",
       "    </tr>\n",
       "  </thead>\n",
       "  <tbody>\n",
       "    <tr>\n",
       "      <th>10404</th>\n",
       "      <td>0.089698</td>\n",
       "      <td>0.382755</td>\n",
       "      <td>6.721061</td>\n",
       "      <td>3.945245</td>\n",
       "      <td>-3.471639</td>\n",
       "      <td>-2.540806</td>\n",
       "      <td>-1.755792</td>\n",
       "      <td>-1.530580</td>\n",
       "      <td>-4.131935</td>\n",
       "      <td>3.995938</td>\n",
       "      <td>...</td>\n",
       "      <td>0.247410</td>\n",
       "      <td>0.112819</td>\n",
       "      <td>-0.221178</td>\n",
       "      <td>0.358408</td>\n",
       "      <td>0.121966</td>\n",
       "      <td>0.925809</td>\n",
       "      <td>-0.304316</td>\n",
       "      <td>0.440954</td>\n",
       "      <td>0.425969</td>\n",
       "      <td>0.257728</td>\n",
       "    </tr>\n",
       "    <tr>\n",
       "      <th>46696</th>\n",
       "      <td>-0.140000</td>\n",
       "      <td>0.601585</td>\n",
       "      <td>5.761562</td>\n",
       "      <td>0.596871</td>\n",
       "      <td>-2.237162</td>\n",
       "      <td>-3.185774</td>\n",
       "      <td>-1.131865</td>\n",
       "      <td>-2.262611</td>\n",
       "      <td>-2.888901</td>\n",
       "      <td>0.091407</td>\n",
       "      <td>...</td>\n",
       "      <td>-0.314662</td>\n",
       "      <td>0.072516</td>\n",
       "      <td>-0.014814</td>\n",
       "      <td>-0.019344</td>\n",
       "      <td>-0.070520</td>\n",
       "      <td>-0.195476</td>\n",
       "      <td>-0.211167</td>\n",
       "      <td>0.320596</td>\n",
       "      <td>-0.209645</td>\n",
       "      <td>0.665674</td>\n",
       "    </tr>\n",
       "    <tr>\n",
       "      <th>94429</th>\n",
       "      <td>0.034758</td>\n",
       "      <td>0.575265</td>\n",
       "      <td>1.966241</td>\n",
       "      <td>-1.712639</td>\n",
       "      <td>-0.909869</td>\n",
       "      <td>0.264536</td>\n",
       "      <td>0.921555</td>\n",
       "      <td>5.895030</td>\n",
       "      <td>1.228308</td>\n",
       "      <td>-1.104063</td>\n",
       "      <td>...</td>\n",
       "      <td>-0.137693</td>\n",
       "      <td>0.266202</td>\n",
       "      <td>0.027230</td>\n",
       "      <td>0.108337</td>\n",
       "      <td>0.118239</td>\n",
       "      <td>-0.208619</td>\n",
       "      <td>0.185121</td>\n",
       "      <td>0.059169</td>\n",
       "      <td>0.201602</td>\n",
       "      <td>0.008044</td>\n",
       "    </tr>\n",
       "    <tr>\n",
       "      <th>32916</th>\n",
       "      <td>-0.009470</td>\n",
       "      <td>0.545676</td>\n",
       "      <td>-0.266428</td>\n",
       "      <td>0.267073</td>\n",
       "      <td>2.156327</td>\n",
       "      <td>-2.304956</td>\n",
       "      <td>-2.705226</td>\n",
       "      <td>-2.705801</td>\n",
       "      <td>-0.498127</td>\n",
       "      <td>0.245638</td>\n",
       "      <td>...</td>\n",
       "      <td>0.249692</td>\n",
       "      <td>-0.153850</td>\n",
       "      <td>0.602140</td>\n",
       "      <td>0.090367</td>\n",
       "      <td>0.155175</td>\n",
       "      <td>-0.365895</td>\n",
       "      <td>0.125291</td>\n",
       "      <td>-0.052552</td>\n",
       "      <td>0.576324</td>\n",
       "      <td>0.068642</td>\n",
       "    </tr>\n",
       "    <tr>\n",
       "      <th>90078</th>\n",
       "      <td>0.196644</td>\n",
       "      <td>0.494792</td>\n",
       "      <td>2.398379</td>\n",
       "      <td>-0.615294</td>\n",
       "      <td>-0.211558</td>\n",
       "      <td>-3.215111</td>\n",
       "      <td>-1.241750</td>\n",
       "      <td>1.164917</td>\n",
       "      <td>4.107578</td>\n",
       "      <td>2.698774</td>\n",
       "      <td>...</td>\n",
       "      <td>0.196581</td>\n",
       "      <td>-0.242619</td>\n",
       "      <td>-0.278308</td>\n",
       "      <td>-0.118178</td>\n",
       "      <td>0.125242</td>\n",
       "      <td>0.219422</td>\n",
       "      <td>0.074999</td>\n",
       "      <td>-0.049525</td>\n",
       "      <td>0.260460</td>\n",
       "      <td>0.220446</td>\n",
       "    </tr>\n",
       "  </tbody>\n",
       "</table>\n",
       "<p>5 rows × 1002 columns</p>\n",
       "</div>"
      ],
      "text/plain": [
       "       body_polarity  body_subjectivity      PC_1      PC_2      PC_3  \\\n",
       "10404       0.089698           0.382755  6.721061  3.945245 -3.471639   \n",
       "46696      -0.140000           0.601585  5.761562  0.596871 -2.237162   \n",
       "94429       0.034758           0.575265  1.966241 -1.712639 -0.909869   \n",
       "32916      -0.009470           0.545676 -0.266428  0.267073  2.156327   \n",
       "90078       0.196644           0.494792  2.398379 -0.615294 -0.211558   \n",
       "\n",
       "           PC_4      PC_5      PC_6      PC_7      PC_8  ...    PC_991  \\\n",
       "10404 -2.540806 -1.755792 -1.530580 -4.131935  3.995938  ...  0.247410   \n",
       "46696 -3.185774 -1.131865 -2.262611 -2.888901  0.091407  ... -0.314662   \n",
       "94429  0.264536  0.921555  5.895030  1.228308 -1.104063  ... -0.137693   \n",
       "32916 -2.304956 -2.705226 -2.705801 -0.498127  0.245638  ...  0.249692   \n",
       "90078 -3.215111 -1.241750  1.164917  4.107578  2.698774  ...  0.196581   \n",
       "\n",
       "         PC_992    PC_993    PC_994    PC_995    PC_996    PC_997    PC_998  \\\n",
       "10404  0.112819 -0.221178  0.358408  0.121966  0.925809 -0.304316  0.440954   \n",
       "46696  0.072516 -0.014814 -0.019344 -0.070520 -0.195476 -0.211167  0.320596   \n",
       "94429  0.266202  0.027230  0.108337  0.118239 -0.208619  0.185121  0.059169   \n",
       "32916 -0.153850  0.602140  0.090367  0.155175 -0.365895  0.125291 -0.052552   \n",
       "90078 -0.242619 -0.278308 -0.118178  0.125242  0.219422  0.074999 -0.049525   \n",
       "\n",
       "         PC_999   PC_1000  \n",
       "10404  0.425969  0.257728  \n",
       "46696 -0.209645  0.665674  \n",
       "94429  0.201602  0.008044  \n",
       "32916  0.576324  0.068642  \n",
       "90078  0.260460  0.220446  \n",
       "\n",
       "[5 rows x 1002 columns]"
      ]
     },
     "execution_count": 39,
     "metadata": {},
     "output_type": "execute_result"
    }
   ],
   "source": [
    "X_train_post_dtm_pca.head()"
   ]
  },
  {
   "cell_type": "code",
   "execution_count": 40,
   "metadata": {},
   "outputs": [
    {
     "name": "stdout",
     "output_type": "stream",
     "text": [
      "(96480, 1002) (96480,)\n",
      "(975, 1002) (975,)\n"
     ]
    }
   ],
   "source": [
    "print(X_train_post_dtm_pca.shape, y_train.shape)\n",
    "print(X_test_post_dtm_pca.shape, y_test.shape)"
   ]
  },
  {
   "cell_type": "markdown",
   "metadata": {},
   "source": [
    "#### 3.c Oversample minority class with SMOTE"
   ]
  },
  {
   "cell_type": "code",
   "execution_count": 41,
   "metadata": {},
   "outputs": [
    {
     "data": {
      "text/plain": [
       "Counter({0: 70299, 1: 70299})"
      ]
     },
     "execution_count": 41,
     "metadata": {},
     "output_type": "execute_result"
    }
   ],
   "source": [
    "oversample = SMOTE()\n",
    "X_train_smote, y_train_smote = oversample.fit_resample(X_train_post_dtm_pca, y_train)\n",
    "Counter(y_train_smote)"
   ]
  },
  {
   "cell_type": "markdown",
   "metadata": {},
   "source": [
    "# Models"
   ]
  },
  {
   "cell_type": "markdown",
   "metadata": {},
   "source": [
    "## 1 - Random Forest Models"
   ]
  },
  {
   "cell_type": "markdown",
   "metadata": {},
   "source": [
    "### 1.a Vanilla Random Forest, no tuning hyperparameters "
   ]
  },
  {
   "cell_type": "code",
   "execution_count": 24,
   "metadata": {},
   "outputs": [
    {
     "name": "stdout",
     "output_type": "stream",
     "text": [
      "2.407271953423818\n"
     ]
    }
   ],
   "source": [
    "start = time.time()\n",
    "rfc = RandomForestClassifier(n_jobs=-1)\n",
    "rfc.fit(X_train_smote, y_train_smote)\n",
    "end = time.time()\n",
    "print((end-start)/60)"
   ]
  },
  {
   "cell_type": "code",
   "execution_count": 26,
   "metadata": {},
   "outputs": [
    {
     "name": "stdout",
     "output_type": "stream",
     "text": [
      "[[70299     0]\n",
      " [    0 70299]]\n",
      "F1 Score = 1.0\n",
      "Accuracy Score = 1.0\n"
     ]
    }
   ],
   "source": [
    "y_pred_train = rfc.predict(X_train_smote)\n",
    "print(confusion_matrix(y_train_smote,y_pred_train))\n",
    "# print(classification_report(y_train,y_pred_train))\n",
    "print(f'F1 Score = {f1_score(y_train_smote,y_pred_train)}')\n",
    "print(f'Accuracy Score = {accuracy_score(y_train_smote,y_pred_train)}')"
   ]
  },
  {
   "cell_type": "code",
   "execution_count": 27,
   "metadata": {},
   "outputs": [
    {
     "name": "stdout",
     "output_type": "stream",
     "text": [
      "[[614  96]\n",
      " [229  36]]\n",
      "F1 Score = 0.181360201511335\n",
      "Accuracy Score = 0.6666666666666666\n"
     ]
    }
   ],
   "source": [
    "y_pred_test = rfc.predict(X_test_post_dtm_pca)\n",
    "print(confusion_matrix(y_test,y_pred_test))\n",
    "# print(classification_report(y_test,y_pred_test))\n",
    "print(f'F1 Score = {f1_score(y_test,y_pred_test)}')\n",
    "print(f'Accuracy Score = {accuracy_score(y_test,y_pred_test)}')"
   ]
  },
  {
   "cell_type": "markdown",
   "metadata": {},
   "source": [
    "### 1.b weighted random forest"
   ]
  },
  {
   "cell_type": "code",
   "execution_count": 28,
   "metadata": {},
   "outputs": [
    {
     "name": "stdout",
     "output_type": "stream",
     "text": [
      "10.862314200401306\n"
     ]
    }
   ],
   "source": [
    "start = time.time()\n",
    "rfc2 = RandomForestClassifier(n_jobs=-1, max_depth=50, n_estimators=500)\n",
    "rfc2.fit(X_train_smote, y_train_smote)\n",
    "end = time.time()\n",
    "print((end-start)/60)"
   ]
  },
  {
   "cell_type": "code",
   "execution_count": 29,
   "metadata": {},
   "outputs": [
    {
     "name": "stdout",
     "output_type": "stream",
     "text": [
      "[[70182   117]\n",
      " [    0 70299]]\n",
      "F1 Score = 0.9991685321394307\n",
      "Accuracy Score = 0.9991678402253232\n"
     ]
    }
   ],
   "source": [
    "y_pred_train_2 = rfc2.predict(X_train_smote)\n",
    "print(confusion_matrix(y_train_smote,y_pred_train_2))\n",
    "# print(classification_report(y_train,y_pred_train_2))\n",
    "print(f'F1 Score = {f1_score(y_train_smote,y_pred_train_2)}')\n",
    "print(f'Accuracy Score = {accuracy_score(y_train_smote,y_pred_train_2)}')"
   ]
  },
  {
   "cell_type": "code",
   "execution_count": 30,
   "metadata": {},
   "outputs": [
    {
     "name": "stdout",
     "output_type": "stream",
     "text": [
      "[[615  95]\n",
      " [229  36]]\n",
      "F1 Score = 0.18181818181818182\n",
      "Accuracy Score = 0.6676923076923077\n"
     ]
    }
   ],
   "source": [
    "y_pred_test_2 = rfc2.predict(X_test_post_dtm_pca)\n",
    "print(confusion_matrix(y_test,y_pred_test_2))\n",
    "# print(classification_report(y_test,y_pred_test_2))\n",
    "print(f'F1 Score = {f1_score(y_test,y_pred_test_2)}')\n",
    "print(f'Accuracy Score = {accuracy_score(y_test,y_pred_test_2)}')"
   ]
  },
  {
   "cell_type": "markdown",
   "metadata": {},
   "source": [
    "## 2 - Logistic Regression"
   ]
  },
  {
   "cell_type": "code",
   "execution_count": 42,
   "metadata": {},
   "outputs": [
    {
     "name": "stdout",
     "output_type": "stream",
     "text": [
      "0.17628188133239747\n"
     ]
    }
   ],
   "source": [
    "start = time.time()\n",
    "\n",
    "lr = LogisticRegression(max_iter=1000)\n",
    "lr.fit(X_train_smote, y_train_smote)\n",
    "\n",
    "end = time.time()\n",
    "print((end-start)/60)"
   ]
  },
  {
   "cell_type": "code",
   "execution_count": 45,
   "metadata": {},
   "outputs": [],
   "source": [
    "pickle.dump(lr, open('models/lr.sav', 'wb'))"
   ]
  },
  {
   "cell_type": "code",
   "execution_count": 43,
   "metadata": {},
   "outputs": [
    {
     "name": "stdout",
     "output_type": "stream",
     "text": [
      "[[41760 28539]\n",
      " [20638 49661]]\n",
      "F1 Score = 0.668839520804854\n",
      "Accuracy Score = 0.6502297329976244\n"
     ]
    }
   ],
   "source": [
    "y_pred_train_lr = lr.predict(X_train_smote)\n",
    "print(confusion_matrix(y_train_smote,y_pred_train_lr))\n",
    "# print(classification_report(y_train,y_pred_train_lr))\n",
    "print(f'F1 Score = {f1_score(y_train_smote,y_pred_train_lr)}')\n",
    "print(f'Accuracy Score = {accuracy_score(y_train_smote,y_pred_train_lr)}')"
   ]
  },
  {
   "cell_type": "code",
   "execution_count": 44,
   "metadata": {},
   "outputs": [
    {
     "name": "stdout",
     "output_type": "stream",
     "text": [
      "[[409 301]\n",
      " [122 143]]\n",
      "F1 Score = 0.40338504936530317\n",
      "Accuracy Score = 0.5661538461538461\n"
     ]
    }
   ],
   "source": [
    "y_pred_test_lr = lr.predict(X_test_post_dtm_pca)\n",
    "print(confusion_matrix(y_test,y_pred_test_lr))\n",
    "# print(classification_report(y_test,y_pred_test_lr))\n",
    "print(f'F1 Score = {f1_score(y_test,y_pred_test_lr)}')\n",
    "print(f'Accuracy Score = {accuracy_score(y_test,y_pred_test_lr)}')"
   ]
  },
  {
   "cell_type": "markdown",
   "metadata": {},
   "source": [
    "#### 2.b Logistic Regression with dtm "
   ]
  },
  {
   "cell_type": "code",
   "execution_count": 74,
   "metadata": {},
   "outputs": [
    {
     "name": "stdout",
     "output_type": "stream",
     "text": [
      "2.077534731229146\n"
     ]
    }
   ],
   "source": [
    "start = time.time()\n",
    "\n",
    "lr_dtm = LogisticRegression(max_iter=500)\n",
    "lr_dtm.fit(X_train_dtm_smote, y_train_smote)\n",
    "\n",
    "end = time.time()\n",
    "print((end-start)/60)"
   ]
  },
  {
   "cell_type": "code",
   "execution_count": 76,
   "metadata": {},
   "outputs": [
    {
     "name": "stdout",
     "output_type": "stream",
     "text": [
      "[[55851 14448]\n",
      " [16430 53869]]\n",
      "F1 Score = 0.7772407225717088\n",
      "Accuracy Score = 0.7803809442524076\n"
     ]
    }
   ],
   "source": [
    "y_pred_train_lr = lr_dtm.predict(X_train_dtm_smote)\n",
    "print(confusion_matrix(y_train_smote,y_pred_train_lr))\n",
    "# print(classification_report(y_train,y_pred_train_lr))\n",
    "print(f'F1 Score = {f1_score(y_train_smote,y_pred_train_lr)}')\n",
    "print(f'Accuracy Score = {accuracy_score(y_train_smote,y_pred_train_lr)}')"
   ]
  },
  {
   "cell_type": "code",
   "execution_count": 77,
   "metadata": {},
   "outputs": [
    {
     "name": "stdout",
     "output_type": "stream",
     "text": [
      "[[531 179]\n",
      " [168  97]]\n",
      "F1 Score = 0.3585951940850277\n",
      "Accuracy Score = 0.6441025641025641\n"
     ]
    }
   ],
   "source": [
    "y_pred_test_lr = lr_dtm.predict(dtm_test)\n",
    "print(confusion_matrix(y_test,y_pred_test_lr))\n",
    "# print(classification_report(y_test,y_pred_test_lr))\n",
    "print(f'F1 Score = {f1_score(y_test,y_pred_test_lr)}')\n",
    "print(f'Accuracy Score = {accuracy_score(y_test,y_pred_test_lr)}')"
   ]
  },
  {
   "cell_type": "markdown",
   "metadata": {},
   "source": [
    "## 3. Naive Bayes"
   ]
  },
  {
   "cell_type": "code",
   "execution_count": 67,
   "metadata": {},
   "outputs": [
    {
     "data": {
      "text/plain": [
       "10404    0\n",
       "46696    1\n",
       "94429    0\n",
       "32916    0\n",
       "90078    0\n",
       "        ..\n",
       "55624    0\n",
       "60224    0\n",
       "50582    1\n",
       "33799    0\n",
       "7920     1\n",
       "Name: is_asshole, Length: 96480, dtype: int64"
      ]
     },
     "execution_count": 67,
     "metadata": {},
     "output_type": "execute_result"
    }
   ],
   "source": [
    "y_train"
   ]
  },
  {
   "cell_type": "code",
   "execution_count": 66,
   "metadata": {},
   "outputs": [
    {
     "data": {
      "text/plain": [
       "Counter({0: 70299, 1: 70299})"
      ]
     },
     "execution_count": 66,
     "metadata": {},
     "output_type": "execute_result"
    }
   ],
   "source": [
    "oversample = SMOTE()\n",
    "X_train_dtm_smote, y_train_smote = oversample.fit_resample(dtm_train, y_train)\n",
    "Counter(y_train_smote)"
   ]
  },
  {
   "cell_type": "code",
   "execution_count": 68,
   "metadata": {},
   "outputs": [
    {
     "data": {
      "text/plain": [
       "MultinomialNB()"
      ]
     },
     "execution_count": 68,
     "metadata": {},
     "output_type": "execute_result"
    }
   ],
   "source": [
    "nb = MultinomialNB()\n",
    "nb.fit(X_train_dtm_smote, y_train_smote)"
   ]
  },
  {
   "cell_type": "code",
   "execution_count": 69,
   "metadata": {},
   "outputs": [
    {
     "name": "stdout",
     "output_type": "stream",
     "text": [
      "[[51295 19004]\n",
      " [18088 52211]]\n",
      "F1 Score = 0.7378916573625224\n",
      "Accuracy Score = 0.7361840139973541\n"
     ]
    }
   ],
   "source": [
    "y_pred_train_nb = nb.predict(X_train_dtm_smote)\n",
    "print(confusion_matrix(y_train_smote,y_pred_train_nb))\n",
    "# print(classification_report(y_train,y_pred_train_nb))\n",
    "print(f'F1 Score = {f1_score(y_train_smote,y_pred_train_nb)}')\n",
    "print(f'Accuracy Score = {accuracy_score(y_train_smote,y_pred_train_nb)}')"
   ]
  },
  {
   "cell_type": "code",
   "execution_count": 70,
   "metadata": {},
   "outputs": [
    {
     "name": "stdout",
     "output_type": "stream",
     "text": [
      "[[511 199]\n",
      " [158 107]]\n",
      "F1 Score = 0.37478108581436076\n",
      "Accuracy Score = 0.6338461538461538\n"
     ]
    }
   ],
   "source": [
    "y_pred_test_nb = nb.predict(dtm_test)\n",
    "print(confusion_matrix(y_test,y_pred_test_nb))\n",
    "# print(classification_report(y_test,y_pred_test_nb))\n",
    "print(f'F1 Score = {f1_score(y_test,y_pred_test_nb)}')\n",
    "print(f'Accuracy Score = {accuracy_score(y_test,y_pred_test_nb)}')"
   ]
  },
  {
   "cell_type": "code",
   "execution_count": null,
   "metadata": {},
   "outputs": [],
   "source": []
  },
  {
   "cell_type": "code",
   "execution_count": null,
   "metadata": {},
   "outputs": [],
   "source": []
  },
  {
   "cell_type": "code",
   "execution_count": null,
   "metadata": {},
   "outputs": [],
   "source": []
  },
  {
   "cell_type": "markdown",
   "metadata": {},
   "source": [
    "## Trying Predictions"
   ]
  },
  {
   "cell_type": "code",
   "execution_count": 2,
   "metadata": {},
   "outputs": [],
   "source": [
    "procto = Proctologist()"
   ]
  },
  {
   "cell_type": "code",
   "execution_count": 25,
   "metadata": {},
   "outputs": [],
   "source": [
    "texts = ['I pushed my mom off a cliff, and my whole family is mad at me, but I don\\'t feel bad about it, aita?',\n",
    "        'My boyfriend cheated on me, so I kicked him out of the house I own, he threatened to call the police, and I told him to leave me alone.', \n",
    "        'I cheated on my boyfriend and he kicked me out of his house, I broke in in the middle of night, I did not pay rent.',\n",
    "        'I talked to my ex on a regular basis, and my girlfriend isn\\'t happy about it, she said she\\'s going to leave me', \n",
    "        'my biological parents spent years looking for me, but I am happy with my adoptive parents and consider them my real family, I don\\'t want to have any contact with my biological parents after they abandoned me']"
   ]
  },
  {
   "cell_type": "code",
   "execution_count": 26,
   "metadata": {},
   "outputs": [
    {
     "data": {
      "text/plain": [
       "array([1, 0, 1, 1, 1])"
      ]
     },
     "execution_count": 26,
     "metadata": {},
     "output_type": "execute_result"
    }
   ],
   "source": [
    "procto.judgement(texts)"
   ]
  },
  {
   "cell_type": "code",
   "execution_count": null,
   "metadata": {},
   "outputs": [],
   "source": []
  }
 ],
 "metadata": {
  "instance_type": "ml.m5.xlarge",
  "kernelspec": {
   "display_name": "conda_tensorflow2_p36",
   "language": "python",
   "name": "conda_tensorflow2_p36"
  },
  "language_info": {
   "codemirror_mode": {
    "name": "ipython",
    "version": 3
   },
   "file_extension": ".py",
   "mimetype": "text/x-python",
   "name": "python",
   "nbconvert_exporter": "python",
   "pygments_lexer": "ipython3",
   "version": "3.6.13"
  }
 },
 "nbformat": 4,
 "nbformat_minor": 4
}
